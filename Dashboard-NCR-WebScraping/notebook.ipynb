{
 "cells": [
  {
   "cell_type": "markdown",
   "metadata": {},
   "source": [
    "# Importar bibliotecas a serem utilizadas"
   ]
  },
  {
   "cell_type": "code",
   "execution_count": 165,
   "metadata": {},
   "outputs": [],
   "source": [
    "import pandas as pd\n",
    "import datetime\n",
    "from bs4 import BeautifulSoup\n",
    "import requests\n",
    "import re\n",
    "import selenium\n",
    "import locale\n",
    "from selenium import webdriver\n",
    "from selenium.webdriver.common.by import By\n",
    "from selenium.webdriver.chrome.options import Options"
   ]
  },
  {
   "cell_type": "markdown",
   "metadata": {},
   "source": [
    "# Inicializar selenium"
   ]
  },
  {
   "cell_type": "code",
   "execution_count": 166,
   "metadata": {},
   "outputs": [],
   "source": [
    "options = Options()\n",
    "#options.add_argument(\"--headless\")\n",
    "options.add_argument(\"--window-size=400x800\")"
   ]
  },
  {
   "cell_type": "markdown",
   "metadata": {},
   "source": [
    "## Inicializar chrome"
   ]
  },
  {
   "cell_type": "code",
   "execution_count": null,
   "metadata": {},
   "outputs": [],
   "source": [
    "driver = webdriver.Chrome(options=options)"
   ]
  },
  {
   "cell_type": "markdown",
   "metadata": {},
   "source": [
    "# Configurar Locale"
   ]
  },
  {
   "cell_type": "code",
   "execution_count": 167,
   "metadata": {},
   "outputs": [
    {
     "data": {
      "text/plain": [
       "'pt_PT.UTF-8'"
      ]
     },
     "execution_count": 167,
     "metadata": {},
     "output_type": "execute_result"
    }
   ],
   "source": [
    "locale.setlocale(locale.LC_ALL, 'pt_PT.UTF-8')"
   ]
  },
  {
   "cell_type": "markdown",
   "metadata": {},
   "source": [
    "# Inicialização de variáveis"
   ]
  },
  {
   "cell_type": "code",
   "execution_count": 168,
   "metadata": {},
   "outputs": [],
   "source": [
    "URL ='https://www.ncrangola.com/loja/particulares/pt/350-informatica#/page-{pagina}'\n"
   ]
  },
  {
   "cell_type": "markdown",
   "metadata": {},
   "source": [
    "# Funções  auxiliares"
   ]
  },
  {
   "cell_type": "code",
   "execution_count": 6,
   "metadata": {},
   "outputs": [],
   "source": [
    "def get_url(url):\n",
    "    driver.get(url)\n",
    "    #search_results = driver.find_element_by_xpath('/html/body/div[3]/div[1]/header/div[4]/div/div[1]/div/div[1]/a')\n",
    "    #search_results.click()\n",
    "    return driver.page_source\n",
    "\n",
    "def click_link(url):\n",
    "    source = get_url(url)\n",
    "    site_data = BeautifulSoup(source, 'html.parser')\n",
    "    return BeautifulSoup(site_data.prettify(), 'html.parser')\n",
    "\n",
    "\n",
    "# def get_next_page():\n",
    "   \n",
    "#     number_of_pages = site.find('ul', attrs={'class':'pagination'}).find_all('li')\n",
    "#     next_page = site.find('li', attrs={'class':'disabled pagination_next'})\n",
    "#     i = 1\n",
    "#     if not next_page and len(number_of_pages) > 1:\n",
    "#             for page in range(1,len(number_of_pages)):\n",
    "#                 #url = URL+ page.find('a')['href']\n",
    "#                 if page < 6:\n",
    "#                    return URL.format(pagina=page)\n",
    "#                 else:\n",
    "#                     return None\n",
    "#     else:\n",
    "#         return None\n",
    "\n",
    "\n",
    "\n",
    "def get_produtos(page_source):\n",
    "    produtos = []\n",
    "    for produto in page_source:\n",
    "        produtos.append({ 'Nome': produto.h5.get_text().strip(),\n",
    "                        'Marca': produto.h6.get_text().strip(),\n",
    "                        'Preco': produto.find('span', attrs={'itemprop':'price'}).text.strip(),\n",
    "                        'Link': produto.find('a').get('href'),\n",
    "                        'Imagem': produto.find('img').get('src'),\n",
    "                        'dataConsulta': datetime.datetime.now()})\n",
    "                        \n",
    "                        \n",
    "        # print(\"Nome\",produto.h5.get_text(),sep=\":\")\n",
    "        # print(\"Marca\",produto.h6.get_text(),sep=\":\")\n",
    "        # print(\"Preço\",produto.find('span', attrs={'itemprop':'price'}).text,sep=\":\")\n",
    "        # print(\"Link\",produto.find('a').get('href'),sep=\":\")\n",
    "        # print(\"Imagem\",produto.find('img').get('src'),sep=\":\")\n",
    "    \n",
    "    return produtos"
   ]
  },
  {
   "cell_type": "code",
   "execution_count": null,
   "metadata": {},
   "outputs": [],
   "source": [
    "# while True:\n",
    "#     url = get_next_page()\n",
    "#     if url:\n",
    "#         data = click_link(url)\n",
    "#         print(data)\n",
    "#     else:\n",
    "#         break"
   ]
  },
  {
   "cell_type": "markdown",
   "metadata": {},
   "source": [
    "## Tratamento dos dados"
   ]
  },
  {
   "cell_type": "code",
   "execution_count": 149,
   "metadata": {},
   "outputs": [],
   "source": [
    "df_produtos = pd.DataFrame(columns=['Nome','Marca','Preco','Link','Imagem','dataConsulta'])"
   ]
  },
  {
   "cell_type": "code",
   "execution_count": 150,
   "metadata": {},
   "outputs": [],
   "source": [
    "   \n",
    "for page in range(1,6):\n",
    "    url = URL.format(pagina=page)\n",
    "    data = click_link(url)\n",
    "    produtos = data.find_all('div', attrs={'class':'produto_geral'})\n",
    "    dataset= get_produtos(produtos)\n",
    "    #print(dataset)\n",
    "    df_produtos = df_produtos.append(dataset,ignore_index=True)\n"
   ]
  },
  {
   "cell_type": "code",
   "execution_count": 151,
   "metadata": {},
   "outputs": [
    {
     "data": {
      "text/plain": [
       "Nome            300\n",
       "Marca           300\n",
       "Preco           300\n",
       "Link            300\n",
       "Imagem          300\n",
       "dataConsulta    300\n",
       "dtype: int64"
      ]
     },
     "execution_count": 151,
     "metadata": {},
     "output_type": "execute_result"
    }
   ],
   "source": [
    "df_produtos.count()"
   ]
  },
  {
   "cell_type": "code",
   "execution_count": null,
   "metadata": {},
   "outputs": [],
   "source": []
  },
  {
   "cell_type": "code",
   "execution_count": 152,
   "metadata": {},
   "outputs": [],
   "source": [
    "df_produtos.replace(' ', '', regex=True, inplace=True)"
   ]
  },
  {
   "cell_type": "code",
   "execution_count": 153,
   "metadata": {},
   "outputs": [],
   "source": [
    "df_produtos.replace('AKZ', ' €', regex=True, inplace=True)"
   ]
  },
  {
   "cell_type": "code",
   "execution_count": 154,
   "metadata": {},
   "outputs": [],
   "source": [
    "df_produtos['Preco'] = df_produtos['Preco'].apply(lambda x: locale.atof(x.split()[0]))"
   ]
  },
  {
   "cell_type": "code",
   "execution_count": 155,
   "metadata": {},
   "outputs": [
    {
     "data": {
      "text/plain": [
       "Nome                    object\n",
       "Marca                   object\n",
       "Preco                  float64\n",
       "Link                    object\n",
       "Imagem                  object\n",
       "dataConsulta    datetime64[ns]\n",
       "dtype: object"
      ]
     },
     "execution_count": 155,
     "metadata": {},
     "output_type": "execute_result"
    }
   ],
   "source": [
    "df_produtos.dtypes"
   ]
  },
  {
   "cell_type": "code",
   "execution_count": 156,
   "metadata": {},
   "outputs": [
    {
     "data": {
      "text/html": [
       "<div><div id=71e643b6-82c5-4c6d-a8fb-355758469d09 style=\"display:none; background-color:#9D6CFF; color:white; width:200px; height:30px; padding-left:5px; border-radius:4px; flex-direction:row; justify-content:space-around; align-items:center;\" onmouseover=\"this.style.backgroundColor='#BA9BF8'\" onmouseout=\"this.style.backgroundColor='#9D6CFF'\" onclick=\"window.commands?.execute('create-mitosheet-from-dataframe-output');\">See Full Dataframe in Mito</div> <script> if (window.commands.hasCommand('create-mitosheet-from-dataframe-output')) document.getElementById('71e643b6-82c5-4c6d-a8fb-355758469d09').style.display = 'flex' </script> <table border=\"1\" class=\"dataframe\">\n",
       "  <thead>\n",
       "    <tr style=\"text-align: right;\">\n",
       "      <th></th>\n",
       "      <th>Nome</th>\n",
       "      <th>Marca</th>\n",
       "      <th>Preco</th>\n",
       "      <th>Link</th>\n",
       "      <th>Imagem</th>\n",
       "      <th>dataConsulta</th>\n",
       "    </tr>\n",
       "  </thead>\n",
       "  <tbody>\n",
       "    <tr>\n",
       "      <th>0</th>\n",
       "      <td>LEITORDECARTÃOENTRA-SAIDASD/MICROSD/XDP/CXATX</td>\n",
       "      <td>NCR</td>\n",
       "      <td>7115.0</td>\n",
       "      <td>https://www.ncrangola.com/loja/particulares/pt/cartoes-de-memoria/13757-leitor-de-cartes-sdmicrosdxd-pcx-atx.html</td>\n",
       "      <td>https://www.ncrangola.com/loja/particulares/img/p/pt-default-home_default.jpg</td>\n",
       "      <td>2021-11-19 12:34:00.713561</td>\n",
       "    </tr>\n",
       "    <tr>\n",
       "      <th>1</th>\n",
       "      <td>BOLSA92PARACDs</td>\n",
       "      <td>CASELOGIC</td>\n",
       "      <td>7137.0</td>\n",
       "      <td>https://www.ncrangola.com/loja/particulares/pt/bolsas/12218-bolsa-case-logic-92-cd-preto.html</td>\n",
       "      <td>https://www.ncrangola.com/loja/particulares/13219-home_default/bolsa-case-logic-92-cd-preto.jpg</td>\n",
       "      <td>2021-11-19 12:34:00.713736</td>\n",
       "    </tr>\n",
       "    <tr>\n",
       "      <th>2</th>\n",
       "      <td>CABOUSBPARAUSB-CJELLEEZORANGE</td>\n",
       "      <td>MAXELL</td>\n",
       "      <td>7143.0</td>\n",
       "      <td>https://www.ncrangola.com/loja/particulares/pt/cabos-/17695-cabo-maxell-usb-para-usb-c-jelleez-orange-.html</td>\n",
       "      <td>https://www.ncrangola.com/loja/particulares/27908-home_default/cabo-maxell-usb-para-usb-c-jelleez-orange-.jpg</td>\n",
       "      <td>2021-11-19 12:34:00.713906</td>\n",
       "    </tr>\n",
       "    <tr>\n",
       "      <th>3</th>\n",
       "      <td>CABO4FTUSB-APARAUSB-CJELLEEZPRETO348215</td>\n",
       "      <td>MAXELL</td>\n",
       "      <td>7144.0</td>\n",
       "      <td>https://www.ncrangola.com/loja/particulares/pt/cabos-/16718-cabo-maxell-4ft-usb-to-usbc-jelleez-blk-348215.html</td>\n",
       "      <td>https://www.ncrangola.com/loja/particulares/25447-home_default/cabo-maxell-4ft-usb-to-usbc-jelleez-blk-348215.jpg</td>\n",
       "      <td>2021-11-19 12:34:00.714074</td>\n",
       "    </tr>\n",
       "    <tr>\n",
       "      <th>4</th>\n",
       "      <td>CABOUSB-APARAMICRO-USBTEXTILEDOURADO</td>\n",
       "      <td>CELLY</td>\n",
       "      <td>7169.0</td>\n",
       "      <td>https://www.ncrangola.com/loja/particulares/pt/cabos-/17831-cabo-celly-usb-to-micro-usb-textile-gold.html</td>\n",
       "      <td>https://www.ncrangola.com/loja/particulares/28153-home_default/cabo-celly-usb-to-micro-usb-textile-gold.jpg</td>\n",
       "      <td>2021-11-19 12:34:00.714241</td>\n",
       "    </tr>\n",
       "  </tbody>\n",
       "</table></div>"
      ],
      "text/plain": [
       "                                            Nome      Marca   Preco  \\\n",
       "0  LEITORDECARTÃOENTRA-SAIDASD/MICROSD/XDP/CXATX        NCR  7115.0   \n",
       "1                                 BOLSA92PARACDs  CASELOGIC  7137.0   \n",
       "2                  CABOUSBPARAUSB-CJELLEEZORANGE     MAXELL  7143.0   \n",
       "3        CABO4FTUSB-APARAUSB-CJELLEEZPRETO348215     MAXELL  7144.0   \n",
       "4           CABOUSB-APARAMICRO-USBTEXTILEDOURADO      CELLY  7169.0   \n",
       "\n",
       "                                                Link  \\\n",
       "0  https://www.ncrangola.com/loja/particulares/pt...   \n",
       "1  https://www.ncrangola.com/loja/particulares/pt...   \n",
       "2  https://www.ncrangola.com/loja/particulares/pt...   \n",
       "3  https://www.ncrangola.com/loja/particulares/pt...   \n",
       "4  https://www.ncrangola.com/loja/particulares/pt...   \n",
       "\n",
       "                                              Imagem  \\\n",
       "0  https://www.ncrangola.com/loja/particulares/im...   \n",
       "1  https://www.ncrangola.com/loja/particulares/13...   \n",
       "2  https://www.ncrangola.com/loja/particulares/27...   \n",
       "3  https://www.ncrangola.com/loja/particulares/25...   \n",
       "4  https://www.ncrangola.com/loja/particulares/28...   \n",
       "\n",
       "                dataConsulta  \n",
       "0 2021-11-19 12:34:00.713561  \n",
       "1 2021-11-19 12:34:00.713736  \n",
       "2 2021-11-19 12:34:00.713906  \n",
       "3 2021-11-19 12:34:00.714074  \n",
       "4 2021-11-19 12:34:00.714241  "
      ]
     },
     "execution_count": 156,
     "metadata": {},
     "output_type": "execute_result"
    }
   ],
   "source": [
    "df_produtos.head()"
   ]
  },
  {
   "cell_type": "markdown",
   "metadata": {},
   "source": [
    "## Formatação de dados pandas"
   ]
  },
  {
   "cell_type": "code",
   "execution_count": 158,
   "metadata": {},
   "outputs": [
    {
     "data": {
      "text/html": [
       "<style type=\"text/css\">\n",
       "</style>\n",
       "<table id=\"T_869ed_\">\n",
       "  <thead>\n",
       "    <tr>\n",
       "      <th class=\"blank level0\" >&nbsp;</th>\n",
       "      <th class=\"col_heading level0 col0\" >Nome</th>\n",
       "      <th class=\"col_heading level0 col1\" >Marca</th>\n",
       "      <th class=\"col_heading level0 col2\" >Preco</th>\n",
       "      <th class=\"col_heading level0 col3\" >Link</th>\n",
       "      <th class=\"col_heading level0 col4\" >Imagem</th>\n",
       "      <th class=\"col_heading level0 col5\" >dataConsulta</th>\n",
       "    </tr>\n",
       "  </thead>\n",
       "  <tbody>\n",
       "    <tr>\n",
       "      <th id=\"T_869ed_level0_row0\" class=\"row_heading level0 row0\" >0</th>\n",
       "      <td id=\"T_869ed_row0_col0\" class=\"data row0 col0\" >LEITORDECARTÃOENTRA-SAIDASD/MICROSD/XDP/CXATX</td>\n",
       "      <td id=\"T_869ed_row0_col1\" class=\"data row0 col1\" >NCR</td>\n",
       "      <td id=\"T_869ed_row0_col2\" class=\"data row0 col2\" >7,115.00 Kz</td>\n",
       "      <td id=\"T_869ed_row0_col3\" class=\"data row0 col3\" >https://www.ncrangola.com/loja/particulares/pt/cartoes-de-memoria/13757-leitor-de-cartes-sdmicrosdxd-pcx-atx.html</td>\n",
       "      <td id=\"T_869ed_row0_col4\" class=\"data row0 col4\" >https://www.ncrangola.com/loja/particulares/img/p/pt-default-home_default.jpg</td>\n",
       "      <td id=\"T_869ed_row0_col5\" class=\"data row0 col5\" >2021-11-19 12:34:00.713561</td>\n",
       "    </tr>\n",
       "    <tr>\n",
       "      <th id=\"T_869ed_level0_row1\" class=\"row_heading level0 row1\" >1</th>\n",
       "      <td id=\"T_869ed_row1_col0\" class=\"data row1 col0\" >BOLSA92PARACDs</td>\n",
       "      <td id=\"T_869ed_row1_col1\" class=\"data row1 col1\" >CASELOGIC</td>\n",
       "      <td id=\"T_869ed_row1_col2\" class=\"data row1 col2\" >7,137.00 Kz</td>\n",
       "      <td id=\"T_869ed_row1_col3\" class=\"data row1 col3\" >https://www.ncrangola.com/loja/particulares/pt/bolsas/12218-bolsa-case-logic-92-cd-preto.html</td>\n",
       "      <td id=\"T_869ed_row1_col4\" class=\"data row1 col4\" >https://www.ncrangola.com/loja/particulares/13219-home_default/bolsa-case-logic-92-cd-preto.jpg</td>\n",
       "      <td id=\"T_869ed_row1_col5\" class=\"data row1 col5\" >2021-11-19 12:34:00.713736</td>\n",
       "    </tr>\n",
       "    <tr>\n",
       "      <th id=\"T_869ed_level0_row2\" class=\"row_heading level0 row2\" >2</th>\n",
       "      <td id=\"T_869ed_row2_col0\" class=\"data row2 col0\" >CABOUSBPARAUSB-CJELLEEZORANGE</td>\n",
       "      <td id=\"T_869ed_row2_col1\" class=\"data row2 col1\" >MAXELL</td>\n",
       "      <td id=\"T_869ed_row2_col2\" class=\"data row2 col2\" >7,143.00 Kz</td>\n",
       "      <td id=\"T_869ed_row2_col3\" class=\"data row2 col3\" >https://www.ncrangola.com/loja/particulares/pt/cabos-/17695-cabo-maxell-usb-para-usb-c-jelleez-orange-.html</td>\n",
       "      <td id=\"T_869ed_row2_col4\" class=\"data row2 col4\" >https://www.ncrangola.com/loja/particulares/27908-home_default/cabo-maxell-usb-para-usb-c-jelleez-orange-.jpg</td>\n",
       "      <td id=\"T_869ed_row2_col5\" class=\"data row2 col5\" >2021-11-19 12:34:00.713906</td>\n",
       "    </tr>\n",
       "    <tr>\n",
       "      <th id=\"T_869ed_level0_row3\" class=\"row_heading level0 row3\" >3</th>\n",
       "      <td id=\"T_869ed_row3_col0\" class=\"data row3 col0\" >CABO4FTUSB-APARAUSB-CJELLEEZPRETO348215</td>\n",
       "      <td id=\"T_869ed_row3_col1\" class=\"data row3 col1\" >MAXELL</td>\n",
       "      <td id=\"T_869ed_row3_col2\" class=\"data row3 col2\" >7,144.00 Kz</td>\n",
       "      <td id=\"T_869ed_row3_col3\" class=\"data row3 col3\" >https://www.ncrangola.com/loja/particulares/pt/cabos-/16718-cabo-maxell-4ft-usb-to-usbc-jelleez-blk-348215.html</td>\n",
       "      <td id=\"T_869ed_row3_col4\" class=\"data row3 col4\" >https://www.ncrangola.com/loja/particulares/25447-home_default/cabo-maxell-4ft-usb-to-usbc-jelleez-blk-348215.jpg</td>\n",
       "      <td id=\"T_869ed_row3_col5\" class=\"data row3 col5\" >2021-11-19 12:34:00.714074</td>\n",
       "    </tr>\n",
       "    <tr>\n",
       "      <th id=\"T_869ed_level0_row4\" class=\"row_heading level0 row4\" >4</th>\n",
       "      <td id=\"T_869ed_row4_col0\" class=\"data row4 col0\" >CABOUSB-APARAMICRO-USBTEXTILEDOURADO</td>\n",
       "      <td id=\"T_869ed_row4_col1\" class=\"data row4 col1\" >CELLY</td>\n",
       "      <td id=\"T_869ed_row4_col2\" class=\"data row4 col2\" >7,169.00 Kz</td>\n",
       "      <td id=\"T_869ed_row4_col3\" class=\"data row4 col3\" >https://www.ncrangola.com/loja/particulares/pt/cabos-/17831-cabo-celly-usb-to-micro-usb-textile-gold.html</td>\n",
       "      <td id=\"T_869ed_row4_col4\" class=\"data row4 col4\" >https://www.ncrangola.com/loja/particulares/28153-home_default/cabo-celly-usb-to-micro-usb-textile-gold.jpg</td>\n",
       "      <td id=\"T_869ed_row4_col5\" class=\"data row4 col5\" >2021-11-19 12:34:00.714241</td>\n",
       "    </tr>\n",
       "  </tbody>\n",
       "</table>\n"
      ],
      "text/plain": [
       "<pandas.io.formats.style.Styler at 0x7fe1067d5d60>"
      ]
     },
     "execution_count": 158,
     "metadata": {},
     "output_type": "execute_result"
    }
   ],
   "source": [
    "formato = { 'Preco': '{0:,.2f} Kz'}\n",
    "df_produtos.head().style.format(formato)"
   ]
  },
  {
   "cell_type": "markdown",
   "metadata": {},
   "source": [
    "## Análise de dados"
   ]
  },
  {
   "cell_type": "code",
   "execution_count": 159,
   "metadata": {},
   "outputs": [
    {
     "data": {
      "text/html": [
       "<div><div id=d22dc026-487b-48a4-8c86-7a0ffe6bf1cd style=\"display:none; background-color:#9D6CFF; color:white; width:200px; height:30px; padding-left:5px; border-radius:4px; flex-direction:row; justify-content:space-around; align-items:center;\" onmouseover=\"this.style.backgroundColor='#BA9BF8'\" onmouseout=\"this.style.backgroundColor='#9D6CFF'\" onclick=\"window.commands?.execute('create-mitosheet-from-dataframe-output');\">See Full Dataframe in Mito</div> <script> if (window.commands.hasCommand('create-mitosheet-from-dataframe-output')) document.getElementById('d22dc026-487b-48a4-8c86-7a0ffe6bf1cd').style.display = 'flex' </script> <table border=\"1\" class=\"dataframe\">\n",
       "  <thead>\n",
       "    <tr style=\"text-align: right;\">\n",
       "      <th></th>\n",
       "      <th>Nome</th>\n",
       "      <th>Preco</th>\n",
       "      <th>Link</th>\n",
       "      <th>Imagem</th>\n",
       "      <th>dataConsulta</th>\n",
       "    </tr>\n",
       "    <tr>\n",
       "      <th>Marca</th>\n",
       "      <th></th>\n",
       "      <th></th>\n",
       "      <th></th>\n",
       "      <th></th>\n",
       "      <th></th>\n",
       "    </tr>\n",
       "  </thead>\n",
       "  <tbody>\n",
       "    <tr>\n",
       "      <th>AVERY</th>\n",
       "      <td>5</td>\n",
       "      <td>5</td>\n",
       "      <td>5</td>\n",
       "      <td>5</td>\n",
       "      <td>5</td>\n",
       "    </tr>\n",
       "    <tr>\n",
       "      <th>CASELOGIC</th>\n",
       "      <td>5</td>\n",
       "      <td>5</td>\n",
       "      <td>5</td>\n",
       "      <td>5</td>\n",
       "      <td>5</td>\n",
       "    </tr>\n",
       "    <tr>\n",
       "      <th>CELLY</th>\n",
       "      <td>30</td>\n",
       "      <td>30</td>\n",
       "      <td>30</td>\n",
       "      <td>30</td>\n",
       "      <td>30</td>\n",
       "    </tr>\n",
       "    <tr>\n",
       "      <th>DLINK</th>\n",
       "      <td>10</td>\n",
       "      <td>10</td>\n",
       "      <td>10</td>\n",
       "      <td>10</td>\n",
       "      <td>10</td>\n",
       "    </tr>\n",
       "    <tr>\n",
       "      <th>FELLOWES</th>\n",
       "      <td>10</td>\n",
       "      <td>10</td>\n",
       "      <td>10</td>\n",
       "      <td>10</td>\n",
       "      <td>10</td>\n",
       "    </tr>\n",
       "    <tr>\n",
       "      <th>GENIUS</th>\n",
       "      <td>35</td>\n",
       "      <td>35</td>\n",
       "      <td>35</td>\n",
       "      <td>35</td>\n",
       "      <td>35</td>\n",
       "    </tr>\n",
       "    <tr>\n",
       "      <th>HP</th>\n",
       "      <td>10</td>\n",
       "      <td>10</td>\n",
       "      <td>10</td>\n",
       "      <td>10</td>\n",
       "      <td>10</td>\n",
       "    </tr>\n",
       "    <tr>\n",
       "      <th>INTELLINET</th>\n",
       "      <td>15</td>\n",
       "      <td>15</td>\n",
       "      <td>15</td>\n",
       "      <td>15</td>\n",
       "      <td>15</td>\n",
       "    </tr>\n",
       "    <tr>\n",
       "      <th>KINGSLONG</th>\n",
       "      <td>30</td>\n",
       "      <td>30</td>\n",
       "      <td>30</td>\n",
       "      <td>30</td>\n",
       "      <td>30</td>\n",
       "    </tr>\n",
       "    <tr>\n",
       "      <th>KINGSTON</th>\n",
       "      <td>5</td>\n",
       "      <td>5</td>\n",
       "      <td>5</td>\n",
       "      <td>5</td>\n",
       "      <td>5</td>\n",
       "    </tr>\n",
       "    <tr>\n",
       "      <th>LDNIO</th>\n",
       "      <td>5</td>\n",
       "      <td>5</td>\n",
       "      <td>5</td>\n",
       "      <td>5</td>\n",
       "      <td>5</td>\n",
       "    </tr>\n",
       "    <tr>\n",
       "      <th>MANHATTAN</th>\n",
       "      <td>60</td>\n",
       "      <td>60</td>\n",
       "      <td>60</td>\n",
       "      <td>60</td>\n",
       "      <td>60</td>\n",
       "    </tr>\n",
       "    <tr>\n",
       "      <th>MAXELL</th>\n",
       "      <td>40</td>\n",
       "      <td>40</td>\n",
       "      <td>40</td>\n",
       "      <td>40</td>\n",
       "      <td>40</td>\n",
       "    </tr>\n",
       "    <tr>\n",
       "      <th>NCR</th>\n",
       "      <td>5</td>\n",
       "      <td>5</td>\n",
       "      <td>5</td>\n",
       "      <td>5</td>\n",
       "      <td>5</td>\n",
       "    </tr>\n",
       "    <tr>\n",
       "      <th>NGS</th>\n",
       "      <td>5</td>\n",
       "      <td>5</td>\n",
       "      <td>5</td>\n",
       "      <td>5</td>\n",
       "      <td>5</td>\n",
       "    </tr>\n",
       "    <tr>\n",
       "      <th>TRANSCEND</th>\n",
       "      <td>30</td>\n",
       "      <td>30</td>\n",
       "      <td>30</td>\n",
       "      <td>30</td>\n",
       "      <td>30</td>\n",
       "    </tr>\n",
       "  </tbody>\n",
       "</table></div>"
      ],
      "text/plain": [
       "            Nome  Preco  Link  Imagem  dataConsulta\n",
       "Marca                                              \n",
       "AVERY          5      5     5       5             5\n",
       "CASELOGIC      5      5     5       5             5\n",
       "CELLY         30     30    30      30            30\n",
       "DLINK         10     10    10      10            10\n",
       "FELLOWES      10     10    10      10            10\n",
       "GENIUS        35     35    35      35            35\n",
       "HP            10     10    10      10            10\n",
       "INTELLINET    15     15    15      15            15\n",
       "KINGSLONG     30     30    30      30            30\n",
       "KINGSTON       5      5     5       5             5\n",
       "LDNIO          5      5     5       5             5\n",
       "MANHATTAN     60     60    60      60            60\n",
       "MAXELL        40     40    40      40            40\n",
       "NCR            5      5     5       5             5\n",
       "NGS            5      5     5       5             5\n",
       "TRANSCEND     30     30    30      30            30"
      ]
     },
     "execution_count": 159,
     "metadata": {},
     "output_type": "execute_result"
    }
   ],
   "source": [
    "df_produtos.groupby('Marca').count()"
   ]
  },
  {
   "cell_type": "code",
   "execution_count": 160,
   "metadata": {},
   "outputs": [
    {
     "data": {
      "text/plain": [
       "300"
      ]
     },
     "execution_count": 160,
     "metadata": {},
     "output_type": "execute_result"
    }
   ],
   "source": [
    "len(df_produtos)"
   ]
  },
  {
   "cell_type": "code",
   "execution_count": 161,
   "metadata": {},
   "outputs": [
    {
     "data": {
      "text/html": [
       "<style type=\"text/css\">\n",
       "</style>\n",
       "<table id=\"T_d0211_\">\n",
       "  <thead>\n",
       "    <tr>\n",
       "      <th class=\"blank level0\" >&nbsp;</th>\n",
       "      <th class=\"col_heading level0 col0\" >min</th>\n",
       "      <th class=\"col_heading level0 col1\" >max</th>\n",
       "      <th class=\"col_heading level0 col2\" >mean</th>\n",
       "      <th class=\"col_heading level0 col3\" >median</th>\n",
       "      <th class=\"col_heading level0 col4\" >std</th>\n",
       "    </tr>\n",
       "    <tr>\n",
       "      <th class=\"index_name level0\" >Marca</th>\n",
       "      <th class=\"blank col0\" >&nbsp;</th>\n",
       "      <th class=\"blank col1\" >&nbsp;</th>\n",
       "      <th class=\"blank col2\" >&nbsp;</th>\n",
       "      <th class=\"blank col3\" >&nbsp;</th>\n",
       "      <th class=\"blank col4\" >&nbsp;</th>\n",
       "    </tr>\n",
       "  </thead>\n",
       "  <tbody>\n",
       "    <tr>\n",
       "      <th id=\"T_d0211_level0_row0\" class=\"row_heading level0 row0\" >AVERY</th>\n",
       "      <td id=\"T_d0211_row0_col0\" class=\"data row0 col0\" >9,827.00 Kz</td>\n",
       "      <td id=\"T_d0211_row0_col1\" class=\"data row0 col1\" >9,827.00 Kz</td>\n",
       "      <td id=\"T_d0211_row0_col2\" class=\"data row0 col2\" >9,827.00 Kz</td>\n",
       "      <td id=\"T_d0211_row0_col3\" class=\"data row0 col3\" >9,827.00 Kz</td>\n",
       "      <td id=\"T_d0211_row0_col4\" class=\"data row0 col4\" >0.00 Kz</td>\n",
       "    </tr>\n",
       "    <tr>\n",
       "      <th id=\"T_d0211_level0_row1\" class=\"row_heading level0 row1\" >CASELOGIC</th>\n",
       "      <td id=\"T_d0211_row1_col0\" class=\"data row1 col0\" >7,137.00 Kz</td>\n",
       "      <td id=\"T_d0211_row1_col1\" class=\"data row1 col1\" >7,137.00 Kz</td>\n",
       "      <td id=\"T_d0211_row1_col2\" class=\"data row1 col2\" >7,137.00 Kz</td>\n",
       "      <td id=\"T_d0211_row1_col3\" class=\"data row1 col3\" >7,137.00 Kz</td>\n",
       "      <td id=\"T_d0211_row1_col4\" class=\"data row1 col4\" >0.00 Kz</td>\n",
       "    </tr>\n",
       "    <tr>\n",
       "      <th id=\"T_d0211_level0_row2\" class=\"row_heading level0 row2\" >CELLY</th>\n",
       "      <td id=\"T_d0211_row2_col0\" class=\"data row2 col0\" >7,169.00 Kz</td>\n",
       "      <td id=\"T_d0211_row2_col1\" class=\"data row2 col1\" >9,804.00 Kz</td>\n",
       "      <td id=\"T_d0211_row2_col2\" class=\"data row2 col2\" >8,372.50 Kz</td>\n",
       "      <td id=\"T_d0211_row2_col3\" class=\"data row2 col3\" >8,144.50 Kz</td>\n",
       "      <td id=\"T_d0211_row2_col4\" class=\"data row2 col4\" >1,245.85 Kz</td>\n",
       "    </tr>\n",
       "    <tr>\n",
       "      <th id=\"T_d0211_level0_row3\" class=\"row_heading level0 row3\" >DLINK</th>\n",
       "      <td id=\"T_d0211_row3_col0\" class=\"data row3 col0\" >8,796.24 Kz</td>\n",
       "      <td id=\"T_d0211_row3_col1\" class=\"data row3 col1\" >9,951.00 Kz</td>\n",
       "      <td id=\"T_d0211_row3_col2\" class=\"data row3 col2\" >9,373.62 Kz</td>\n",
       "      <td id=\"T_d0211_row3_col3\" class=\"data row3 col3\" >9,373.62 Kz</td>\n",
       "      <td id=\"T_d0211_row3_col4\" class=\"data row3 col4\" >608.61 Kz</td>\n",
       "    </tr>\n",
       "    <tr>\n",
       "      <th id=\"T_d0211_level0_row4\" class=\"row_heading level0 row4\" >FELLOWES</th>\n",
       "      <td id=\"T_d0211_row4_col0\" class=\"data row4 col0\" >8,707.32 Kz</td>\n",
       "      <td id=\"T_d0211_row4_col1\" class=\"data row4 col1\" >9,462.00 Kz</td>\n",
       "      <td id=\"T_d0211_row4_col2\" class=\"data row4 col2\" >9,084.66 Kz</td>\n",
       "      <td id=\"T_d0211_row4_col3\" class=\"data row4 col3\" >9,084.66 Kz</td>\n",
       "      <td id=\"T_d0211_row4_col4\" class=\"data row4 col4\" >397.75 Kz</td>\n",
       "    </tr>\n",
       "    <tr>\n",
       "      <th id=\"T_d0211_level0_row5\" class=\"row_heading level0 row5\" >GENIUS</th>\n",
       "      <td id=\"T_d0211_row5_col0\" class=\"data row5 col0\" >7,249.00 Kz</td>\n",
       "      <td id=\"T_d0211_row5_col1\" class=\"data row5 col1\" >8,705.00 Kz</td>\n",
       "      <td id=\"T_d0211_row5_col2\" class=\"data row5 col2\" >8,137.87 Kz</td>\n",
       "      <td id=\"T_d0211_row5_col3\" class=\"data row5 col3\" >8,705.00 Kz</td>\n",
       "      <td id=\"T_d0211_row5_col4\" class=\"data row5 col4\" >676.01 Kz</td>\n",
       "    </tr>\n",
       "    <tr>\n",
       "      <th id=\"T_d0211_level0_row6\" class=\"row_heading level0 row6\" >HP</th>\n",
       "      <td id=\"T_d0211_row6_col0\" class=\"data row6 col0\" >8,167.00 Kz</td>\n",
       "      <td id=\"T_d0211_row6_col1\" class=\"data row6 col1\" >8,306.00 Kz</td>\n",
       "      <td id=\"T_d0211_row6_col2\" class=\"data row6 col2\" >8,236.50 Kz</td>\n",
       "      <td id=\"T_d0211_row6_col3\" class=\"data row6 col3\" >8,236.50 Kz</td>\n",
       "      <td id=\"T_d0211_row6_col4\" class=\"data row6 col4\" >73.26 Kz</td>\n",
       "    </tr>\n",
       "    <tr>\n",
       "      <th id=\"T_d0211_level0_row7\" class=\"row_heading level0 row7\" >INTELLINET</th>\n",
       "      <td id=\"T_d0211_row7_col0\" class=\"data row7 col0\" >8,268.00 Kz</td>\n",
       "      <td id=\"T_d0211_row7_col1\" class=\"data row7 col1\" >9,528.00 Kz</td>\n",
       "      <td id=\"T_d0211_row7_col2\" class=\"data row7 col2\" >9,093.67 Kz</td>\n",
       "      <td id=\"T_d0211_row7_col3\" class=\"data row7 col3\" >9,485.00 Kz</td>\n",
       "      <td id=\"T_d0211_row7_col4\" class=\"data row7 col4\" >604.60 Kz</td>\n",
       "    </tr>\n",
       "    <tr>\n",
       "      <th id=\"T_d0211_level0_row8\" class=\"row_heading level0 row8\" >KINGSLONG</th>\n",
       "      <td id=\"T_d0211_row8_col0\" class=\"data row8 col0\" >8,384.00 Kz</td>\n",
       "      <td id=\"T_d0211_row8_col1\" class=\"data row8 col1\" >8,934.00 Kz</td>\n",
       "      <td id=\"T_d0211_row8_col2\" class=\"data row8 col2\" >8,590.33 Kz</td>\n",
       "      <td id=\"T_d0211_row8_col3\" class=\"data row8 col3\" >8,453.00 Kz</td>\n",
       "      <td id=\"T_d0211_row8_col4\" class=\"data row8 col4\" >252.10 Kz</td>\n",
       "    </tr>\n",
       "    <tr>\n",
       "      <th id=\"T_d0211_level0_row9\" class=\"row_heading level0 row9\" >KINGSTON</th>\n",
       "      <td id=\"T_d0211_row9_col0\" class=\"data row9 col0\" >9,275.00 Kz</td>\n",
       "      <td id=\"T_d0211_row9_col1\" class=\"data row9 col1\" >9,275.00 Kz</td>\n",
       "      <td id=\"T_d0211_row9_col2\" class=\"data row9 col2\" >9,275.00 Kz</td>\n",
       "      <td id=\"T_d0211_row9_col3\" class=\"data row9 col3\" >9,275.00 Kz</td>\n",
       "      <td id=\"T_d0211_row9_col4\" class=\"data row9 col4\" >0.00 Kz</td>\n",
       "    </tr>\n",
       "    <tr>\n",
       "      <th id=\"T_d0211_level0_row10\" class=\"row_heading level0 row10\" >LDNIO</th>\n",
       "      <td id=\"T_d0211_row10_col0\" class=\"data row10 col0\" >7,764.00 Kz</td>\n",
       "      <td id=\"T_d0211_row10_col1\" class=\"data row10 col1\" >7,764.00 Kz</td>\n",
       "      <td id=\"T_d0211_row10_col2\" class=\"data row10 col2\" >7,764.00 Kz</td>\n",
       "      <td id=\"T_d0211_row10_col3\" class=\"data row10 col3\" >7,764.00 Kz</td>\n",
       "      <td id=\"T_d0211_row10_col4\" class=\"data row10 col4\" >0.00 Kz</td>\n",
       "    </tr>\n",
       "    <tr>\n",
       "      <th id=\"T_d0211_level0_row11\" class=\"row_heading level0 row11\" >MANHATTAN</th>\n",
       "      <td id=\"T_d0211_row11_col0\" class=\"data row11 col0\" >7,307.00 Kz</td>\n",
       "      <td id=\"T_d0211_row11_col1\" class=\"data row11 col1\" >9,895.00 Kz</td>\n",
       "      <td id=\"T_d0211_row11_col2\" class=\"data row11 col2\" >8,486.58 Kz</td>\n",
       "      <td id=\"T_d0211_row11_col3\" class=\"data row11 col3\" >8,354.50 Kz</td>\n",
       "      <td id=\"T_d0211_row11_col4\" class=\"data row11 col4\" >1,001.34 Kz</td>\n",
       "    </tr>\n",
       "    <tr>\n",
       "      <th id=\"T_d0211_level0_row12\" class=\"row_heading level0 row12\" >MAXELL</th>\n",
       "      <td id=\"T_d0211_row12_col0\" class=\"data row12 col0\" >7,143.00 Kz</td>\n",
       "      <td id=\"T_d0211_row12_col1\" class=\"data row12 col1\" >9,079.00 Kz</td>\n",
       "      <td id=\"T_d0211_row12_col2\" class=\"data row12 col2\" >8,223.12 Kz</td>\n",
       "      <td id=\"T_d0211_row12_col3\" class=\"data row12 col3\" >8,544.00 Kz</td>\n",
       "      <td id=\"T_d0211_row12_col4\" class=\"data row12 col4\" >709.97 Kz</td>\n",
       "    </tr>\n",
       "    <tr>\n",
       "      <th id=\"T_d0211_level0_row13\" class=\"row_heading level0 row13\" >NCR</th>\n",
       "      <td id=\"T_d0211_row13_col0\" class=\"data row13 col0\" >7,115.00 Kz</td>\n",
       "      <td id=\"T_d0211_row13_col1\" class=\"data row13 col1\" >7,115.00 Kz</td>\n",
       "      <td id=\"T_d0211_row13_col2\" class=\"data row13 col2\" >7,115.00 Kz</td>\n",
       "      <td id=\"T_d0211_row13_col3\" class=\"data row13 col3\" >7,115.00 Kz</td>\n",
       "      <td id=\"T_d0211_row13_col4\" class=\"data row13 col4\" >0.00 Kz</td>\n",
       "    </tr>\n",
       "    <tr>\n",
       "      <th id=\"T_d0211_level0_row14\" class=\"row_heading level0 row14\" >NGS</th>\n",
       "      <td id=\"T_d0211_row14_col0\" class=\"data row14 col0\" >8,162.00 Kz</td>\n",
       "      <td id=\"T_d0211_row14_col1\" class=\"data row14 col1\" >8,162.00 Kz</td>\n",
       "      <td id=\"T_d0211_row14_col2\" class=\"data row14 col2\" >8,162.00 Kz</td>\n",
       "      <td id=\"T_d0211_row14_col3\" class=\"data row14 col3\" >8,162.00 Kz</td>\n",
       "      <td id=\"T_d0211_row14_col4\" class=\"data row14 col4\" >0.00 Kz</td>\n",
       "    </tr>\n",
       "    <tr>\n",
       "      <th id=\"T_d0211_level0_row15\" class=\"row_heading level0 row15\" >TRANSCEND</th>\n",
       "      <td id=\"T_d0211_row15_col0\" class=\"data row15 col0\" >8,011.00 Kz</td>\n",
       "      <td id=\"T_d0211_row15_col1\" class=\"data row15 col1\" >9,777.00 Kz</td>\n",
       "      <td id=\"T_d0211_row15_col2\" class=\"data row15 col2\" >8,944.83 Kz</td>\n",
       "      <td id=\"T_d0211_row15_col3\" class=\"data row15 col3\" >9,047.50 Kz</td>\n",
       "      <td id=\"T_d0211_row15_col4\" class=\"data row15 col4\" >652.43 Kz</td>\n",
       "    </tr>\n",
       "  </tbody>\n",
       "</table>\n"
      ],
      "text/plain": [
       "<pandas.io.formats.style.Styler at 0x7fe107cda970>"
      ]
     },
     "execution_count": 161,
     "metadata": {},
     "output_type": "execute_result"
    }
   ],
   "source": [
    "df_produtos.groupby('Marca')['Preco'].agg(['min','max','mean','median','std']).style.format('{0:,.2f} Kz')"
   ]
  },
  {
   "cell_type": "markdown",
   "metadata": {},
   "source": [
    "## Exportação dos dados para excel"
   ]
  },
  {
   "cell_type": "code",
   "execution_count": 162,
   "metadata": {},
   "outputs": [],
   "source": [
    "df_produtos.to_excel('NCR_produtos_1.xlsx',index=False)"
   ]
  }
 ],
 "metadata": {
  "interpreter": {
   "hash": "31f2aee4e71d21fbe5cf8b01ff0e069b9275f58929596ceb00d14d90e3e16cd6"
  },
  "kernelspec": {
   "display_name": "Python 3.8.10 64-bit",
   "language": "python",
   "name": "python3"
  },
  "language_info": {
   "codemirror_mode": {
    "name": "ipython",
    "version": 3
   },
   "file_extension": ".py",
   "mimetype": "text/x-python",
   "name": "python",
   "nbconvert_exporter": "python",
   "pygments_lexer": "ipython3",
   "version": "3.8.10"
  },
  "orig_nbformat": 4
 },
 "nbformat": 4,
 "nbformat_minor": 2
}
