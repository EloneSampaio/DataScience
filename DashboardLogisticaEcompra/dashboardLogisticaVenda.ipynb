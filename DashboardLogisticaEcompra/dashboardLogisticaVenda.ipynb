{
 "cells": [
  {
   "cell_type": "code",
   "execution_count": 356,
   "metadata": {},
   "outputs": [],
   "source": [
    "import pandas as pd\n",
    "import numpy as np\n",
    "from faker import Faker\n",
    "from faker_airtravel import AirTravelProvider\n",
    "from datetime import datetime\n",
    "from random import randrange\n",
    "import random\n"
   ]
  },
  {
   "cell_type": "code",
   "execution_count": null,
   "metadata": {},
   "outputs": [],
   "source": []
  },
  {
   "cell_type": "markdown",
   "metadata": {},
   "source": [
    "### váriaveis"
   ]
  },
  {
   "cell_type": "code",
   "execution_count": 357,
   "metadata": {},
   "outputs": [],
   "source": [
    "fcompras = []\n",
    "dfornecedor = []\n",
    "dcomprador = []\n",
    "dmateriaprima = []\n",
    "fcustopadrao = []\n",
    "n = 1000"
   ]
  },
  {
   "cell_type": "code",
   "execution_count": 358,
   "metadata": {},
   "outputs": [],
   "source": [
    "fake = Faker('pt_BR')\n",
    "fake.add_provider(AirTravelProvider)"
   ]
  },
  {
   "cell_type": "markdown",
   "metadata": {},
   "source": [
    "# Criar tabela dFornecedor"
   ]
  },
  {
   "cell_type": "code",
   "execution_count": 359,
   "metadata": {},
   "outputs": [],
   "source": [
    "for n in range(n):\n",
    "    \n",
    "    idFornecedor =fake.unique.pyint()\n",
    "    fornecedor = fake.name_nonbinary()\n",
    "    PrazoEntregaPadrao = randrange(20)\n",
    "    dfornecedor.append([idFornecedor,fornecedor,PrazoEntregaPadrao])\n",
    "dataFrame_dfornecedor = pd.DataFrame(dfornecedor,columns=['idFornecedor','fornecedor','PrazoEntregaPadrao'])"
   ]
  },
  {
   "cell_type": "code",
   "execution_count": null,
   "metadata": {},
   "outputs": [],
   "source": []
  },
  {
   "cell_type": "markdown",
   "metadata": {},
   "source": [
    "# Criar tabela dComprador"
   ]
  },
  {
   "cell_type": "code",
   "execution_count": 360,
   "metadata": {},
   "outputs": [],
   "source": [
    "for n in range(n):\n",
    "    \n",
    "    idComprador =fake.unique.pyint()\n",
    "    comprador = fake.name_nonbinary()\n",
    "  \n",
    "    dcomprador.append([idComprador,comprador])\n",
    "dataFrame_dcomprador = pd.DataFrame(dcomprador,columns=['idComprador','comprador'])"
   ]
  },
  {
   "cell_type": "code",
   "execution_count": null,
   "metadata": {},
   "outputs": [],
   "source": []
  },
  {
   "cell_type": "markdown",
   "metadata": {},
   "source": [
    "# Criar tabela dMateriaPrima"
   ]
  },
  {
   "cell_type": "code",
   "execution_count": 361,
   "metadata": {},
   "outputs": [],
   "source": [
    "for n in range(n):\n",
    "    \n",
    "    idMateriaPrima = fake.unique.pyint()\n",
    "    materiaPrima = fake.airport_iata()\n",
    "    \n",
    "    dmateriaprima.append([idMateriaPrima,materiaPrima])\n",
    "dataFrame_dmateriaprima = pd.DataFrame(dmateriaprima,columns=['idMateriaPrima','materiaPrima'])"
   ]
  },
  {
   "cell_type": "code",
   "execution_count": null,
   "metadata": {},
   "outputs": [],
   "source": []
  },
  {
   "cell_type": "code",
   "execution_count": null,
   "metadata": {},
   "outputs": [],
   "source": []
  },
  {
   "cell_type": "code",
   "execution_count": null,
   "metadata": {},
   "outputs": [],
   "source": []
  },
  {
   "cell_type": "markdown",
   "metadata": {},
   "source": [
    "## Criar tabela fcompras"
   ]
  },
  {
   "cell_type": "code",
   "execution_count": null,
   "metadata": {},
   "outputs": [],
   "source": []
  },
  {
   "cell_type": "code",
   "execution_count": null,
   "metadata": {},
   "outputs": [],
   "source": []
  },
  {
   "cell_type": "code",
   "execution_count": 362,
   "metadata": {},
   "outputs": [],
   "source": [
    "for m in range(n):\n",
    "    \n",
    "    d1 = datetime.strptime(f'01/01/2021','%d/%m/%Y')\n",
    "    d2 = datetime.strptime(f'29/06/2021','%d/%m/%Y')\n",
    "    \n",
    "    d3 = datetime.strptime(f'30/06/2021','%d/%m/%Y')\n",
    "    d4 = datetime.strptime(f'30/08/2021','%d/%m/%Y')\n",
    "\n",
    "    d5 = datetime.strptime(f'01/09/2021','%d/%m/%Y')\n",
    "    d6 = datetime.strptime(f'05/11/2021','%d/%m/%Y')\n",
    "    \n",
    "    idRequisicao = fake.unique.isbn10()\n",
    "    dataRequisicao = fake.date_between(d1,d2)\n",
    "    dataSaida = fake.date_between(d3,d4)\n",
    "    dataEntrega = fake.date_between(d5,d6)\n",
    "    \n",
    "    #idComprador = fake.unique.isbn10()\n",
    "    #comprador = fake.name()\n",
    "    \n",
    "    #idMateriaPrima = fake.unique.isbn10()\n",
    "    #materiaPrima = fake.airport_iata()\n",
    "    \n",
    "    #idFornecedor =fake.unique.isbn10()\n",
    "    #fornecedor = fake.name_nonbinary()\n",
    "    \n",
    "    #prazodeEntregaFornecedor = randrange(20)\n",
    "    TemContrato=random.choice(['Sim','Não'])\n",
    "    \n",
    "    quantidade= randrange(20)\n",
    "    custoUnitario=fake.pyfloat(right_digits=2,positive=True,min_value=500,max_value=1000)\n",
    "    ValorTotal= custoUnitario * quantidade\n",
    "    \n",
    "    fcompras.append([idRequisicao,dataRequisicao,dataSaida,dataEntrega,TemContrato,quantidade,custoUnitario,ValorTotal])\n",
    "dataFramefcompras =  pd.DataFrame(fcompras,columns=['idRequisicao','dataRequisicao','dataSaida','dataEntrega',\n",
    "                                                    'TemContrato','quantidade','custoUnitario','ValorTotal'\n",
    "                    ])   "
   ]
  },
  {
   "cell_type": "code",
   "execution_count": 363,
   "metadata": {},
   "outputs": [
    {
     "name": "stderr",
     "output_type": "stream",
     "text": [
      "<ipython-input-363-3a784b822f3f>:4: FutureWarning: The pandas.np module is deprecated and will be removed from pandas in a future version. Import numpy directly instead\n",
      "  dataFramefcompras['DataPrevistaEntrega']= pd.to_datetime(dataFramefcompras.dataSaida) + pd.to_timedelta(pd.np.ceil(dataFrame_dfornecedor.PrazoEntregaPadrao),unit=\"D\")\n"
     ]
    }
   ],
   "source": [
    "dataFramefcompras['idComprador'] = dataFrame_dcomprador['idComprador']\n",
    "dataFramefcompras['idFornecedor'] = dataFrame_dfornecedor['idFornecedor']\n",
    "dataFramefcompras['idMateriaPrima'] = dataFrame_dmateriaprima['idMateriaPrima']\n",
    "dataFramefcompras['DataPrevistaEntrega']= pd.to_datetime(dataFramefcompras.dataSaida) + pd.to_timedelta(pd.np.ceil(dataFrame_dfornecedor.PrazoEntregaPadrao),unit=\"D\")"
   ]
  },
  {
   "cell_type": "code",
   "execution_count": 364,
   "metadata": {},
   "outputs": [
    {
     "data": {
      "text/html": [
       "<div><div id=c4d8da1e-c8ce-4935-831e-7da536b965b6 style=\"display:none; background-color:#9D6CFF; color:white; width:200px; height:30px; padding-left:5px; border-radius:4px; flex-direction:row; justify-content:space-around; align-items:center;\" onmouseover=\"this.style.backgroundColor='#BA9BF8'\" onmouseout=\"this.style.backgroundColor='#9D6CFF'\" onclick=\"window.commands?.execute('create-mitosheet-from-dataframe-output');\">See Full Dataframe in Mito</div> <script> if (window.commands.hasCommand('create-mitosheet-from-dataframe-output')) document.getElementById('c4d8da1e-c8ce-4935-831e-7da536b965b6').style.display = 'flex' </script> <table border=\"1\" class=\"dataframe\">\n",
       "  <thead>\n",
       "    <tr style=\"text-align: right;\">\n",
       "      <th></th>\n",
       "      <th>idRequisicao</th>\n",
       "      <th>dataRequisicao</th>\n",
       "      <th>dataSaida</th>\n",
       "      <th>dataEntrega</th>\n",
       "      <th>TemContrato</th>\n",
       "      <th>quantidade</th>\n",
       "      <th>custoUnitario</th>\n",
       "      <th>ValorTotal</th>\n",
       "      <th>idComprador</th>\n",
       "      <th>idFornecedor</th>\n",
       "      <th>idMateriaPrima</th>\n",
       "      <th>DataPrevistaEntrega</th>\n",
       "    </tr>\n",
       "  </thead>\n",
       "  <tbody>\n",
       "    <tr>\n",
       "      <th>0</th>\n",
       "      <td>1-120-54579-X</td>\n",
       "      <td>2021-05-18</td>\n",
       "      <td>2021-07-18</td>\n",
       "      <td>2021-09-17</td>\n",
       "      <td>Sim</td>\n",
       "      <td>4</td>\n",
       "      <td>926.36</td>\n",
       "      <td>3705.44</td>\n",
       "      <td>4314</td>\n",
       "      <td>5619</td>\n",
       "      <td>7203</td>\n",
       "      <td>2021-07-28</td>\n",
       "    </tr>\n",
       "    <tr>\n",
       "      <th>1</th>\n",
       "      <td>0-85512-018-5</td>\n",
       "      <td>2021-03-23</td>\n",
       "      <td>2021-08-17</td>\n",
       "      <td>2021-09-10</td>\n",
       "      <td>Sim</td>\n",
       "      <td>19</td>\n",
       "      <td>832.18</td>\n",
       "      <td>15811.42</td>\n",
       "      <td>7288</td>\n",
       "      <td>6688</td>\n",
       "      <td>3828</td>\n",
       "      <td>2021-09-05</td>\n",
       "    </tr>\n",
       "    <tr>\n",
       "      <th>2</th>\n",
       "      <td>0-85452-746-X</td>\n",
       "      <td>2021-01-02</td>\n",
       "      <td>2021-07-27</td>\n",
       "      <td>2021-09-28</td>\n",
       "      <td>Não</td>\n",
       "      <td>13</td>\n",
       "      <td>722.32</td>\n",
       "      <td>9390.16</td>\n",
       "      <td>389</td>\n",
       "      <td>5904</td>\n",
       "      <td>5329</td>\n",
       "      <td>2021-07-31</td>\n",
       "    </tr>\n",
       "    <tr>\n",
       "      <th>3</th>\n",
       "      <td>1-59815-702-7</td>\n",
       "      <td>2021-03-28</td>\n",
       "      <td>2021-07-25</td>\n",
       "      <td>2021-09-06</td>\n",
       "      <td>Sim</td>\n",
       "      <td>6</td>\n",
       "      <td>747.75</td>\n",
       "      <td>4486.50</td>\n",
       "      <td>2640</td>\n",
       "      <td>1292</td>\n",
       "      <td>6018</td>\n",
       "      <td>2021-08-05</td>\n",
       "    </tr>\n",
       "    <tr>\n",
       "      <th>4</th>\n",
       "      <td>0-264-87742-X</td>\n",
       "      <td>2021-06-17</td>\n",
       "      <td>2021-08-28</td>\n",
       "      <td>2021-10-18</td>\n",
       "      <td>Sim</td>\n",
       "      <td>3</td>\n",
       "      <td>568.79</td>\n",
       "      <td>1706.37</td>\n",
       "      <td>331</td>\n",
       "      <td>2879</td>\n",
       "      <td>9128</td>\n",
       "      <td>2021-09-07</td>\n",
       "    </tr>\n",
       "  </tbody>\n",
       "</table></div>"
      ],
      "text/plain": [
       "    idRequisicao dataRequisicao   dataSaida dataEntrega TemContrato  \\\n",
       "0  1-120-54579-X     2021-05-18  2021-07-18  2021-09-17         Sim   \n",
       "1  0-85512-018-5     2021-03-23  2021-08-17  2021-09-10         Sim   \n",
       "2  0-85452-746-X     2021-01-02  2021-07-27  2021-09-28         Não   \n",
       "3  1-59815-702-7     2021-03-28  2021-07-25  2021-09-06         Sim   \n",
       "4  0-264-87742-X     2021-06-17  2021-08-28  2021-10-18         Sim   \n",
       "\n",
       "   quantidade  custoUnitario  ValorTotal  idComprador  idFornecedor  \\\n",
       "0           4         926.36     3705.44         4314          5619   \n",
       "1          19         832.18    15811.42         7288          6688   \n",
       "2          13         722.32     9390.16          389          5904   \n",
       "3           6         747.75     4486.50         2640          1292   \n",
       "4           3         568.79     1706.37          331          2879   \n",
       "\n",
       "   idMateriaPrima DataPrevistaEntrega  \n",
       "0            7203          2021-07-28  \n",
       "1            3828          2021-09-05  \n",
       "2            5329          2021-07-31  \n",
       "3            6018          2021-08-05  \n",
       "4            9128          2021-09-07  "
      ]
     },
     "execution_count": 364,
     "metadata": {},
     "output_type": "execute_result"
    }
   ],
   "source": [
    "dataFramefcompras.head()"
   ]
  },
  {
   "cell_type": "markdown",
   "metadata": {},
   "source": [
    "# Criar tabela fCustosPadrão"
   ]
  },
  {
   "cell_type": "code",
   "execution_count": null,
   "metadata": {},
   "outputs": [],
   "source": []
  },
  {
   "cell_type": "code",
   "execution_count": 365,
   "metadata": {},
   "outputs": [
    {
     "data": {
      "text/html": [
       "<div><div id=5e201e3e-2fec-4101-bda6-d6e2988ab528 style=\"display:none; background-color:#9D6CFF; color:white; width:200px; height:30px; padding-left:5px; border-radius:4px; flex-direction:row; justify-content:space-around; align-items:center;\" onmouseover=\"this.style.backgroundColor='#BA9BF8'\" onmouseout=\"this.style.backgroundColor='#9D6CFF'\" onclick=\"window.commands?.execute('create-mitosheet-from-dataframe-output');\">See Full Dataframe in Mito</div> <script> if (window.commands.hasCommand('create-mitosheet-from-dataframe-output')) document.getElementById('5e201e3e-2fec-4101-bda6-d6e2988ab528').style.display = 'flex' </script> <table border=\"1\" class=\"dataframe\">\n",
       "  <thead>\n",
       "    <tr style=\"text-align: right;\">\n",
       "      <th></th>\n",
       "      <th>idRequisicao</th>\n",
       "      <th>dataRequisicao</th>\n",
       "      <th>dataSaida</th>\n",
       "      <th>dataEntrega</th>\n",
       "      <th>TemContrato</th>\n",
       "      <th>quantidade</th>\n",
       "      <th>custoUnitario</th>\n",
       "      <th>ValorTotal</th>\n",
       "      <th>idComprador</th>\n",
       "      <th>idFornecedor</th>\n",
       "      <th>idMateriaPrima</th>\n",
       "      <th>DataPrevistaEntrega</th>\n",
       "    </tr>\n",
       "  </thead>\n",
       "  <tbody>\n",
       "    <tr>\n",
       "      <th>0</th>\n",
       "      <td>1-120-54579-X</td>\n",
       "      <td>2021-05-18</td>\n",
       "      <td>2021-07-18</td>\n",
       "      <td>2021-09-17</td>\n",
       "      <td>Sim</td>\n",
       "      <td>4</td>\n",
       "      <td>926.36</td>\n",
       "      <td>3705.44</td>\n",
       "      <td>4314</td>\n",
       "      <td>5619</td>\n",
       "      <td>7203</td>\n",
       "      <td>2021-07-28</td>\n",
       "    </tr>\n",
       "    <tr>\n",
       "      <th>1</th>\n",
       "      <td>0-85512-018-5</td>\n",
       "      <td>2021-03-23</td>\n",
       "      <td>2021-08-17</td>\n",
       "      <td>2021-09-10</td>\n",
       "      <td>Sim</td>\n",
       "      <td>19</td>\n",
       "      <td>832.18</td>\n",
       "      <td>15811.42</td>\n",
       "      <td>7288</td>\n",
       "      <td>6688</td>\n",
       "      <td>3828</td>\n",
       "      <td>2021-09-05</td>\n",
       "    </tr>\n",
       "    <tr>\n",
       "      <th>2</th>\n",
       "      <td>0-85452-746-X</td>\n",
       "      <td>2021-01-02</td>\n",
       "      <td>2021-07-27</td>\n",
       "      <td>2021-09-28</td>\n",
       "      <td>Não</td>\n",
       "      <td>13</td>\n",
       "      <td>722.32</td>\n",
       "      <td>9390.16</td>\n",
       "      <td>389</td>\n",
       "      <td>5904</td>\n",
       "      <td>5329</td>\n",
       "      <td>2021-07-31</td>\n",
       "    </tr>\n",
       "    <tr>\n",
       "      <th>3</th>\n",
       "      <td>1-59815-702-7</td>\n",
       "      <td>2021-03-28</td>\n",
       "      <td>2021-07-25</td>\n",
       "      <td>2021-09-06</td>\n",
       "      <td>Sim</td>\n",
       "      <td>6</td>\n",
       "      <td>747.75</td>\n",
       "      <td>4486.50</td>\n",
       "      <td>2640</td>\n",
       "      <td>1292</td>\n",
       "      <td>6018</td>\n",
       "      <td>2021-08-05</td>\n",
       "    </tr>\n",
       "    <tr>\n",
       "      <th>4</th>\n",
       "      <td>0-264-87742-X</td>\n",
       "      <td>2021-06-17</td>\n",
       "      <td>2021-08-28</td>\n",
       "      <td>2021-10-18</td>\n",
       "      <td>Sim</td>\n",
       "      <td>3</td>\n",
       "      <td>568.79</td>\n",
       "      <td>1706.37</td>\n",
       "      <td>331</td>\n",
       "      <td>2879</td>\n",
       "      <td>9128</td>\n",
       "      <td>2021-09-07</td>\n",
       "    </tr>\n",
       "  </tbody>\n",
       "</table></div>"
      ],
      "text/plain": [
       "    idRequisicao dataRequisicao   dataSaida dataEntrega TemContrato  \\\n",
       "0  1-120-54579-X     2021-05-18  2021-07-18  2021-09-17         Sim   \n",
       "1  0-85512-018-5     2021-03-23  2021-08-17  2021-09-10         Sim   \n",
       "2  0-85452-746-X     2021-01-02  2021-07-27  2021-09-28         Não   \n",
       "3  1-59815-702-7     2021-03-28  2021-07-25  2021-09-06         Sim   \n",
       "4  0-264-87742-X     2021-06-17  2021-08-28  2021-10-18         Sim   \n",
       "\n",
       "   quantidade  custoUnitario  ValorTotal  idComprador  idFornecedor  \\\n",
       "0           4         926.36     3705.44         4314          5619   \n",
       "1          19         832.18    15811.42         7288          6688   \n",
       "2          13         722.32     9390.16          389          5904   \n",
       "3           6         747.75     4486.50         2640          1292   \n",
       "4           3         568.79     1706.37          331          2879   \n",
       "\n",
       "   idMateriaPrima DataPrevistaEntrega  \n",
       "0            7203          2021-07-28  \n",
       "1            3828          2021-09-05  \n",
       "2            5329          2021-07-31  \n",
       "3            6018          2021-08-05  \n",
       "4            9128          2021-09-07  "
      ]
     },
     "execution_count": 365,
     "metadata": {},
     "output_type": "execute_result"
    }
   ],
   "source": [
    "dataFramefcompras.head()"
   ]
  },
  {
   "cell_type": "code",
   "execution_count": 366,
   "metadata": {},
   "outputs": [],
   "source": [
    "dataFramfcustopadrao = pd.DataFrame(columns=['idMateriaPrima','idFornecedor','custoUnitarioPadrao'])"
   ]
  },
  {
   "cell_type": "code",
   "execution_count": 367,
   "metadata": {},
   "outputs": [],
   "source": [
    "dataFramfcustopadrao['idMateriaPrima']=dataFramefcompras['idMateriaPrima']\n",
    "dataFramfcustopadrao['idFornecedor']=dataFramefcompras['idFornecedor']\n",
    "\n"
   ]
  },
  {
   "cell_type": "code",
   "execution_count": 368,
   "metadata": {},
   "outputs": [],
   "source": [
    "custoUnitarioPadrao = []"
   ]
  },
  {
   "cell_type": "code",
   "execution_count": 369,
   "metadata": {},
   "outputs": [],
   "source": [
    "for n in range(n):\n",
    "    dataValor=fake.pyfloat(right_digits=2,positive=True,min_value=1,max_value=500,)\n",
    "    \n",
    "    custoUnitarioPadrao.append(dataValor)\n",
    "\n"
   ]
  },
  {
   "cell_type": "code",
   "execution_count": 370,
   "metadata": {},
   "outputs": [],
   "source": [
    "dataFramfcustopadrao['custoUnitarioPadrao'] = custoUnitarioPadrao"
   ]
  },
  {
   "cell_type": "code",
   "execution_count": null,
   "metadata": {},
   "outputs": [],
   "source": []
  },
  {
   "cell_type": "code",
   "execution_count": 371,
   "metadata": {},
   "outputs": [
    {
     "data": {
      "text/html": [
       "<div><div id=694b71fe-faff-41d6-bc38-be9cf5c21deb style=\"display:none; background-color:#9D6CFF; color:white; width:200px; height:30px; padding-left:5px; border-radius:4px; flex-direction:row; justify-content:space-around; align-items:center;\" onmouseover=\"this.style.backgroundColor='#BA9BF8'\" onmouseout=\"this.style.backgroundColor='#9D6CFF'\" onclick=\"window.commands?.execute('create-mitosheet-from-dataframe-output');\">See Full Dataframe in Mito</div> <script> if (window.commands.hasCommand('create-mitosheet-from-dataframe-output')) document.getElementById('694b71fe-faff-41d6-bc38-be9cf5c21deb').style.display = 'flex' </script> <table border=\"1\" class=\"dataframe\">\n",
       "  <thead>\n",
       "    <tr style=\"text-align: right;\">\n",
       "      <th></th>\n",
       "      <th>idMateriaPrima</th>\n",
       "      <th>idFornecedor</th>\n",
       "      <th>custoUnitarioPadrao</th>\n",
       "    </tr>\n",
       "  </thead>\n",
       "  <tbody>\n",
       "    <tr>\n",
       "      <th>0</th>\n",
       "      <td>7203</td>\n",
       "      <td>5619</td>\n",
       "      <td>458.24</td>\n",
       "    </tr>\n",
       "    <tr>\n",
       "      <th>1</th>\n",
       "      <td>3828</td>\n",
       "      <td>6688</td>\n",
       "      <td>108.40</td>\n",
       "    </tr>\n",
       "    <tr>\n",
       "      <th>2</th>\n",
       "      <td>5329</td>\n",
       "      <td>5904</td>\n",
       "      <td>433.77</td>\n",
       "    </tr>\n",
       "    <tr>\n",
       "      <th>3</th>\n",
       "      <td>6018</td>\n",
       "      <td>1292</td>\n",
       "      <td>434.79</td>\n",
       "    </tr>\n",
       "    <tr>\n",
       "      <th>4</th>\n",
       "      <td>9128</td>\n",
       "      <td>2879</td>\n",
       "      <td>181.42</td>\n",
       "    </tr>\n",
       "  </tbody>\n",
       "</table></div>"
      ],
      "text/plain": [
       "   idMateriaPrima  idFornecedor  custoUnitarioPadrao\n",
       "0            7203          5619               458.24\n",
       "1            3828          6688               108.40\n",
       "2            5329          5904               433.77\n",
       "3            6018          1292               434.79\n",
       "4            9128          2879               181.42"
      ]
     },
     "execution_count": 371,
     "metadata": {},
     "output_type": "execute_result"
    }
   ],
   "source": [
    "dataFramfcustopadrao.head()"
   ]
  },
  {
   "cell_type": "code",
   "execution_count": null,
   "metadata": {},
   "outputs": [],
   "source": []
  },
  {
   "cell_type": "markdown",
   "metadata": {},
   "source": [
    "# Exportar dados"
   ]
  },
  {
   "cell_type": "code",
   "execution_count": 372,
   "metadata": {},
   "outputs": [],
   "source": [
    "dataFramefcompras.to_excel('fcompras.xlsx',index=False)\n",
    "dataFramfcustopadrao.to_excel('fcustopadrao.xlsx',index=False)\n",
    "dataFrame_dfornecedor.to_excel('dfornecedor.xlsx',index=False)\n",
    "dataFrame_dcomprador.to_excel('dcomprador.xlsx',index=False)\n",
    "dataFrame_dmateriaprima.to_excel('dmateriaprima.xlsx',index=False)"
   ]
  },
  {
   "cell_type": "code",
   "execution_count": null,
   "metadata": {},
   "outputs": [],
   "source": []
  },
  {
   "cell_type": "code",
   "execution_count": 373,
   "metadata": {},
   "outputs": [
    {
     "data": {
      "text/html": [
       "<div><div id=bc672053-75ad-40d5-a31a-a5f0f25c2083 style=\"display:none; background-color:#9D6CFF; color:white; width:200px; height:30px; padding-left:5px; border-radius:4px; flex-direction:row; justify-content:space-around; align-items:center;\" onmouseover=\"this.style.backgroundColor='#BA9BF8'\" onmouseout=\"this.style.backgroundColor='#9D6CFF'\" onclick=\"window.commands?.execute('create-mitosheet-from-dataframe-output');\">See Full Dataframe in Mito</div> <script> if (window.commands.hasCommand('create-mitosheet-from-dataframe-output')) document.getElementById('bc672053-75ad-40d5-a31a-a5f0f25c2083').style.display = 'flex' </script> <table border=\"1\" class=\"dataframe\">\n",
       "  <thead>\n",
       "    <tr style=\"text-align: right;\">\n",
       "      <th></th>\n",
       "      <th>idRequisicao</th>\n",
       "      <th>dataRequisicao</th>\n",
       "      <th>dataSaida</th>\n",
       "      <th>dataEntrega</th>\n",
       "      <th>TemContrato</th>\n",
       "      <th>quantidade</th>\n",
       "      <th>custoUnitario</th>\n",
       "      <th>ValorTotal</th>\n",
       "      <th>idComprador</th>\n",
       "      <th>idFornecedor</th>\n",
       "      <th>idMateriaPrima</th>\n",
       "      <th>DataPrevistaEntrega</th>\n",
       "    </tr>\n",
       "  </thead>\n",
       "  <tbody>\n",
       "    <tr>\n",
       "      <th>0</th>\n",
       "      <td>1-120-54579-X</td>\n",
       "      <td>2021-05-18</td>\n",
       "      <td>2021-07-18</td>\n",
       "      <td>2021-09-17</td>\n",
       "      <td>Sim</td>\n",
       "      <td>4</td>\n",
       "      <td>926.36</td>\n",
       "      <td>3705.44</td>\n",
       "      <td>4314</td>\n",
       "      <td>5619</td>\n",
       "      <td>7203</td>\n",
       "      <td>2021-07-28</td>\n",
       "    </tr>\n",
       "    <tr>\n",
       "      <th>1</th>\n",
       "      <td>0-85512-018-5</td>\n",
       "      <td>2021-03-23</td>\n",
       "      <td>2021-08-17</td>\n",
       "      <td>2021-09-10</td>\n",
       "      <td>Sim</td>\n",
       "      <td>19</td>\n",
       "      <td>832.18</td>\n",
       "      <td>15811.42</td>\n",
       "      <td>7288</td>\n",
       "      <td>6688</td>\n",
       "      <td>3828</td>\n",
       "      <td>2021-09-05</td>\n",
       "    </tr>\n",
       "    <tr>\n",
       "      <th>2</th>\n",
       "      <td>0-85452-746-X</td>\n",
       "      <td>2021-01-02</td>\n",
       "      <td>2021-07-27</td>\n",
       "      <td>2021-09-28</td>\n",
       "      <td>Não</td>\n",
       "      <td>13</td>\n",
       "      <td>722.32</td>\n",
       "      <td>9390.16</td>\n",
       "      <td>389</td>\n",
       "      <td>5904</td>\n",
       "      <td>5329</td>\n",
       "      <td>2021-07-31</td>\n",
       "    </tr>\n",
       "    <tr>\n",
       "      <th>3</th>\n",
       "      <td>1-59815-702-7</td>\n",
       "      <td>2021-03-28</td>\n",
       "      <td>2021-07-25</td>\n",
       "      <td>2021-09-06</td>\n",
       "      <td>Sim</td>\n",
       "      <td>6</td>\n",
       "      <td>747.75</td>\n",
       "      <td>4486.50</td>\n",
       "      <td>2640</td>\n",
       "      <td>1292</td>\n",
       "      <td>6018</td>\n",
       "      <td>2021-08-05</td>\n",
       "    </tr>\n",
       "    <tr>\n",
       "      <th>4</th>\n",
       "      <td>0-264-87742-X</td>\n",
       "      <td>2021-06-17</td>\n",
       "      <td>2021-08-28</td>\n",
       "      <td>2021-10-18</td>\n",
       "      <td>Sim</td>\n",
       "      <td>3</td>\n",
       "      <td>568.79</td>\n",
       "      <td>1706.37</td>\n",
       "      <td>331</td>\n",
       "      <td>2879</td>\n",
       "      <td>9128</td>\n",
       "      <td>2021-09-07</td>\n",
       "    </tr>\n",
       "  </tbody>\n",
       "</table></div>"
      ],
      "text/plain": [
       "    idRequisicao dataRequisicao   dataSaida dataEntrega TemContrato  \\\n",
       "0  1-120-54579-X     2021-05-18  2021-07-18  2021-09-17         Sim   \n",
       "1  0-85512-018-5     2021-03-23  2021-08-17  2021-09-10         Sim   \n",
       "2  0-85452-746-X     2021-01-02  2021-07-27  2021-09-28         Não   \n",
       "3  1-59815-702-7     2021-03-28  2021-07-25  2021-09-06         Sim   \n",
       "4  0-264-87742-X     2021-06-17  2021-08-28  2021-10-18         Sim   \n",
       "\n",
       "   quantidade  custoUnitario  ValorTotal  idComprador  idFornecedor  \\\n",
       "0           4         926.36     3705.44         4314          5619   \n",
       "1          19         832.18    15811.42         7288          6688   \n",
       "2          13         722.32     9390.16          389          5904   \n",
       "3           6         747.75     4486.50         2640          1292   \n",
       "4           3         568.79     1706.37          331          2879   \n",
       "\n",
       "   idMateriaPrima DataPrevistaEntrega  \n",
       "0            7203          2021-07-28  \n",
       "1            3828          2021-09-05  \n",
       "2            5329          2021-07-31  \n",
       "3            6018          2021-08-05  \n",
       "4            9128          2021-09-07  "
      ]
     },
     "execution_count": 373,
     "metadata": {},
     "output_type": "execute_result"
    }
   ],
   "source": [
    "dataFramefcompras.head()"
   ]
  },
  {
   "cell_type": "code",
   "execution_count": 374,
   "metadata": {},
   "outputs": [
    {
     "data": {
      "text/html": [
       "<div><div id=da40218e-6516-480b-8b8f-6869a1ff16ab style=\"display:none; background-color:#9D6CFF; color:white; width:200px; height:30px; padding-left:5px; border-radius:4px; flex-direction:row; justify-content:space-around; align-items:center;\" onmouseover=\"this.style.backgroundColor='#BA9BF8'\" onmouseout=\"this.style.backgroundColor='#9D6CFF'\" onclick=\"window.commands?.execute('create-mitosheet-from-dataframe-output');\">See Full Dataframe in Mito</div> <script> if (window.commands.hasCommand('create-mitosheet-from-dataframe-output')) document.getElementById('da40218e-6516-480b-8b8f-6869a1ff16ab').style.display = 'flex' </script> <table border=\"1\" class=\"dataframe\">\n",
       "  <thead>\n",
       "    <tr style=\"text-align: right;\">\n",
       "      <th></th>\n",
       "      <th>idMateriaPrima</th>\n",
       "      <th>idFornecedor</th>\n",
       "      <th>custoUnitarioPadrao</th>\n",
       "    </tr>\n",
       "  </thead>\n",
       "  <tbody>\n",
       "    <tr>\n",
       "      <th>0</th>\n",
       "      <td>7203</td>\n",
       "      <td>5619</td>\n",
       "      <td>458.24</td>\n",
       "    </tr>\n",
       "    <tr>\n",
       "      <th>1</th>\n",
       "      <td>3828</td>\n",
       "      <td>6688</td>\n",
       "      <td>108.40</td>\n",
       "    </tr>\n",
       "    <tr>\n",
       "      <th>2</th>\n",
       "      <td>5329</td>\n",
       "      <td>5904</td>\n",
       "      <td>433.77</td>\n",
       "    </tr>\n",
       "    <tr>\n",
       "      <th>3</th>\n",
       "      <td>6018</td>\n",
       "      <td>1292</td>\n",
       "      <td>434.79</td>\n",
       "    </tr>\n",
       "    <tr>\n",
       "      <th>4</th>\n",
       "      <td>9128</td>\n",
       "      <td>2879</td>\n",
       "      <td>181.42</td>\n",
       "    </tr>\n",
       "  </tbody>\n",
       "</table></div>"
      ],
      "text/plain": [
       "   idMateriaPrima  idFornecedor  custoUnitarioPadrao\n",
       "0            7203          5619               458.24\n",
       "1            3828          6688               108.40\n",
       "2            5329          5904               433.77\n",
       "3            6018          1292               434.79\n",
       "4            9128          2879               181.42"
      ]
     },
     "execution_count": 374,
     "metadata": {},
     "output_type": "execute_result"
    }
   ],
   "source": [
    "dataFramfcustopadrao.head()"
   ]
  },
  {
   "cell_type": "code",
   "execution_count": 375,
   "metadata": {},
   "outputs": [
    {
     "data": {
      "text/html": [
       "<div><div id=c7e2cd7c-6253-42aa-926f-bf98862eb59a style=\"display:none; background-color:#9D6CFF; color:white; width:200px; height:30px; padding-left:5px; border-radius:4px; flex-direction:row; justify-content:space-around; align-items:center;\" onmouseover=\"this.style.backgroundColor='#BA9BF8'\" onmouseout=\"this.style.backgroundColor='#9D6CFF'\" onclick=\"window.commands?.execute('create-mitosheet-from-dataframe-output');\">See Full Dataframe in Mito</div> <script> if (window.commands.hasCommand('create-mitosheet-from-dataframe-output')) document.getElementById('c7e2cd7c-6253-42aa-926f-bf98862eb59a').style.display = 'flex' </script> <table border=\"1\" class=\"dataframe\">\n",
       "  <thead>\n",
       "    <tr style=\"text-align: right;\">\n",
       "      <th></th>\n",
       "      <th>idFornecedor</th>\n",
       "      <th>fornecedor</th>\n",
       "      <th>PrazoEntregaPadrao</th>\n",
       "    </tr>\n",
       "  </thead>\n",
       "  <tbody>\n",
       "    <tr>\n",
       "      <th>0</th>\n",
       "      <td>5619</td>\n",
       "      <td>Catarina Silveira</td>\n",
       "      <td>10</td>\n",
       "    </tr>\n",
       "    <tr>\n",
       "      <th>1</th>\n",
       "      <td>6688</td>\n",
       "      <td>Eduardo Moraes</td>\n",
       "      <td>19</td>\n",
       "    </tr>\n",
       "    <tr>\n",
       "      <th>2</th>\n",
       "      <td>5904</td>\n",
       "      <td>Yuri Cunha</td>\n",
       "      <td>4</td>\n",
       "    </tr>\n",
       "    <tr>\n",
       "      <th>3</th>\n",
       "      <td>1292</td>\n",
       "      <td>Nicolas Monteiro</td>\n",
       "      <td>11</td>\n",
       "    </tr>\n",
       "    <tr>\n",
       "      <th>4</th>\n",
       "      <td>2879</td>\n",
       "      <td>Maria Luiza Rezende</td>\n",
       "      <td>10</td>\n",
       "    </tr>\n",
       "  </tbody>\n",
       "</table></div>"
      ],
      "text/plain": [
       "   idFornecedor           fornecedor  PrazoEntregaPadrao\n",
       "0          5619    Catarina Silveira                  10\n",
       "1          6688       Eduardo Moraes                  19\n",
       "2          5904           Yuri Cunha                   4\n",
       "3          1292     Nicolas Monteiro                  11\n",
       "4          2879  Maria Luiza Rezende                  10"
      ]
     },
     "execution_count": 375,
     "metadata": {},
     "output_type": "execute_result"
    }
   ],
   "source": [
    "dataFrame_dfornecedor.head()"
   ]
  },
  {
   "cell_type": "code",
   "execution_count": 376,
   "metadata": {},
   "outputs": [
    {
     "data": {
      "text/html": [
       "<div><div id=aa51babc-bbaf-4a29-928f-a367d7768ed7 style=\"display:none; background-color:#9D6CFF; color:white; width:200px; height:30px; padding-left:5px; border-radius:4px; flex-direction:row; justify-content:space-around; align-items:center;\" onmouseover=\"this.style.backgroundColor='#BA9BF8'\" onmouseout=\"this.style.backgroundColor='#9D6CFF'\" onclick=\"window.commands?.execute('create-mitosheet-from-dataframe-output');\">See Full Dataframe in Mito</div> <script> if (window.commands.hasCommand('create-mitosheet-from-dataframe-output')) document.getElementById('aa51babc-bbaf-4a29-928f-a367d7768ed7').style.display = 'flex' </script> <table border=\"1\" class=\"dataframe\">\n",
       "  <thead>\n",
       "    <tr style=\"text-align: right;\">\n",
       "      <th></th>\n",
       "      <th>idComprador</th>\n",
       "      <th>comprador</th>\n",
       "    </tr>\n",
       "  </thead>\n",
       "  <tbody>\n",
       "    <tr>\n",
       "      <th>0</th>\n",
       "      <td>4314</td>\n",
       "      <td>Ana Duarte</td>\n",
       "    </tr>\n",
       "    <tr>\n",
       "      <th>1</th>\n",
       "      <td>7288</td>\n",
       "      <td>Mariana Moraes</td>\n",
       "    </tr>\n",
       "    <tr>\n",
       "      <th>2</th>\n",
       "      <td>389</td>\n",
       "      <td>Thales Fernandes</td>\n",
       "    </tr>\n",
       "    <tr>\n",
       "      <th>3</th>\n",
       "      <td>2640</td>\n",
       "      <td>Thomas da Mota</td>\n",
       "    </tr>\n",
       "    <tr>\n",
       "      <th>4</th>\n",
       "      <td>331</td>\n",
       "      <td>Laís Fernandes</td>\n",
       "    </tr>\n",
       "  </tbody>\n",
       "</table></div>"
      ],
      "text/plain": [
       "   idComprador         comprador\n",
       "0         4314        Ana Duarte\n",
       "1         7288    Mariana Moraes\n",
       "2          389  Thales Fernandes\n",
       "3         2640    Thomas da Mota\n",
       "4          331    Laís Fernandes"
      ]
     },
     "execution_count": 376,
     "metadata": {},
     "output_type": "execute_result"
    }
   ],
   "source": [
    "dataFrame_dcomprador.head()"
   ]
  },
  {
   "cell_type": "code",
   "execution_count": 377,
   "metadata": {},
   "outputs": [
    {
     "data": {
      "text/html": [
       "<div><div id=0e3f0b0b-97c6-4b39-9734-68413564c037 style=\"display:none; background-color:#9D6CFF; color:white; width:200px; height:30px; padding-left:5px; border-radius:4px; flex-direction:row; justify-content:space-around; align-items:center;\" onmouseover=\"this.style.backgroundColor='#BA9BF8'\" onmouseout=\"this.style.backgroundColor='#9D6CFF'\" onclick=\"window.commands?.execute('create-mitosheet-from-dataframe-output');\">See Full Dataframe in Mito</div> <script> if (window.commands.hasCommand('create-mitosheet-from-dataframe-output')) document.getElementById('0e3f0b0b-97c6-4b39-9734-68413564c037').style.display = 'flex' </script> <table border=\"1\" class=\"dataframe\">\n",
       "  <thead>\n",
       "    <tr style=\"text-align: right;\">\n",
       "      <th></th>\n",
       "      <th>idMateriaPrima</th>\n",
       "      <th>materiaPrima</th>\n",
       "    </tr>\n",
       "  </thead>\n",
       "  <tbody>\n",
       "    <tr>\n",
       "      <th>0</th>\n",
       "      <td>7203</td>\n",
       "      <td>LUX</td>\n",
       "    </tr>\n",
       "    <tr>\n",
       "      <th>1</th>\n",
       "      <td>3828</td>\n",
       "      <td>BOG</td>\n",
       "    </tr>\n",
       "    <tr>\n",
       "      <th>2</th>\n",
       "      <td>5329</td>\n",
       "      <td>CGQ</td>\n",
       "    </tr>\n",
       "    <tr>\n",
       "      <th>3</th>\n",
       "      <td>6018</td>\n",
       "      <td>KTM</td>\n",
       "    </tr>\n",
       "    <tr>\n",
       "      <th>4</th>\n",
       "      <td>9128</td>\n",
       "      <td>GDL</td>\n",
       "    </tr>\n",
       "  </tbody>\n",
       "</table></div>"
      ],
      "text/plain": [
       "   idMateriaPrima materiaPrima\n",
       "0            7203          LUX\n",
       "1            3828          BOG\n",
       "2            5329          CGQ\n",
       "3            6018          KTM\n",
       "4            9128          GDL"
      ]
     },
     "execution_count": 377,
     "metadata": {},
     "output_type": "execute_result"
    }
   ],
   "source": [
    "dataFrame_dmateriaprima.head()"
   ]
  },
  {
   "cell_type": "code",
   "execution_count": null,
   "metadata": {},
   "outputs": [],
   "source": []
  },
  {
   "cell_type": "code",
   "execution_count": null,
   "metadata": {},
   "outputs": [],
   "source": []
  },
  {
   "cell_type": "code",
   "execution_count": null,
   "metadata": {},
   "outputs": [],
   "source": []
  },
  {
   "cell_type": "code",
   "execution_count": null,
   "metadata": {},
   "outputs": [],
   "source": []
  }
 ],
 "metadata": {
  "kernelspec": {
   "display_name": "Python 3",
   "language": "python",
   "name": "python3"
  },
  "language_info": {
   "codemirror_mode": {
    "name": "ipython",
    "version": 3
   },
   "file_extension": ".py",
   "mimetype": "text/x-python",
   "name": "python",
   "nbconvert_exporter": "python",
   "pygments_lexer": "ipython3",
   "version": "3.8.10"
  }
 },
 "nbformat": 4,
 "nbformat_minor": 4
}
