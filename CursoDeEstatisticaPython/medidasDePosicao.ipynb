{
 "cells": [
  {
   "cell_type": "markdown",
   "metadata": {},
   "source": [
    "# Bibliotecas necessárias"
   ]
  },
  {
   "cell_type": "code",
   "execution_count": 43,
   "metadata": {},
   "outputs": [],
   "source": [
    "import pandas as pd\n",
    "import numpy as np"
   ]
  },
  {
   "cell_type": "markdown",
   "metadata": {},
   "source": [
    "## Bibliotecas para estátistica"
   ]
  },
  {
   "cell_type": "code",
   "execution_count": 44,
   "metadata": {},
   "outputs": [],
   "source": [
    "\n",
    "import scipy.stats as stats\n",
    "import pingouin as pg\n",
    "import statistics as sts"
   ]
  },
  {
   "cell_type": "markdown",
   "metadata": {},
   "source": [
    "## Bibliotecas para visualização de dados"
   ]
  },
  {
   "cell_type": "code",
   "execution_count": 54,
   "metadata": {},
   "outputs": [],
   "source": [
    "import matplotlib.pyplot as plt\n",
    "import seaborn as sns"
   ]
  },
  {
   "cell_type": "markdown",
   "metadata": {},
   "source": [
    "# Livro de referência \n",
    "\n",
    " - [ Estatistica basica / Geraldo Luciano Toledo, Ivo Izidoro Ovalle](https://biblioteca.ibge.gov.br/biblioteca-catalogo?id=222461&view=detalhes)\n",
    " - [Material de refêrencia](https://github.com/janiosl/python.ds)"
   ]
  },
  {
   "cell_type": "markdown",
   "metadata": {},
   "source": [
    "## Info\n",
    "Quando se pretende empreender um estudo estatistico completo,\n",
    "existem diversas fases do trabalho que devem ser desenvolvidas para se chegar\n",
    "aos resultados finais do estudo. Essas etapas ou opera9oes sao chamadas fases\n",
    "20 do trabalho estatistico e sao de ambito da Estatistica Descritiva.\n",
    "\n",
    "### As fases principais sao as seguintes:\n",
    "    - Definição do Problema\n",
    "    - Planejamento\n",
    "    - Coleta dos Dados\n",
    "    - Apuração dos Dados\n",
    "    - Apresentação dos Dados\n",
    "    - Análise e Interpretação de Dados\n",
    "    "
   ]
  },
  {
   "cell_type": "code",
   "execution_count": null,
   "metadata": {},
   "outputs": [],
   "source": []
  },
  {
   "cell_type": "markdown",
   "metadata": {},
   "source": [
    "# 1-  MEDIDAS ESTATÍSTICAS\n",
    "     - Medidas de posição: média, mediana e moda\n",
    "     - Quartis, decis e percentis\n",
    "     - Medidas de dispersão: amplitude, desvio médio, variância, desvio padrão e coeficiente de variação \n",
    "     \n",
    "     \n",
    "A moda, a media aritmetica e a mediana sao as tres medidas de\n",
    "tendencia central ou promedios mais utilizados para resumir o conjunto de valores representativos do fenomeno que se deseja estudar. Outros promedios\n",
    "menos usados sao a media geometrica, harmonica, quadratica, cilbica e\n",
    "biquadratica. "
   ]
  },
  {
   "cell_type": "code",
   "execution_count": null,
   "metadata": {},
   "outputs": [],
   "source": []
  },
  {
   "cell_type": "markdown",
   "metadata": {},
   "source": [
    "## 1- Média\n",
    "\n",
    "A medida de tendencia central mais comumente usada para descrever\n",
    "resumidamente uma distribuii;ao de freqiiencias e a media, ou mais propriamente, a media aritmetica. Ha varios tipos de medias, os quais serao examinados a seguir: \n",
    "   - média \n",
    "   - aritmetica\n",
    "   - média geometrica\n",
    "   - media harmonica\n",
    "   - média quadratica\n",
    "   - média cubica\n",
    "   - média biquadratica\n",
    "    \n"
   ]
  },
  {
   "cell_type": "markdown",
   "metadata": {},
   "source": [
    "## 1.1- Media Aritmética Simples\n",
    "\n",
    "A média aritmética é a mais conhecida devido a frequência com que dela se utiliza. \n",
    "\n",
    "Existem dois tipos de médias aritmeticas que são:\n",
    "   - Media Aritmetica Simples \n",
    "   - Media Aritmetica Ponderada\n",
    "  \n",
    "Media Aritmetica Simples\n",
    "\n",
    " A média aritmetica simples de um conjunto de numeros e igual ao quociente entre a soma dos valores do conjunto e o numero total de valores.\n",
    " \n",
    " "
   ]
  },
  {
   "cell_type": "code",
   "execution_count": 45,
   "metadata": {},
   "outputs": [],
   "source": [
    "### Media Aritmética Simples \n",
    "\n",
    "x = [800,780,820,810,790]\n",
    "n = len(x)\n",
    "#x_total= sum(x)\n",
    "x_total = 0\n",
    "\n",
    "for xi in x:\n",
    "    x_total = x_total + xi\n",
    "\n",
    "x_medio = x_total/n\n",
    "#x_medio = x_total/len(x)\n",
    "\n",
    "\n",
    "#Usando a biblioteca statistics\n",
    "x_medio_sts = sts.mean(x)"
   ]
  },
  {
   "cell_type": "code",
   "execution_count": 46,
   "metadata": {},
   "outputs": [
    {
     "name": "stdout",
     "output_type": "stream",
     "text": [
      "Média Simples é : 800.0\n",
      "Média Simples usando a biblioteca statistics é : 800\n"
     ]
    }
   ],
   "source": [
    "print('Média Simples é :', x_medio)\n",
    "print('Média Simples usando a biblioteca statistics é :', x_medio_sts)"
   ]
  },
  {
   "cell_type": "markdown",
   "metadata": {},
   "source": [
    "1.2 ## Média Aritmética Ponderada\n",
    "\n",
    "Média Aritmetica Ponderada\n",
    " \n",
    "  A media aritmetica e considerada ponderada quando os valores do\n",
    "conjunto tiverem pesos diferentes. Tratando-se de media simples, todos OS\n",
    "valores apresentam igual peso. Obtem-se uma media aritmetica ponderada\n",
    "atraves do quociente entre o produto dos valores da variavel pelos respectivos\n",
    "pesos e a soma dos pesos. \n",
    "\n",
    " por exemplo, um professor pode realizar quatro provas por\n",
    "ano em sua materia, atribuindo a cada uma delas os seguintes pesos: 1, 2, 3, 4 .\n",
    ". Se um aluno tiver recebido as notas 8, 7; 9 e 9, nessa ordem, sua nota\n",
    "final sera a media aritmetica ponderada 8,5"
   ]
  },
  {
   "cell_type": "code",
   "execution_count": 47,
   "metadata": {},
   "outputs": [
    {
     "ename": "TypeError",
     "evalue": "mean() takes 1 positional argument but 2 were given",
     "output_type": "error",
     "traceback": [
      "\u001b[0;31m---------------------------------------------------------------------------\u001b[0m",
      "\u001b[0;31mTypeError\u001b[0m                                 Traceback (most recent call last)",
      "\u001b[0;32m<ipython-input-47-ee766dcb9f0e>\u001b[0m in \u001b[0;36m<module>\u001b[0;34m\u001b[0m\n\u001b[1;32m     10\u001b[0m \u001b[0mnota_media\u001b[0m \u001b[0;34m=\u001b[0m \u001b[0mnotas_total\u001b[0m\u001b[0;34m/\u001b[0m\u001b[0mpesos_total\u001b[0m\u001b[0;34m\u001b[0m\u001b[0;34m\u001b[0m\u001b[0m\n\u001b[1;32m     11\u001b[0m \u001b[0;34m\u001b[0m\u001b[0m\n\u001b[0;32m---> 12\u001b[0;31m \u001b[0mmedia_ponderada_sts\u001b[0m \u001b[0;34m=\u001b[0m \u001b[0msts\u001b[0m\u001b[0;34m.\u001b[0m\u001b[0mmean\u001b[0m\u001b[0;34m(\u001b[0m\u001b[0mnotas\u001b[0m\u001b[0;34m,\u001b[0m \u001b[0mpesos\u001b[0m\u001b[0;34m)\u001b[0m\u001b[0;34m\u001b[0m\u001b[0;34m\u001b[0m\u001b[0m\n\u001b[0m",
      "\u001b[0;31mTypeError\u001b[0m: mean() takes 1 positional argument but 2 were given"
     ]
    }
   ],
   "source": [
    "\n",
    "notas = [8,7,9,9]\n",
    "pesos = [1,2,3,4]\n",
    "pesos_total = 0\n",
    "notas_total = 0\n",
    "\n",
    "for (xi,p) in zip (notas, pesos):\n",
    "    notas_total = notas_total + xi*p \n",
    "    pesos_total = pesos_total + p\n",
    "    \n",
    "nota_media = notas_total/pesos_total\n",
    "\n",
    "media_ponderada_sts = sts.mean(notas, pesos)\n"
   ]
  },
  {
   "cell_type": "code",
   "execution_count": null,
   "metadata": {},
   "outputs": [
    {
     "name": "stdout",
     "output_type": "stream",
     "text": [
      "Média Ponderada é : 8.5\n"
     ]
    }
   ],
   "source": [
    "print('Média Ponderada é :', nota_media)"
   ]
  },
  {
   "cell_type": "code",
   "execution_count": null,
   "metadata": {},
   "outputs": [],
   "source": []
  },
  {
   "cell_type": "markdown",
   "metadata": {},
   "source": [
    "## 1.2 Média Harmônica e Média Harmônica Ponderada\n",
    "\n",
    " Média harmonica é uma medida de tendencia central que é calculada pela divisão de 1 por uma soma do inverso de todos os valores do conjunto pelo número de valores totais do conjunto dividido pelo número de elememtos do conjunto.\n",
    "\n",
    "      x = 1 / ((1/x_1 +1/x_2+1/x_3+1/x_n)/n)\n",
    "    "
   ]
  },
  {
   "cell_type": "code",
   "execution_count": null,
   "metadata": {},
   "outputs": [],
   "source": [
    "x = [10,60,360]\n",
    "media_harmonica = round(1/(sum(1/xi for xi in x)/len(x)),2)"
   ]
  },
  {
   "cell_type": "code",
   "execution_count": null,
   "metadata": {},
   "outputs": [
    {
     "data": {
      "text/plain": [
       "25.12"
      ]
     },
     "execution_count": 28,
     "metadata": {},
     "output_type": "execute_result"
    }
   ],
   "source": [
    "media_harmonica"
   ]
  },
  {
   "cell_type": "code",
   "execution_count": null,
   "metadata": {},
   "outputs": [],
   "source": [
    "# Média harmonica ponderada\n",
    "\n",
    "x = [120,100]\n",
    "p = [30,50]\n",
    "\n",
    "media_harmonica_p = 1/(round(sum(xi*(1/p) for (xi,p) in zip(x,p))/sum(x),2))"
   ]
  },
  {
   "cell_type": "code",
   "execution_count": null,
   "metadata": {},
   "outputs": [
    {
     "data": {
      "text/plain": [
       "33.333333333333336"
      ]
     },
     "execution_count": 42,
     "metadata": {},
     "output_type": "execute_result"
    }
   ],
   "source": [
    "media_harmonica_p"
   ]
  },
  {
   "cell_type": "markdown",
   "metadata": {},
   "source": [
    "# Exercício 1.1 - Produção de funcionários"
   ]
  },
  {
   "cell_type": "code",
   "execution_count": 50,
   "metadata": {},
   "outputs": [],
   "source": [
    "funcionario_A = [70,71,72,70,70]\n",
    "funcionario_B = [60,80,70,62,83]\n",
    "\n",
    "media_funcionario_A = sts.mean(funcionario_A)\n",
    "media_funcionario_B = sts.mean(funcionario_B)\n"
   ]
  },
  {
   "cell_type": "code",
   "execution_count": 59,
   "metadata": {},
   "outputs": [
    {
     "data": {
      "image/png": "[encoded data removed]",
      "text/plain": [
       "<Figure size 720x360 with 1 Axes>"
      ]
     },
     "metadata": {
      "needs_background": "light"
     },
     "output_type": "display_data"
    }
   ],
   "source": [
    "# plot \n",
    "fig, ax = plt.subplots(figsize=(10,5))\n",
    "ax.plot(funcionario_A, label='Funcionario A')\n",
    "ax.plot(funcionario_B, label='Funcionario B')\n",
    "plt.legend(['Produtividade Funcionario A','Produtividade Funcionario B'],loc='upper left')\n",
    "plt.show()"
   ]
  },
  {
   "cell_type": "code",
   "execution_count": 51,
   "metadata": {},
   "outputs": [
    {
     "name": "stdout",
     "output_type": "stream",
     "text": [
      "Média do Funcionário A é : 70.6\n",
      "Média do Funcionário B é : 71\n"
     ]
    }
   ],
   "source": [
    "print('Média do Funcionário A é :', media_funcionario_A)\n",
    "print('Média do Funcionário B é :', media_funcionario_B)"
   ]
  },
  {
   "cell_type": "markdown",
   "metadata": {},
   "source": [
    "## Conceito de amplitude dos dados\n",
    "Amplitude dos dados é a maior distancia entre dois valores consecutivos do conjunto."
   ]
  },
  {
   "cell_type": "code",
   "execution_count": 52,
   "metadata": {},
   "outputs": [],
   "source": [
    "amplitude_empregado_A = max(funcionario_A) - min(funcionario_A)\n",
    "amplitude_empregado_B = max(funcionario_B) - min(funcionario_B)"
   ]
  },
  {
   "cell_type": "code",
   "execution_count": 53,
   "metadata": {},
   "outputs": [
    {
     "name": "stdout",
     "output_type": "stream",
     "text": [
      "Amplitude do Funcionário A é : 2\n",
      "Amplitude do Funcionário B é : 23\n"
     ]
    }
   ],
   "source": [
    "print('Amplitude do Funcionário A é :', amplitude_empregado_A)\n",
    "print('Amplitude do Funcionário B é :', amplitude_empregado_B)"
   ]
  },
  {
   "cell_type": "markdown",
   "metadata": {},
   "source": [
    "# 1.2-  Mediana e Moda"
   ]
  },
  {
   "cell_type": "markdown",
   "metadata": {},
   "source": [
    "Relação empírica entre média, moda e mediana\n",
    "\n",
    "De forma simplificada:\n",
    "\n",
    "Média: medida de tendência central para descrever resumidamente uma distribuição de frequência. \n",
    "Mo - Moda: valor mais frequente no conjunto de dados\n",
    "Md - Mediana: valor central do conjunto de dados em que ao menos 50% dos valores sejam iguais ou maiores a ela\n",
    "Condições para relações empíricas:\n",
    "\n",
    "A mediana e a terceira medida de tendencia central e pode ser definida como o valor que divide uma serie ordenada de tal forma que pelo menos a metade ou cinqilenta por cento dos itens sejam iguais ou maiores\n",
    "do que ela, e que haja pelo menos outra metade ou cinqilenta por cento de itens maiores do que ela. A mediana e considerada uma separatriz, por ser um promedio que divide a distribui9ao ou conjunto de dados em partes\n",
    "iguais.\n",
    "\n",
    "A moda é outra medida de tendencia central, havendo outras deno­minações para designa-la: norma, valor dominante, valor tipico. Generica­mente, pode-se definir a moda como o valor mais freqiiente, quando\n",
    "comparada sua frequência com a dos valores contiguos de um conjunto ordenado. Quando afirmamos que o salario modal de uma empresa e igual a dois mil cruzeiros, queremos dizer que esse e o salano percebido pelo\n",
    "maior n6mero de pessoas dessa empresa.\n",
    "\n",
    "Distribuição unimodal;\n",
    "Distribuição fracamente assimétrica;\n",
    "Número de observações grande e pequena escala de unidades que divide a distribuição.\n",
    "Relações:\n",
    "\n",
    "média = (3Md - Mo) / 2\n",
    "Mo = 3md - 2media\n",
    "Md = (2media + Mo) / 3"
   ]
  },
  {
   "cell_type": "code",
   "execution_count": 89,
   "metadata": {},
   "outputs": [
    {
     "name": "stdout",
     "output_type": "stream",
     "text": [
      "Moda é : 5\n",
      "Moda é : 2\n"
     ]
    }
   ],
   "source": [
    "#Moda\n",
    "\n",
    "x = [1,2,5,4,5,2,7,5,9,10]\n",
    "y = [2,3,2,3,2,3]\n",
    "\n",
    "sts.mode(x)\n",
    "sts.mode(y)\n",
    "print('Moda é :', sts.mode(x))\n",
    "print('Moda é :', sts.mode(y))"
   ]
  },
  {
   "cell_type": "code",
   "execution_count": 107,
   "metadata": {},
   "outputs": [
    {
     "name": "stdout",
     "output_type": "stream",
     "text": [
      "Mediana é : 14\n",
      "Mediana é : 13.0\n"
     ]
    }
   ],
   "source": [
    "# Mediana\n",
    "x = [3, 6,9,12, 14, 15, 17, 20]\n",
    "\n",
    "#x = np.sort(x)\n",
    "#print(x)\n",
    "print('Mediana é :', x[int(len(x)/2)])\n",
    "\n",
    "#sts.median(x)\n",
    "print('Mediana é :', sts.median(x))\n"
   ]
  },
  {
   "cell_type": "markdown",
   "metadata": {},
   "source": [
    "# 1.3- Medidas de dispersão"
   ]
  },
  {
   "cell_type": "markdown",
   "metadata": {},
   "source": [
    "## Amplitude \n",
    "Avalia a dispersão dos dados."
   ]
  },
  {
   "cell_type": "code",
   "execution_count": 60,
   "metadata": {},
   "outputs": [
    {
     "name": "stdout",
     "output_type": "stream",
     "text": [
      "Amplitude é : 120\n"
     ]
    }
   ],
   "source": [
    "x = [3,5,7,8,34,98,123,45,67,89,90,100]\n",
    "amplitude = max(x) - min(x)\n",
    "print('Amplitude é :', amplitude)"
   ]
  },
  {
   "cell_type": "markdown",
   "metadata": {},
   "source": [
    "## Desvio Médio\n",
    "É a média aritmética dos desvios em relação a umas das medidas de tendência central.\n",
    "\n",
    "- Considera diferenças absolutas\n",
    "- Não é tão afetado por valores extremos com o desvio padrão\n",
    "- Quando calculado em relação à mediana tende a ser bem menor do que quando o cálculo é feito em relação a qualquer outra medida de tendência centra"
   ]
  },
  {
   "cell_type": "code",
   "execution_count": 82,
   "metadata": {},
   "outputs": [],
   "source": [
    "\"\"\"\n",
    "Desvio médio\n",
    "dm = (abs(soma(dados[k] - media) for k in dados)) / n\n",
    "\n",
    "O mesmo cálculo poderia ser feito, substituindo a média pela mediana\n",
    "Os valores de resultado seriam diferentes, mas a lógica seria similar,\n",
    "considerando a distância das obsevações em relação à mediana\n",
    "\"\"\"\n",
    "empregadoA = [70, 71, 69, 70, 70]\n",
    "empregadoB = [60, 80, 70, 62, 83]\n",
    "\n",
    "desvio_medio_AA = sts.pstdev(empregadoA)\n",
    "desvio_medio_BB = sts.pstdev(empregadoB)\n",
    "media_empregadoA = sts.mean(empregadoA)\n",
    "media_empregadoB = sts.mean(empregadoB)\n",
    "\n",
    "#desvio_medio_A  =[ sum(empregadoA[k] - media_empregadoA) for k in range(0,len(empregadoA))]\n",
    "#desvio_medio_A = sum(desvio_medio_A)"
   ]
  },
  {
   "cell_type": "code",
   "execution_count": 83,
   "metadata": {},
   "outputs": [
    {
     "name": "stdout",
     "output_type": "stream",
     "text": [
      "Desvio Médio do Funcionário A é : 0.6324555320336759\n",
      "Desvio Médio do Funcionário B é : 9.252026804976301\n"
     ]
    }
   ],
   "source": [
    "print('Desvio Médio do Funcionário A é :', desvio_medio_AA)\n",
    "print('Desvio Médio do Funcionário B é :', desvio_medio_BB)"
   ]
  },
  {
   "cell_type": "markdown",
   "metadata": {},
   "source": [
    "## Desvio Padrão\n",
    "\n",
    "avaliação de desvios em relação a média com base na raiz quadrada da soma dos quadrados dos desvios."
   ]
  },
  {
   "cell_type": "code",
   "execution_count": 111,
   "metadata": {},
   "outputs": [
    {
     "name": "stdout",
     "output_type": "stream",
     "text": [
      "Desvio Padrão do Funcionário A é : 0.8944271909999159\n",
      "Desvio Padrão do Funcionário B é : 10.344080432788601\n"
     ]
    }
   ],
   "source": [
    "producao_empregadoA = [70,71,72,70,70]\n",
    "producao_empregadoB = [60,80,70,62,83]\n",
    "\n",
    "\n",
    "desvio_padrao_A = sts.stdev(producao_empregadoA)\n",
    "desvio_padrao_B = sts.stdev(producao_empregadoB)\n",
    "print('Desvio Padrão do Funcionário A é :', desvio_padrao_A)\n",
    "print('Desvio Padrão do Funcionário B é :', desvio_padrao_B)\n"
   ]
  },
  {
   "cell_type": "markdown",
   "metadata": {},
   "source": [
    "## Variancia \n",
    "   É igual a raiz quadrada do desvio padrão."
   ]
  },
  {
   "cell_type": "code",
   "execution_count": 114,
   "metadata": {},
   "outputs": [
    {
     "name": "stdout",
     "output_type": "stream",
     "text": [
      "Variancia do Funcionário A é : 11.8\n"
     ]
    }
   ],
   "source": [
    "producao_empregadoA = [56,58,52,50,51]\n",
    "\n",
    "variancia_do_empregadoA = sts.variance(producao_empregadoA)\n",
    "print('Variancia do Funcionário A é :', variancia_do_empregadoA)"
   ]
  },
  {
   "cell_type": "markdown",
   "metadata": {},
   "source": [
    "## 3 - Quartis, decis e percentis ou centis\n",
    "\n",
    "Medidas dividem os dados em partes iguais:\n",
    "\n",
    "- Quartis: quatro partes\n",
    "- Decis: dez partes\n",
    "- Centis: cem partes"
   ]
  },
  {
   "cell_type": "code",
   "execution_count": 117,
   "metadata": {},
   "outputs": [
    {
     "name": "stdout",
     "output_type": "stream",
     "text": [
      "0.25    3.75\n",
      "0.50    5.00\n",
      "0.75    7.00\n",
      "1.00    9.00\n",
      "dtype: float64\n"
     ]
    }
   ],
   "source": [
    "lista = [2, 5, 7, 4, 1, 9, 5, 9, 2, 6, 7, 9, 4, 3, 5, 7]\n",
    "serie = pd.Series(lista)\n",
    "quartis = serie.quantile([0.25, 0.5, 0.75,1])\n",
    "print(quartis)"
   ]
  },
  {
   "cell_type": "markdown",
   "metadata": {},
   "source": [
    "# 1.4 Análise grafica de dados"
   ]
  },
  {
   "cell_type": "markdown",
   "metadata": {},
   "source": [
    "# 1.5 Visualização gráfica de medidas estatísticas"
   ]
  },
  {
   "cell_type": "markdown",
   "metadata": {},
   "source": [
    "###  Quartis através do Box Plot\n",
    "\n",
    "   Dois elementos principais devem chamar a atenção assim que o gráfico é gerado:\n",
    "\n",
    "- Primeiramente deve-se buscar identificar se há valores acima do limite superior ou abaixo do limite inferior, o que indica que há outliers (valores discrepantes) no conjunto de dados que necessitem de tratamento seja pela sua remoção ou pela identificação do motivo de sua existência, conforme o tipo de análise que se deseja efetuar.\n",
    "\n",
    "-\n",
    "\n",
    "- Em seguida deve ser analisada a posição da reta que corta a \"caixa\", pois esta indica a mediana dos dados e a partir dela fica visualmente mais fácil analisar a distribuição, pois um segmento de caixa maior para um lado ou para outro indica uma maior ou menor concentração dos dados naquela faixa de valores."
   ]
  },
  {
   "cell_type": "code",
   "execution_count": 118,
   "metadata": {},
   "outputs": [],
   "source": [
    "lista = [2, 5, 7, 4, 1, 9, 5, 9, 2, 6, 7, 9, 4, 3, 5, 7]\n",
    "serie = pd.Series(lista)\n",
    "quartis = serie.quantile([0.25, 0.5, 0.75,1])"
   ]
  },
  {
   "cell_type": "code",
   "execution_count": 121,
   "metadata": {},
   "outputs": [
    {
     "data": {
      "text/plain": [
       "<AxesSubplot:>"
      ]
     },
     "execution_count": 121,
     "metadata": {},
     "output_type": "execute_result"
    },
    {
     "data": {
      "image/png": "[encoded data removed]",
      "text/plain": [
       "<Figure size 432x288 with 1 Axes>"
      ]
     },
     "metadata": {
      "needs_background": "light"
     },
     "output_type": "display_data"
    }
   ],
   "source": [
    "sns.boxplot(data=lista)\n",
    "\n",
    "# No gráfico abaixo não existe outliers.\n",
    "# O primeiro quartil começa em 1 e vai até quase 4\n",
    "# O segundo quartil começa em 4 e vai até quase 5\n",
    "# O terceiro quartil começa em 5 e vai até quase 7\n",
    "# O quarto quartil começa em 7 e vai até quase 9"
   ]
  },
  {
   "cell_type": "markdown",
   "metadata": {},
   "source": [
    "#### Média e mediana em gráficos de linhas"
   ]
  },
  {
   "cell_type": "code",
   "execution_count": 129,
   "metadata": {},
   "outputs": [],
   "source": [
    "# Carregando dados de um arquivo CSV usando pandas.\n",
    "arquivo = 'https://raw.githubusercontent.com/janiosl/python.ds/master/data/yahoo_stock_12-12-2020.csv'\n",
    "df = pd.read_csv(arquivo)"
   ]
  },
  {
   "cell_type": "code",
   "execution_count": 130,
   "metadata": {},
   "outputs": [
    {
     "data": {
      "text/html": [
       "<div><div id=3db86921-7449-4709-ad0c-064ae823b88d style=\"display:none; background-color:#9D6CFF; color:white; width:200px; height:30px; padding-left:5px; border-radius:4px; flex-direction:row; justify-content:space-around; align-items:center;\" onmouseover=\"this.style.backgroundColor='#BA9BF8'\" onmouseout=\"this.style.backgroundColor='#9D6CFF'\" onclick=\"window.commands?.execute('create-mitosheet-from-dataframe-output');\">See Full Dataframe in Mito</div> <script> if (window.commands.hasCommand('create-mitosheet-from-dataframe-output')) document.getElementById('3db86921-7449-4709-ad0c-064ae823b88d').style.display = 'flex' </script> <table border=\"1\" class=\"dataframe\">\n",
       "  <thead>\n",
       "    <tr style=\"text-align: right;\">\n",
       "      <th></th>\n",
       "      <th>Ticker</th>\n",
       "      <th>Date</th>\n",
       "      <th>High</th>\n",
       "      <th>Low</th>\n",
       "      <th>Open</th>\n",
       "      <th>Close</th>\n",
       "      <th>Volume</th>\n",
       "      <th>Adj Close</th>\n",
       "    </tr>\n",
       "  </thead>\n",
       "  <tbody>\n",
       "    <tr>\n",
       "      <th>0</th>\n",
       "      <td>GGBR4.SA</td>\n",
       "      <td>2010-01-04</td>\n",
       "      <td>29.799999</td>\n",
       "      <td>29.280001</td>\n",
       "      <td>29.299999</td>\n",
       "      <td>29.600000</td>\n",
       "      <td>2827700.0</td>\n",
       "      <td>25.257845</td>\n",
       "    </tr>\n",
       "    <tr>\n",
       "      <th>1</th>\n",
       "      <td>GGBR4.SA</td>\n",
       "      <td>2010-01-05</td>\n",
       "      <td>30.170000</td>\n",
       "      <td>29.650000</td>\n",
       "      <td>29.740000</td>\n",
       "      <td>30.100000</td>\n",
       "      <td>4480400.0</td>\n",
       "      <td>25.684504</td>\n",
       "    </tr>\n",
       "    <tr>\n",
       "      <th>2</th>\n",
       "      <td>GGBR4.SA</td>\n",
       "      <td>2010-01-06</td>\n",
       "      <td>30.379999</td>\n",
       "      <td>29.860001</td>\n",
       "      <td>29.959999</td>\n",
       "      <td>30.299999</td>\n",
       "      <td>4499900.0</td>\n",
       "      <td>25.855158</td>\n",
       "    </tr>\n",
       "    <tr>\n",
       "      <th>3</th>\n",
       "      <td>GGBR4.SA</td>\n",
       "      <td>2010-01-07</td>\n",
       "      <td>30.379999</td>\n",
       "      <td>29.520000</td>\n",
       "      <td>30.100000</td>\n",
       "      <td>29.620001</td>\n",
       "      <td>5695900.0</td>\n",
       "      <td>25.274918</td>\n",
       "    </tr>\n",
       "    <tr>\n",
       "      <th>4</th>\n",
       "      <td>GGBR4.SA</td>\n",
       "      <td>2010-01-08</td>\n",
       "      <td>29.879999</td>\n",
       "      <td>29.350000</td>\n",
       "      <td>29.719999</td>\n",
       "      <td>29.540001</td>\n",
       "      <td>4269500.0</td>\n",
       "      <td>25.206648</td>\n",
       "    </tr>\n",
       "  </tbody>\n",
       "</table></div>"
      ],
      "text/plain": [
       "     Ticker        Date       High        Low       Open      Close  \\\n",
       "0  GGBR4.SA  2010-01-04  29.799999  29.280001  29.299999  29.600000   \n",
       "1  GGBR4.SA  2010-01-05  30.170000  29.650000  29.740000  30.100000   \n",
       "2  GGBR4.SA  2010-01-06  30.379999  29.860001  29.959999  30.299999   \n",
       "3  GGBR4.SA  2010-01-07  30.379999  29.520000  30.100000  29.620001   \n",
       "4  GGBR4.SA  2010-01-08  29.879999  29.350000  29.719999  29.540001   \n",
       "\n",
       "      Volume  Adj Close  \n",
       "0  2827700.0  25.257845  \n",
       "1  4480400.0  25.684504  \n",
       "2  4499900.0  25.855158  \n",
       "3  5695900.0  25.274918  \n",
       "4  4269500.0  25.206648  "
      ]
     },
     "execution_count": 130,
     "metadata": {},
     "output_type": "execute_result"
    }
   ],
   "source": [
    "df.head()"
   ]
  },
  {
   "cell_type": "code",
   "execution_count": 150,
   "metadata": {},
   "outputs": [],
   "source": [
    "media = df.Close[:30].mean()\n",
    "mediana = df.Close[:30].median()\n",
    "moda = sts.mode(df.Close[:30])"
   ]
  },
  {
   "cell_type": "code",
   "execution_count": 151,
   "metadata": {},
   "outputs": [
    {
     "name": "stdout",
     "output_type": "stream",
     "text": [
      "Média é : 27.25600020090739\n",
      "Mediana é : 26.46500015258789\n",
      "Moda é : 29.600000381469727\n"
     ]
    }
   ],
   "source": [
    "print('Média é :', media)\n",
    "print('Mediana é :', mediana)\n",
    "print('Moda é :', moda)\n"
   ]
  },
  {
   "cell_type": "code",
   "execution_count": 144,
   "metadata": {},
   "outputs": [
    {
     "data": {
      "text/plain": [
       "<matplotlib.legend.Legend at 0x7f0b9899e9d0>"
      ]
     },
     "execution_count": 144,
     "metadata": {},
     "output_type": "execute_result"
    },
    {
     "data": {
      "image/png": "[encoded data removed]",
      "text/plain": [
       "<Figure size 432x288 with 1 Axes>"
      ]
     },
     "metadata": {
      "needs_background": "light"
     },
     "output_type": "display_data"
    }
   ],
   "source": [
    "plt.plot(df.Close[:30])\n",
    "plt.plot(media * np.ones(30),'.')\n",
    "plt.plot(mediana * np.ones(30),'--')\n",
    "plt.legend(['Preço','Média de Preço','Mediana de Preço'])"
   ]
  },
  {
   "cell_type": "markdown",
   "metadata": {},
   "source": [
    "### Análise de Frequência com Histograma e Box Plot\n",
    "\n",
    "O gráfico de histograma permite analisar a distribuição de frequência dos dados ao longo das faixas de valores, exibindo barras verticais que representam a concentração de dados em cada faixa de valor. A intuição principal que se pode tirar na primeira visualização dos dados é tentar identificar a localização da maior concentração de dados, que indicaria o posicionamento do ponto médio daquele conjunto de dados.\n",
    "\n",
    "Outra análise importante é verificar a distribuição dos dados, para identificar se ela é simétrica, ou seja, aproximadamente metade dos dados estão respectivamente à direita e à esquerda do ponto médio.\n",
    "\n",
    "Existem 3 tipos de distribuição de dados:\n",
    "    - Distribuição simétrica: os dados estão aproximadamente metade dos dados estão á direita e esquerda do ponto médio.\n",
    "\n",
    "    - Distribuição Simetrica\n",
    "    - Distribuição assimétrica (com calda) à direita\n",
    "       Os dados estão com calda a direita do eixo.\n",
    "    \n",
    "    - Distribuição assimétrica (com calda) á esquerda\n",
    "        Os dados estão com calda a esquerda do eixo.\n",
    "\n",
    "\n",
    "Uma distribuiçao de freqiiencias simetrica apresenta como caracteris­tica principal o fato de as tres medidas de tendencia central mais usadas - moda, media aritmetica e mediana - serem iguais.\n",
    "\n",
    "Em termos graficos, a curva de freqiiencias apresentara as duas caldas com a mesma configuraçao"
   ]
  },
  {
   "cell_type": "code",
   "execution_count": 149,
   "metadata": {},
   "outputs": [
    {
     "data": {
      "text/plain": [
       "Text(0, 0.5, 'Contagem de observações (Frequências)')"
      ]
     },
     "execution_count": 149,
     "metadata": {},
     "output_type": "execute_result"
    },
    {
     "data": {
      "image/png": "[encoded data removed]",
      "text/plain": [
       "<Figure size 432x288 with 1 Axes>"
      ]
     },
     "metadata": {
      "needs_background": "light"
     },
     "output_type": "display_data"
    }
   ],
   "source": [
    "## Plotando histograma\n",
    "\n",
    "plt.hist(df.Close)\n",
    "plt.title('Histograma da ações - periodo completo')\n",
    "plt.xlabel('Faixa de valores')\n",
    "plt.ylabel('Contagem de observações (Frequências)')"
   ]
  },
  {
   "cell_type": "code",
   "execution_count": 153,
   "metadata": {},
   "outputs": [
    {
     "data": {
      "text/plain": [
       "{'whiskers': [<matplotlib.lines.Line2D at 0x7f0b986f9af0>,\n",
       "  <matplotlib.lines.Line2D at 0x7f0b986f9e50>],\n",
       " 'caps': [<matplotlib.lines.Line2D at 0x7f0b987061f0>,\n",
       "  <matplotlib.lines.Line2D at 0x7f0b98706550>],\n",
       " 'boxes': [<matplotlib.lines.Line2D at 0x7f0b986f9790>],\n",
       " 'medians': [<matplotlib.lines.Line2D at 0x7f0b987068b0>],\n",
       " 'fliers': [<matplotlib.lines.Line2D at 0x7f0b98706c10>],\n",
       " 'means': []}"
      ]
     },
     "execution_count": 153,
     "metadata": {},
     "output_type": "execute_result"
    },
    {
     "data": {
      "image/png": "[encoded data removed]",
      "text/plain": [
       "<Figure size 432x288 with 1 Axes>"
      ]
     },
     "metadata": {
      "needs_background": "light"
     },
     "output_type": "display_data"
    }
   ],
   "source": [
    "## Boxplot\n",
    "\n",
    "plt.boxplot(df.Close)\n",
    "# Vendo o boxplot, podemos ver que temos outliers no gráfico. "
   ]
  },
  {
   "cell_type": "code",
   "execution_count": 156,
   "metadata": {},
   "outputs": [
    {
     "data": {
      "text/plain": [
       "Text(0, 0.5, 'Contagem de observações (Frequências)')"
      ]
     },
     "execution_count": 156,
     "metadata": {},
     "output_type": "execute_result"
    },
    {
     "data": {
      "image/png": "[encoded data removed]",
      "text/plain": [
       "<Figure size 432x288 with 1 Axes>"
      ]
     },
     "metadata": {
      "needs_background": "light"
     },
     "output_type": "display_data"
    }
   ],
   "source": [
    "# Plotando histograma com os 30 primeiros dias\n",
    "\n",
    "dias = 30\n",
    "plt.hist(df.Close[:dias])\n",
    "plt.title('Histograma da ações - 30 dias')\n",
    "plt.xlabel('Faixa de valores')\n",
    "plt.ylabel('Contagem de observações (Frequências)')\n",
    "\n",
    "# Vendo pelo gráfico abaixo, nosso conjunto de dados é bimodal."
   ]
  },
  {
   "cell_type": "markdown",
   "metadata": {},
   "source": []
  }
 ],
 "metadata": {
  "kernelspec": {
   "display_name": "Python 3",
   "language": "python",
   "name": "python3"
  },
  "language_info": {
   "codemirror_mode": {
    "name": "ipython",
    "version": 3
   },
   "file_extension": ".py",
   "mimetype": "text/x-python",
   "name": "python",
   "nbconvert_exporter": "python",
   "pygments_lexer": "ipython3",
   "version": "3.8.10"
  }
 },
 "nbformat": 4,
 "nbformat_minor": 4
}
