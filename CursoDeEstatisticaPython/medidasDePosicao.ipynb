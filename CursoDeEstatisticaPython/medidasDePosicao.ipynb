{
 "cells": [
  {
   "cell_type": "markdown",
   "metadata": {},
   "source": [
    "# Bibliotecas necessárias"
   ]
  },
  {
   "cell_type": "code",
   "execution_count": 86,
   "metadata": {},
   "outputs": [],
   "source": [
    "import pandas as pd\n",
    "import numpy as np\n",
    "import collections"
   ]
  },
  {
   "cell_type": "markdown",
   "metadata": {},
   "source": [
    "## Bibliotecas para estátistica"
   ]
  },
  {
   "cell_type": "code",
   "execution_count": 7,
   "metadata": {},
   "outputs": [],
   "source": [
    "\n",
    "import scipy.stats as stats\n",
    "import pingouin as pg\n",
    "import statistics as sts"
   ]
  },
  {
   "cell_type": "markdown",
   "metadata": {},
   "source": [
    "## Bibliotecas para visualização de dados"
   ]
  },
  {
   "cell_type": "code",
   "execution_count": 8,
   "metadata": {},
   "outputs": [],
   "source": [
    "import matplotlib.pyplot as plt\n",
    "import seaborn as sns"
   ]
  },
  {
   "cell_type": "markdown",
   "metadata": {},
   "source": [
    "# Livro de referência \n",
    "\n",
    " - [ Estatistica basica / Geraldo Luciano Toledo, Ivo Izidoro Ovalle](https://biblioteca.ibge.gov.br/biblioteca-catalogo?id=222461&view=detalhes)\n",
    " - [Material de refêrencia](https://github.com/janiosl/python.ds)"
   ]
  },
  {
   "cell_type": "markdown",
   "metadata": {},
   "source": [
    "## Info\n",
    "Quando se pretende empreender um estudo estatistico completo,\n",
    "existem diversas fases do trabalho que devem ser desenvolvidas para se chegar\n",
    "aos resultados finais do estudo. Essas etapas ou opera9oes sao chamadas fases\n",
    "20 do trabalho estatistico e sao de ambito da Estatistica Descritiva.\n",
    "\n",
    "### As fases principais sao as seguintes:\n",
    "    - Definição do Problema\n",
    "    - Planejamento\n",
    "    - Coleta dos Dados\n",
    "    - Apuração dos Dados\n",
    "    - Apresentação dos Dados\n",
    "    - Análise e Interpretação de Dados\n",
    "    "
   ]
  },
  {
   "cell_type": "code",
   "execution_count": null,
   "metadata": {},
   "outputs": [],
   "source": []
  },
  {
   "cell_type": "markdown",
   "metadata": {},
   "source": [
    "# 1-  MEDIDAS ESTATÍSTICAS\n",
    "     - Medidas de posição: média, mediana e moda\n",
    "     - Quartis, decis e percentis\n",
    "     - Medidas de dispersão: amplitude, desvio médio, variância, desvio padrão e coeficiente de variação \n",
    "     \n",
    "     \n",
    "A moda, a media aritmetica e a mediana sao as tres medidas de\n",
    "tendencia central ou promedios mais utilizados para resumir o conjunto de valores representativos do fenomeno que se deseja estudar. Outros promedios\n",
    "menos usados sao a media geometrica, harmonica, quadratica, cilbica e\n",
    "biquadratica. "
   ]
  },
  {
   "cell_type": "code",
   "execution_count": null,
   "metadata": {},
   "outputs": [],
   "source": []
  },
  {
   "cell_type": "markdown",
   "metadata": {},
   "source": [
    "## 1- Média\n",
    "\n",
    "A medida de tendencia central mais comumente usada para descrever\n",
    "resumidamente uma distribuii;ao de freqiiencias e a media, ou mais propriamente, a media aritmetica. Ha varios tipos de medias, os quais serao examinados a seguir: \n",
    "   - média \n",
    "   - aritmetica\n",
    "   - média geometrica\n",
    "   - media harmonica\n",
    "   - média quadratica\n",
    "   - média cubica\n",
    "   - média biquadratica\n",
    "    \n"
   ]
  },
  {
   "cell_type": "markdown",
   "metadata": {},
   "source": [
    "## 1.1- Media Aritmética Simples\n",
    "\n",
    "A média aritmética é a mais conhecida devido a frequência com que dela se utiliza. \n",
    "\n",
    "Existem dois tipos de médias aritmeticas que são:\n",
    "   - Media Aritmetica Simples \n",
    "   - Media Aritmetica Ponderada\n",
    "  \n",
    "Media Aritmetica Simples\n",
    "\n",
    " A média aritmetica simples de um conjunto de numeros e igual ao quociente entre a soma dos valores do conjunto e o numero total de valores.\n",
    " \n",
    " "
   ]
  },
  {
   "cell_type": "code",
   "execution_count": 45,
   "metadata": {},
   "outputs": [],
   "source": [
    "### Media Aritmética Simples \n",
    "\n",
    "x = [800,780,820,810,790]\n",
    "n = len(x)\n",
    "#x_total= sum(x)\n",
    "x_total = 0\n",
    "\n",
    "for xi in x:\n",
    "    x_total = x_total + xi\n",
    "\n",
    "x_medio = x_total/n\n",
    "#x_medio = x_total/len(x)\n",
    "\n",
    "\n",
    "#Usando a biblioteca statistics\n",
    "x_medio_sts = sts.mean(x)"
   ]
  },
  {
   "cell_type": "code",
   "execution_count": 46,
   "metadata": {},
   "outputs": [
    {
     "name": "stdout",
     "output_type": "stream",
     "text": [
      "Média Simples é : 800.0\n",
      "Média Simples usando a biblioteca statistics é : 800\n"
     ]
    }
   ],
   "source": [
    "print('Média Simples é :', x_medio)\n",
    "print('Média Simples usando a biblioteca statistics é :', x_medio_sts)"
   ]
  },
  {
   "cell_type": "markdown",
   "metadata": {},
   "source": [
    "1.2 ## Média Aritmética Ponderada\n",
    "\n",
    "Média Aritmetica Ponderada\n",
    " \n",
    "  A media aritmetica e considerada ponderada quando os valores do\n",
    "conjunto tiverem pesos diferentes. Tratando-se de media simples, todos OS\n",
    "valores apresentam igual peso. Obtem-se uma media aritmetica ponderada\n",
    "atraves do quociente entre o produto dos valores da variavel pelos respectivos\n",
    "pesos e a soma dos pesos. \n",
    "\n",
    " por exemplo, um professor pode realizar quatro provas por\n",
    "ano em sua materia, atribuindo a cada uma delas os seguintes pesos: 1, 2, 3, 4 .\n",
    ". Se um aluno tiver recebido as notas 8, 7; 9 e 9, nessa ordem, sua nota\n",
    "final sera a media aritmetica ponderada 8,5"
   ]
  },
  {
   "cell_type": "code",
   "execution_count": 47,
   "metadata": {},
   "outputs": [
    {
     "ename": "TypeError",
     "evalue": "mean() takes 1 positional argument but 2 were given",
     "output_type": "error",
     "traceback": [
      "\u001b[0;31m---------------------------------------------------------------------------\u001b[0m",
      "\u001b[0;31mTypeError\u001b[0m                                 Traceback (most recent call last)",
      "\u001b[0;32m<ipython-input-47-ee766dcb9f0e>\u001b[0m in \u001b[0;36m<module>\u001b[0;34m\u001b[0m\n\u001b[1;32m     10\u001b[0m \u001b[0mnota_media\u001b[0m \u001b[0;34m=\u001b[0m \u001b[0mnotas_total\u001b[0m\u001b[0;34m/\u001b[0m\u001b[0mpesos_total\u001b[0m\u001b[0;34m\u001b[0m\u001b[0;34m\u001b[0m\u001b[0m\n\u001b[1;32m     11\u001b[0m \u001b[0;34m\u001b[0m\u001b[0m\n\u001b[0;32m---> 12\u001b[0;31m \u001b[0mmedia_ponderada_sts\u001b[0m \u001b[0;34m=\u001b[0m \u001b[0msts\u001b[0m\u001b[0;34m.\u001b[0m\u001b[0mmean\u001b[0m\u001b[0;34m(\u001b[0m\u001b[0mnotas\u001b[0m\u001b[0;34m,\u001b[0m \u001b[0mpesos\u001b[0m\u001b[0;34m)\u001b[0m\u001b[0;34m\u001b[0m\u001b[0;34m\u001b[0m\u001b[0m\n\u001b[0m",
      "\u001b[0;31mTypeError\u001b[0m: mean() takes 1 positional argument but 2 were given"
     ]
    }
   ],
   "source": [
    "\n",
    "notas = [8,7,9,9]\n",
    "pesos = [1,2,3,4]\n",
    "pesos_total = 0\n",
    "notas_total = 0\n",
    "\n",
    "for (xi,p) in zip (notas, pesos):\n",
    "    notas_total = notas_total + xi*p \n",
    "    pesos_total = pesos_total + p\n",
    "    \n",
    "nota_media = notas_total/pesos_total\n",
    "\n",
    "media_ponderada_sts = sts.mean(notas, pesos)\n"
   ]
  },
  {
   "cell_type": "code",
   "execution_count": null,
   "metadata": {},
   "outputs": [
    {
     "name": "stdout",
     "output_type": "stream",
     "text": [
      "Média Ponderada é : 8.5\n"
     ]
    }
   ],
   "source": [
    "print('Média Ponderada é :', nota_media)"
   ]
  },
  {
   "cell_type": "code",
   "execution_count": null,
   "metadata": {},
   "outputs": [],
   "source": []
  },
  {
   "cell_type": "markdown",
   "metadata": {},
   "source": [
    "## 1.2 Média Harmônica e Média Harmônica Ponderada\n",
    "\n",
    " Média harmonica é uma medida de tendencia central que é calculada pela divisão de 1 por uma soma do inverso de todos os valores do conjunto pelo número de valores totais do conjunto dividido pelo número de elememtos do conjunto.\n",
    "\n",
    "      x = 1 / ((1/x_1 +1/x_2+1/x_3+1/x_n)/n)\n",
    "    "
   ]
  },
  {
   "cell_type": "code",
   "execution_count": null,
   "metadata": {},
   "outputs": [],
   "source": [
    "x = [10,60,360]\n",
    "media_harmonica = round(1/(sum(1/xi for xi in x)/len(x)),2)"
   ]
  },
  {
   "cell_type": "code",
   "execution_count": null,
   "metadata": {},
   "outputs": [
    {
     "data": {
      "text/plain": [
       "25.12"
      ]
     },
     "execution_count": 28,
     "metadata": {},
     "output_type": "execute_result"
    }
   ],
   "source": [
    "media_harmonica"
   ]
  },
  {
   "cell_type": "code",
   "execution_count": null,
   "metadata": {},
   "outputs": [],
   "source": [
    "# Média harmonica ponderada\n",
    "\n",
    "x = [120,100]\n",
    "p = [30,50]\n",
    "\n",
    "media_harmonica_p = 1/(round(sum(xi*(1/p) for (xi,p) in zip(x,p))/sum(x),2))"
   ]
  },
  {
   "cell_type": "code",
   "execution_count": null,
   "metadata": {},
   "outputs": [
    {
     "data": {
      "text/plain": [
       "33.333333333333336"
      ]
     },
     "execution_count": 42,
     "metadata": {},
     "output_type": "execute_result"
    }
   ],
   "source": [
    "media_harmonica_p"
   ]
  },
  {
   "cell_type": "markdown",
   "metadata": {},
   "source": [
    "# Exercício 1.1 - Produção de funcionários"
   ]
  },
  {
   "cell_type": "code",
   "execution_count": 50,
   "metadata": {},
   "outputs": [],
   "source": [
    "funcionario_A = [70,71,72,70,70]\n",
    "funcionario_B = [60,80,70,62,83]\n",
    "\n",
    "media_funcionario_A = sts.mean(funcionario_A)\n",
    "media_funcionario_B = sts.mean(funcionario_B)\n"
   ]
  },
  {
   "cell_type": "code",
   "execution_count": 59,
   "metadata": {},
   "outputs": [
    {
     "data": {
      "image/png": "[encoded data removed]",
      "text/plain": [
       "<Figure size 720x360 with 1 Axes>"
      ]
     },
     "metadata": {
      "needs_background": "light"
     },
     "output_type": "display_data"
    }
   ],
   "source": [
    "# plot \n",
    "fig, ax = plt.subplots(figsize=(10,5))\n",
    "ax.plot(funcionario_A, label='Funcionario A')\n",
    "ax.plot(funcionario_B, label='Funcionario B')\n",
    "plt.legend(['Produtividade Funcionario A','Produtividade Funcionario B'],loc='upper left')\n",
    "plt.show()"
   ]
  },
  {
   "cell_type": "code",
   "execution_count": 51,
   "metadata": {},
   "outputs": [
    {
     "name": "stdout",
     "output_type": "stream",
     "text": [
      "Média do Funcionário A é : 70.6\n",
      "Média do Funcionário B é : 71\n"
     ]
    }
   ],
   "source": [
    "print('Média do Funcionário A é :', media_funcionario_A)\n",
    "print('Média do Funcionário B é :', media_funcionario_B)"
   ]
  },
  {
   "cell_type": "markdown",
   "metadata": {},
   "source": [
    "## Conceito de amplitude dos dados\n",
    "Amplitude dos dados é a maior distancia entre dois valores consecutivos do conjunto."
   ]
  },
  {
   "cell_type": "code",
   "execution_count": 52,
   "metadata": {},
   "outputs": [],
   "source": [
    "amplitude_empregado_A = max(funcionario_A) - min(funcionario_A)\n",
    "amplitude_empregado_B = max(funcionario_B) - min(funcionario_B)"
   ]
  },
  {
   "cell_type": "code",
   "execution_count": 53,
   "metadata": {},
   "outputs": [
    {
     "name": "stdout",
     "output_type": "stream",
     "text": [
      "Amplitude do Funcionário A é : 2\n",
      "Amplitude do Funcionário B é : 23\n"
     ]
    }
   ],
   "source": [
    "print('Amplitude do Funcionário A é :', amplitude_empregado_A)\n",
    "print('Amplitude do Funcionário B é :', amplitude_empregado_B)"
   ]
  },
  {
   "cell_type": "markdown",
   "metadata": {},
   "source": [
    "# 1.2-  Mediana e Moda"
   ]
  },
  {
   "cell_type": "markdown",
   "metadata": {},
   "source": [
    "Relação empírica entre média, moda e mediana\n",
    "\n",
    "De forma simplificada:\n",
    "\n",
    "Média: medida de tendência central para descrever resumidamente uma distribuição de frequência. \n",
    "Mo - Moda: valor mais frequente no conjunto de dados\n",
    "Md - Mediana: valor central do conjunto de dados em que ao menos 50% dos valores sejam iguais ou maiores a ela\n",
    "Condições para relações empíricas:\n",
    "\n",
    "A mediana e a terceira medida de tendencia central e pode ser definida como o valor que divide uma serie ordenada de tal forma que pelo menos a metade ou cinqilenta por cento dos itens sejam iguais ou maiores\n",
    "do que ela, e que haja pelo menos outra metade ou cinqilenta por cento de itens maiores do que ela. A mediana e considerada uma separatriz, por ser um promedio que divide a distribui9ao ou conjunto de dados em partes\n",
    "iguais.\n",
    "\n",
    "A moda é outra medida de tendencia central, havendo outras deno­minações para designa-la: norma, valor dominante, valor tipico. Generica­mente, pode-se definir a moda como o valor mais freqiiente, quando\n",
    "comparada sua frequência com a dos valores contiguos de um conjunto ordenado. Quando afirmamos que o salario modal de uma empresa e igual a dois mil cruzeiros, queremos dizer que esse e o salano percebido pelo\n",
    "maior n6mero de pessoas dessa empresa.\n",
    "\n",
    "Distribuição unimodal;\n",
    "Distribuição fracamente assimétrica;\n",
    "Número de observações grande e pequena escala de unidades que divide a distribuição.\n",
    "Relações:\n",
    "\n",
    "média = (3Md - Mo) / 2\n",
    "Mo = 3md - 2media\n",
    "Md = (2media + Mo) / 3"
   ]
  },
  {
   "cell_type": "code",
   "execution_count": 89,
   "metadata": {},
   "outputs": [
    {
     "name": "stdout",
     "output_type": "stream",
     "text": [
      "Moda é : 5\n",
      "Moda é : 2\n"
     ]
    }
   ],
   "source": [
    "#Moda\n",
    "\n",
    "x = [1,2,5,4,5,2,7,5,9,10]\n",
    "y = [2,3,2,3,2,3]\n",
    "\n",
    "sts.mode(x)\n",
    "sts.mode(y)\n",
    "print('Moda é :', sts.mode(x))\n",
    "print('Moda é :', sts.mode(y))"
   ]
  },
  {
   "cell_type": "code",
   "execution_count": 107,
   "metadata": {},
   "outputs": [
    {
     "name": "stdout",
     "output_type": "stream",
     "text": [
      "Mediana é : 14\n",
      "Mediana é : 13.0\n"
     ]
    }
   ],
   "source": [
    "# Mediana\n",
    "x = [3, 6,9,12, 14, 15, 17, 20]\n",
    "\n",
    "#x = np.sort(x)\n",
    "#print(x)\n",
    "print('Mediana é :', x[int(len(x)/2)])\n",
    "\n",
    "#sts.median(x)\n",
    "print('Mediana é :', sts.median(x))\n"
   ]
  },
  {
   "cell_type": "markdown",
   "metadata": {},
   "source": [
    "# 1.3- Medidas de dispersão"
   ]
  },
  {
   "cell_type": "markdown",
   "metadata": {},
   "source": [
    "## Amplitude \n",
    "Avalia a dispersão dos dados."
   ]
  },
  {
   "cell_type": "code",
   "execution_count": 60,
   "metadata": {},
   "outputs": [
    {
     "name": "stdout",
     "output_type": "stream",
     "text": [
      "Amplitude é : 120\n"
     ]
    }
   ],
   "source": [
    "x = [3,5,7,8,34,98,123,45,67,89,90,100]\n",
    "amplitude = max(x) - min(x)\n",
    "print('Amplitude é :', amplitude)"
   ]
  },
  {
   "cell_type": "markdown",
   "metadata": {},
   "source": [
    "## Desvio Médio\n",
    "É a média aritmética dos desvios em relação a umas das medidas de tendência central.\n",
    "\n",
    "- Considera diferenças absolutas\n",
    "- Não é tão afetado por valores extremos com o desvio padrão\n",
    "- Quando calculado em relação à mediana tende a ser bem menor do que quando o cálculo é feito em relação a qualquer outra medida de tendência centra"
   ]
  },
  {
   "cell_type": "code",
   "execution_count": 82,
   "metadata": {},
   "outputs": [],
   "source": [
    "\"\"\"\n",
    "Desvio médio\n",
    "dm = (abs(soma(dados[k] - media) for k in dados)) / n\n",
    "\n",
    "O mesmo cálculo poderia ser feito, substituindo a média pela mediana\n",
    "Os valores de resultado seriam diferentes, mas a lógica seria similar,\n",
    "considerando a distância das obsevações em relação à mediana\n",
    "\"\"\"\n",
    "empregadoA = [70, 71, 69, 70, 70]\n",
    "empregadoB = [60, 80, 70, 62, 83]\n",
    "\n",
    "desvio_medio_AA = sts.pstdev(empregadoA)\n",
    "desvio_medio_BB = sts.pstdev(empregadoB)\n",
    "media_empregadoA = sts.mean(empregadoA)\n",
    "media_empregadoB = sts.mean(empregadoB)\n",
    "\n",
    "#desvio_medio_A  =[ sum(empregadoA[k] - media_empregadoA) for k in range(0,len(empregadoA))]\n",
    "#desvio_medio_A = sum(desvio_medio_A)"
   ]
  },
  {
   "cell_type": "code",
   "execution_count": 83,
   "metadata": {},
   "outputs": [
    {
     "name": "stdout",
     "output_type": "stream",
     "text": [
      "Desvio Médio do Funcionário A é : 0.6324555320336759\n",
      "Desvio Médio do Funcionário B é : 9.252026804976301\n"
     ]
    }
   ],
   "source": [
    "print('Desvio Médio do Funcionário A é :', desvio_medio_AA)\n",
    "print('Desvio Médio do Funcionário B é :', desvio_medio_BB)"
   ]
  },
  {
   "cell_type": "markdown",
   "metadata": {},
   "source": [
    "## Desvio Padrão\n",
    "\n",
    "avaliação de desvios em relação a média com base na raiz quadrada da soma dos quadrados dos desvios."
   ]
  },
  {
   "cell_type": "code",
   "execution_count": 111,
   "metadata": {},
   "outputs": [
    {
     "name": "stdout",
     "output_type": "stream",
     "text": [
      "Desvio Padrão do Funcionário A é : 0.8944271909999159\n",
      "Desvio Padrão do Funcionário B é : 10.344080432788601\n"
     ]
    }
   ],
   "source": [
    "producao_empregadoA = [70,71,72,70,70]\n",
    "producao_empregadoB = [60,80,70,62,83]\n",
    "\n",
    "\n",
    "desvio_padrao_A = sts.stdev(producao_empregadoA)\n",
    "desvio_padrao_B = sts.stdev(producao_empregadoB)\n",
    "print('Desvio Padrão do Funcionário A é :', desvio_padrao_A)\n",
    "print('Desvio Padrão do Funcionário B é :', desvio_padrao_B)\n"
   ]
  },
  {
   "cell_type": "markdown",
   "metadata": {},
   "source": [
    "## Variancia \n",
    "   É igual a raiz quadrada do desvio padrão."
   ]
  },
  {
   "cell_type": "code",
   "execution_count": 114,
   "metadata": {},
   "outputs": [
    {
     "name": "stdout",
     "output_type": "stream",
     "text": [
      "Variancia do Funcionário A é : 11.8\n"
     ]
    }
   ],
   "source": [
    "producao_empregadoA = [56,58,52,50,51]\n",
    "\n",
    "variancia_do_empregadoA = sts.variance(producao_empregadoA)\n",
    "print('Variancia do Funcionário A é :', variancia_do_empregadoA)"
   ]
  },
  {
   "cell_type": "markdown",
   "metadata": {},
   "source": [
    "## 3 - Quartis, decis e percentis ou centis\n",
    "\n",
    "Medidas dividem os dados em partes iguais:\n",
    "\n",
    "- Quartis: quatro partes\n",
    "- Decis: dez partes\n",
    "- Centis: cem partes"
   ]
  },
  {
   "cell_type": "code",
   "execution_count": 117,
   "metadata": {},
   "outputs": [
    {
     "name": "stdout",
     "output_type": "stream",
     "text": [
      "0.25    3.75\n",
      "0.50    5.00\n",
      "0.75    7.00\n",
      "1.00    9.00\n",
      "dtype: float64\n"
     ]
    }
   ],
   "source": [
    "lista = [2, 5, 7, 4, 1, 9, 5, 9, 2, 6, 7, 9, 4, 3, 5, 7]\n",
    "serie = pd.Series(lista)\n",
    "quartis = serie.quantile([0.25, 0.5, 0.75,1])\n",
    "print(quartis)"
   ]
  },
  {
   "cell_type": "markdown",
   "metadata": {},
   "source": [
    "# 1.4 Análise grafica de dados"
   ]
  },
  {
   "cell_type": "markdown",
   "metadata": {},
   "source": [
    "# 1.5 Visualização gráfica de medidas estatísticas"
   ]
  },
  {
   "cell_type": "markdown",
   "metadata": {},
   "source": [
    "###  Quartis através do Box Plot\n",
    "\n",
    "   Dois elementos principais devem chamar a atenção assim que o gráfico é gerado:\n",
    "\n",
    "- Primeiramente deve-se buscar identificar se há valores acima do limite superior ou abaixo do limite inferior, o que indica que há outliers (valores discrepantes) no conjunto de dados que necessitem de tratamento seja pela sua remoção ou pela identificação do motivo de sua existência, conforme o tipo de análise que se deseja efetuar.\n",
    "\n",
    "-\n",
    "\n",
    "- Em seguida deve ser analisada a posição da reta que corta a \"caixa\", pois esta indica a mediana dos dados e a partir dela fica visualmente mais fácil analisar a distribuição, pois um segmento de caixa maior para um lado ou para outro indica uma maior ou menor concentração dos dados naquela faixa de valores."
   ]
  },
  {
   "cell_type": "code",
   "execution_count": 118,
   "metadata": {},
   "outputs": [],
   "source": [
    "lista = [2, 5, 7, 4, 1, 9, 5, 9, 2, 6, 7, 9, 4, 3, 5, 7]\n",
    "serie = pd.Series(lista)\n",
    "quartis = serie.quantile([0.25, 0.5, 0.75,1])"
   ]
  },
  {
   "cell_type": "code",
   "execution_count": 121,
   "metadata": {},
   "outputs": [
    {
     "data": {
      "text/plain": [
       "<AxesSubplot:>"
      ]
     },
     "execution_count": 121,
     "metadata": {},
     "output_type": "execute_result"
    },
    {
     "data": {
      "image/png": "[encoded data removed]",
      "text/plain": [
       "<Figure size 432x288 with 1 Axes>"
      ]
     },
     "metadata": {
      "needs_background": "light"
     },
     "output_type": "display_data"
    }
   ],
   "source": [
    "sns.boxplot(data=lista)\n",
    "\n",
    "# No gráfico abaixo não existe outliers.\n",
    "# O primeiro quartil começa em 1 e vai até quase 4\n",
    "# O segundo quartil começa em 4 e vai até quase 5\n",
    "# O terceiro quartil começa em 5 e vai até quase 7\n",
    "# O quarto quartil começa em 7 e vai até quase 9"
   ]
  },
  {
   "cell_type": "markdown",
   "metadata": {},
   "source": [
    "#### Média e mediana em gráficos de linhas"
   ]
  },
  {
   "cell_type": "code",
   "execution_count": 129,
   "metadata": {},
   "outputs": [],
   "source": [
    "# Carregando dados de um arquivo CSV usando pandas.\n",
    "arquivo = 'https://raw.githubusercontent.com/janiosl/python.ds/master/data/yahoo_stock_12-12-2020.csv'\n",
    "df = pd.read_csv(arquivo)"
   ]
  },
  {
   "cell_type": "code",
   "execution_count": 130,
   "metadata": {},
   "outputs": [
    {
     "data": {
      "text/html": [
       "<div><div id=3db86921-7449-4709-ad0c-064ae823b88d style=\"display:none; background-color:#9D6CFF; color:white; width:200px; height:30px; padding-left:5px; border-radius:4px; flex-direction:row; justify-content:space-around; align-items:center;\" onmouseover=\"this.style.backgroundColor='#BA9BF8'\" onmouseout=\"this.style.backgroundColor='#9D6CFF'\" onclick=\"window.commands?.execute('create-mitosheet-from-dataframe-output');\">See Full Dataframe in Mito</div> <script> if (window.commands.hasCommand('create-mitosheet-from-dataframe-output')) document.getElementById('3db86921-7449-4709-ad0c-064ae823b88d').style.display = 'flex' </script> <table border=\"1\" class=\"dataframe\">\n",
       "  <thead>\n",
       "    <tr style=\"text-align: right;\">\n",
       "      <th></th>\n",
       "      <th>Ticker</th>\n",
       "      <th>Date</th>\n",
       "      <th>High</th>\n",
       "      <th>Low</th>\n",
       "      <th>Open</th>\n",
       "      <th>Close</th>\n",
       "      <th>Volume</th>\n",
       "      <th>Adj Close</th>\n",
       "    </tr>\n",
       "  </thead>\n",
       "  <tbody>\n",
       "    <tr>\n",
       "      <th>0</th>\n",
       "      <td>GGBR4.SA</td>\n",
       "      <td>2010-01-04</td>\n",
       "      <td>29.799999</td>\n",
       "      <td>29.280001</td>\n",
       "      <td>29.299999</td>\n",
       "      <td>29.600000</td>\n",
       "      <td>2827700.0</td>\n",
       "      <td>25.257845</td>\n",
       "    </tr>\n",
       "    <tr>\n",
       "      <th>1</th>\n",
       "      <td>GGBR4.SA</td>\n",
       "      <td>2010-01-05</td>\n",
       "      <td>30.170000</td>\n",
       "      <td>29.650000</td>\n",
       "      <td>29.740000</td>\n",
       "      <td>30.100000</td>\n",
       "      <td>4480400.0</td>\n",
       "      <td>25.684504</td>\n",
       "    </tr>\n",
       "    <tr>\n",
       "      <th>2</th>\n",
       "      <td>GGBR4.SA</td>\n",
       "      <td>2010-01-06</td>\n",
       "      <td>30.379999</td>\n",
       "      <td>29.860001</td>\n",
       "      <td>29.959999</td>\n",
       "      <td>30.299999</td>\n",
       "      <td>4499900.0</td>\n",
       "      <td>25.855158</td>\n",
       "    </tr>\n",
       "    <tr>\n",
       "      <th>3</th>\n",
       "      <td>GGBR4.SA</td>\n",
       "      <td>2010-01-07</td>\n",
       "      <td>30.379999</td>\n",
       "      <td>29.520000</td>\n",
       "      <td>30.100000</td>\n",
       "      <td>29.620001</td>\n",
       "      <td>5695900.0</td>\n",
       "      <td>25.274918</td>\n",
       "    </tr>\n",
       "    <tr>\n",
       "      <th>4</th>\n",
       "      <td>GGBR4.SA</td>\n",
       "      <td>2010-01-08</td>\n",
       "      <td>29.879999</td>\n",
       "      <td>29.350000</td>\n",
       "      <td>29.719999</td>\n",
       "      <td>29.540001</td>\n",
       "      <td>4269500.0</td>\n",
       "      <td>25.206648</td>\n",
       "    </tr>\n",
       "  </tbody>\n",
       "</table></div>"
      ],
      "text/plain": [
       "     Ticker        Date       High        Low       Open      Close  \\\n",
       "0  GGBR4.SA  2010-01-04  29.799999  29.280001  29.299999  29.600000   \n",
       "1  GGBR4.SA  2010-01-05  30.170000  29.650000  29.740000  30.100000   \n",
       "2  GGBR4.SA  2010-01-06  30.379999  29.860001  29.959999  30.299999   \n",
       "3  GGBR4.SA  2010-01-07  30.379999  29.520000  30.100000  29.620001   \n",
       "4  GGBR4.SA  2010-01-08  29.879999  29.350000  29.719999  29.540001   \n",
       "\n",
       "      Volume  Adj Close  \n",
       "0  2827700.0  25.257845  \n",
       "1  4480400.0  25.684504  \n",
       "2  4499900.0  25.855158  \n",
       "3  5695900.0  25.274918  \n",
       "4  4269500.0  25.206648  "
      ]
     },
     "execution_count": 130,
     "metadata": {},
     "output_type": "execute_result"
    }
   ],
   "source": [
    "df.head()"
   ]
  },
  {
   "cell_type": "code",
   "execution_count": 150,
   "metadata": {},
   "outputs": [],
   "source": [
    "media = df.Close[:30].mean()\n",
    "mediana = df.Close[:30].median()\n",
    "moda = sts.mode(df.Close[:30])"
   ]
  },
  {
   "cell_type": "code",
   "execution_count": 151,
   "metadata": {},
   "outputs": [
    {
     "name": "stdout",
     "output_type": "stream",
     "text": [
      "Média é : 27.25600020090739\n",
      "Mediana é : 26.46500015258789\n",
      "Moda é : 29.600000381469727\n"
     ]
    }
   ],
   "source": [
    "print('Média é :', media)\n",
    "print('Mediana é :', mediana)\n",
    "print('Moda é :', moda)\n"
   ]
  },
  {
   "cell_type": "code",
   "execution_count": 144,
   "metadata": {},
   "outputs": [
    {
     "data": {
      "text/plain": [
       "<matplotlib.legend.Legend at 0x7f0b9899e9d0>"
      ]
     },
     "execution_count": 144,
     "metadata": {},
     "output_type": "execute_result"
    },
    {
     "data": {
      "image/png": "[encoded data removed]",
      "text/plain": [
       "<Figure size 432x288 with 1 Axes>"
      ]
     },
     "metadata": {
      "needs_background": "light"
     },
     "output_type": "display_data"
    }
   ],
   "source": [
    "plt.plot(df.Close[:30])\n",
    "plt.plot(media * np.ones(30),'.')\n",
    "plt.plot(mediana * np.ones(30),'--')\n",
    "plt.legend(['Preço','Média de Preço','Mediana de Preço'])"
   ]
  },
  {
   "cell_type": "markdown",
   "metadata": {},
   "source": [
    "### Análise de Frequência com Histograma e Box Plot\n",
    "\n",
    "O gráfico de histograma permite analisar a distribuição de frequência dos dados ao longo das faixas de valores, exibindo barras verticais que representam a concentração de dados em cada faixa de valor. A intuição principal que se pode tirar na primeira visualização dos dados é tentar identificar a localização da maior concentração de dados, que indicaria o posicionamento do ponto médio daquele conjunto de dados.\n",
    "\n",
    "Outra análise importante é verificar a distribuição dos dados, para identificar se ela é simétrica, ou seja, aproximadamente metade dos dados estão respectivamente à direita e à esquerda do ponto médio.\n",
    "\n",
    "Existem 3 tipos de distribuição de dados:\n",
    "    - Distribuição simétrica: os dados estão aproximadamente metade dos dados estão á direita e esquerda do ponto médio.\n",
    "\n",
    "    - Distribuição Simetrica\n",
    "    - Distribuição assimétrica (com calda) à direita\n",
    "       Os dados estão com calda a direita do eixo.\n",
    "    \n",
    "    - Distribuição assimétrica (com calda) á esquerda\n",
    "        Os dados estão com calda a esquerda do eixo.\n",
    "\n",
    "\n",
    "Uma distribuiçao de freqiiencias simetrica apresenta como caracteris­tica principal o fato de as tres medidas de tendencia central mais usadas - moda, media aritmetica e mediana - serem iguais.\n",
    "\n",
    "Em termos graficos, a curva de freqiiencias apresentara as duas caldas com a mesma configuraçao"
   ]
  },
  {
   "cell_type": "code",
   "execution_count": 149,
   "metadata": {},
   "outputs": [
    {
     "data": {
      "text/plain": [
       "Text(0, 0.5, 'Contagem de observações (Frequências)')"
      ]
     },
     "execution_count": 149,
     "metadata": {},
     "output_type": "execute_result"
    },
    {
     "data": {
      "image/png": "[encoded data removed]",
      "text/plain": [
       "<Figure size 432x288 with 1 Axes>"
      ]
     },
     "metadata": {
      "needs_background": "light"
     },
     "output_type": "display_data"
    }
   ],
   "source": [
    "## Plotando histograma\n",
    "\n",
    "plt.hist(df.Close)\n",
    "plt.title('Histograma da ações - periodo completo')\n",
    "plt.xlabel('Faixa de valores')\n",
    "plt.ylabel('Contagem de observações (Frequências)')"
   ]
  },
  {
   "cell_type": "code",
   "execution_count": 153,
   "metadata": {},
   "outputs": [
    {
     "data": {
      "text/plain": [
       "{'whiskers': [<matplotlib.lines.Line2D at 0x7f0b986f9af0>,\n",
       "  <matplotlib.lines.Line2D at 0x7f0b986f9e50>],\n",
       " 'caps': [<matplotlib.lines.Line2D at 0x7f0b987061f0>,\n",
       "  <matplotlib.lines.Line2D at 0x7f0b98706550>],\n",
       " 'boxes': [<matplotlib.lines.Line2D at 0x7f0b986f9790>],\n",
       " 'medians': [<matplotlib.lines.Line2D at 0x7f0b987068b0>],\n",
       " 'fliers': [<matplotlib.lines.Line2D at 0x7f0b98706c10>],\n",
       " 'means': []}"
      ]
     },
     "execution_count": 153,
     "metadata": {},
     "output_type": "execute_result"
    },
    {
     "data": {
      "image/png": "[encoded data removed]",
      "text/plain": [
       "<Figure size 432x288 with 1 Axes>"
      ]
     },
     "metadata": {
      "needs_background": "light"
     },
     "output_type": "display_data"
    }
   ],
   "source": [
    "## Boxplot\n",
    "\n",
    "plt.boxplot(df.Close)\n",
    "# Vendo o boxplot, podemos ver que temos outliers no gráfico. "
   ]
  },
  {
   "cell_type": "code",
   "execution_count": 156,
   "metadata": {},
   "outputs": [
    {
     "data": {
      "text/plain": [
       "Text(0, 0.5, 'Contagem de observações (Frequências)')"
      ]
     },
     "execution_count": 156,
     "metadata": {},
     "output_type": "execute_result"
    },
    {
     "data": {
      "image/png": "[encoded data removed]",
      "text/plain": [
       "<Figure size 432x288 with 1 Axes>"
      ]
     },
     "metadata": {
      "needs_background": "light"
     },
     "output_type": "display_data"
    }
   ],
   "source": [
    "# Plotando histograma com os 30 primeiros dias\n",
    "\n",
    "dias = 30\n",
    "plt.hist(df.Close[:dias])\n",
    "plt.title('Histograma da ações - 30 dias')\n",
    "plt.xlabel('Faixa de valores')\n",
    "plt.ylabel('Contagem de observações (Frequências)')\n",
    "\n",
    "# Vendo pelo gráfico abaixo, nosso conjunto de dados é bimodal."
   ]
  },
  {
   "cell_type": "markdown",
   "metadata": {},
   "source": []
  },
  {
   "cell_type": "markdown",
   "metadata": {},
   "source": [
    "# 1.6 Lista de exercícios."
   ]
  },
  {
   "cell_type": "markdown",
   "metadata": {},
   "source": [
    "# Lista 1"
   ]
  },
  {
   "cell_type": "markdown",
   "metadata": {},
   "source": [
    "## Exercício 1\n",
    "\n",
    "1. Para o conjunto de dados abaixo, determine:\n",
    "Produtividade da cultura da soja (kg por hectare)\n",
    "\n",
    "  - (a)Classificação da variável.\n",
    "  - (b)A média.\n",
    "  - (c)A variância.\n",
    "  - (d)O coeficiente de variação."
   ]
  },
  {
   "cell_type": "code",
   "execution_count": 21,
   "metadata": {},
   "outputs": [],
   "source": [
    "dados = np.array([3600, 3545, 3658, 3498, 3657, 3425, 3785, 3254, 3266, 3641,3687, 3698, 3621, 3654, 3554, 3569, 3598, 3578, 3567, 3574])"
   ]
  },
  {
   "cell_type": "code",
   "execution_count": 47,
   "metadata": {},
   "outputs": [
    {
     "data": {
      "text/plain": [
       "[<matplotlib.lines.Line2D at 0x7f04a412d460>]"
      ]
     },
     "execution_count": 47,
     "metadata": {},
     "output_type": "execute_result"
    },
    {
     "data": {
      "image/png": "[encoded data removed]",
      "text/plain": [
       "<Figure size 432x288 with 1 Axes>"
      ]
     },
     "metadata": {
      "needs_background": "light"
     },
     "output_type": "display_data"
    }
   ],
   "source": [
    "plt.plot(dados, label='Produtividade da cultura da soja (kg por hectare)')"
   ]
  },
  {
   "cell_type": "markdown",
   "metadata": {},
   "source": [
    "### Resposta \n",
    "   a) A variável é quantitativa contínua."
   ]
  },
  {
   "cell_type": "code",
   "execution_count": 26,
   "metadata": {},
   "outputs": [
    {
     "name": "stdout",
     "output_type": "stream",
     "text": [
      "Média Aritmética é : 3571\n"
     ]
    }
   ],
   "source": [
    "### Média Aritmética\n",
    "\n",
    "media = sts.mean(dados)\n",
    "print('Média Aritmética é :', media)"
   ]
  },
  {
   "cell_type": "markdown",
   "metadata": {},
   "source": [
    "### Resposta\n",
    "b)  A média é de 3571"
   ]
  },
  {
   "cell_type": "code",
   "execution_count": 28,
   "metadata": {},
   "outputs": [
    {
     "name": "stdout",
     "output_type": "stream",
     "text": [
      "Variancia é : 17231\n"
     ]
    }
   ],
   "source": [
    "### Variância\n",
    "\n",
    "variancia = sts.variance(dados)\n",
    "print('Variancia é :', variancia)"
   ]
  },
  {
   "cell_type": "markdown",
   "metadata": {},
   "source": [
    "### Resposta: \n",
    "c) A variância é de 17231"
   ]
  },
  {
   "cell_type": "code",
   "execution_count": 40,
   "metadata": {},
   "outputs": [
    {
     "name": "stdout",
     "output_type": "stream",
     "text": [
      "Coeficiente de variabilidade é : 3.676 %\n"
     ]
    }
   ],
   "source": [
    "### Conficiente de variabilidade.\n",
    "\n",
    "coeficiente_variabilidade = np.sqrt(sts.variance(dados)) / sts.mean(dados) * 100\n",
    "print('Coeficiente de variabilidade é :', str(round(coeficiente_variabilidade,3))+\" %\")"
   ]
  },
  {
   "cell_type": "markdown",
   "metadata": {},
   "source": [
    "### Resposta\n",
    "c) O coeficiente de variação  é de 3,676 %"
   ]
  },
  {
   "cell_type": "markdown",
   "metadata": {},
   "source": [
    "## Exercício 2\n",
    "\n",
    "1. Os dados em rol relacionados a seguir referem-se à produção diária de leite de vacas da raça Holandesa obtida em duas ordenhas, em kg.\n",
    "\n",
    "  - Calcule o coeficiente de variação desse conjunto de dados."
   ]
  },
  {
   "cell_type": "code",
   "execution_count": 42,
   "metadata": {},
   "outputs": [
    {
     "data": {
      "text/plain": [
       "[<matplotlib.lines.Line2D at 0x7f04a415c790>]"
      ]
     },
     "execution_count": 42,
     "metadata": {},
     "output_type": "execute_result"
    },
    {
     "data": {
      "image/png": "[encoded data removed]",
      "text/plain": [
       "<Figure size 432x288 with 1 Axes>"
      ]
     },
     "metadata": {
      "needs_background": "light"
     },
     "output_type": "display_data"
    }
   ],
   "source": [
    "### O coeficiente de variabilidade ou variação é calculado dividindo a variância pela média.\n",
    "\n",
    "dados = np.array([4.5,5.0,5.0,5.0,5.5,6.0,6.0,6.5,6.5,6.5,6.5,7.0,7.0,7.0,7.0,7.0,7.0,7.5,8.5,9.0,9.0,\n",
    "9.0,9.5,10.0,10.0,10.5,10.5,11.0,12.0,12.5,13.0,13.0])\n",
    "\n",
    "plt.plot(dados, label='Produção diária de leite de vacas de raça holandesa')"
   ]
  },
  {
   "cell_type": "code",
   "execution_count": 46,
   "metadata": {},
   "outputs": [
    {
     "name": "stdout",
     "output_type": "stream",
     "text": [
      "Média é : 8.125\n",
      "Desvio é : 2.472428608839182\n",
      "Coeficiente de variabilidade é : 30.43 %\n"
     ]
    }
   ],
   "source": [
    "media = sts.mean(dados)\n",
    "desvio = sts.stdev(dados)\n",
    "coeficiente_variabilidade = desvio / sts.mean(dados) * 100\n",
    "print('Média é :', media)\n",
    "print('Desvio é :', desvio)\n",
    "print('Coeficiente de variabilidade é :', str(round(coeficiente_variabilidade,3))+\" %\")"
   ]
  },
  {
   "cell_type": "markdown",
   "metadata": {},
   "source": [
    "### Resposta\n",
    "O coeficiente de variação é de 30,43 %"
   ]
  },
  {
   "cell_type": "markdown",
   "metadata": {},
   "source": [
    "## Conclusão dos exercícios 1 e 2.\n",
    "\n",
    "Quanto maior o coeficiente de variação, maior é a dispersão dos dados. "
   ]
  },
  {
   "cell_type": "markdown",
   "metadata": {},
   "source": [
    "##  Exercício 3\n",
    "\n",
    "A tabela seguinte apresenta a produção de café, em milhões de toneladas, na região\n",
    "DELTA.\n",
    "\n",
    "  - (a)Calcule o valor da produção média.\n",
    "  - (b)Calcule o valor da mediana da produção.\n",
    "  - (c)Calcule o valor do desvio padrão da produção."
   ]
  },
  {
   "cell_type": "code",
   "execution_count": 51,
   "metadata": {},
   "outputs": [
    {
     "data": {
      "text/plain": [
       "[<matplotlib.lines.Line2D at 0x7f049f7064c0>]"
      ]
     },
     "execution_count": 51,
     "metadata": {},
     "output_type": "execute_result"
    },
    {
     "data": {
      "image/png": "[encoded data removed]",
      "text/plain": [
       "<Figure size 432x288 with 1 Axes>"
      ]
     },
     "metadata": {
      "needs_background": "light"
     },
     "output_type": "display_data"
    }
   ],
   "source": [
    "dados = np.array([[1992,1993,1994,1995,1996,1997,1998,1999,2000,2001],[12,15,18,22,17,14,18,23,29,12]],dtype='object')\n",
    "\n",
    "plt.plot(dados[0],dados[1],'o')"
   ]
  },
  {
   "cell_type": "code",
   "execution_count": 53,
   "metadata": {},
   "outputs": [
    {
     "name": "stdout",
     "output_type": "stream",
     "text": [
      "Média é : 18\n",
      "Mediana é : 17.5\n",
      "Moda é : 12\n",
      "Desvio Padrão é : 5.375\n"
     ]
    }
   ],
   "source": [
    "media = sts.mean(dados[1])\n",
    "mediana = sts.median(dados[1])\n",
    "moda = sts.mode(dados[1])\n",
    "desvio = sts.stdev(dados[1])\n",
    "\n",
    "print('Média é :', media)\n",
    "print('Mediana é :', mediana)\n",
    "print('Moda é :', moda)\n",
    "print('Desvio Padrão é :', round(desvio,3))"
   ]
  },
  {
   "cell_type": "markdown",
   "metadata": {},
   "source": [
    "### Resposta\n",
    "\n",
    "    - (a) A produção média é de 18 milhões de toneladas.\n",
    "    - (b) A mediana é de 17,5 milhões de toneladas.\n",
    "    - (c) O desvio padrão é de 5,375 milhões de toneladas.\n",
    "    - (d) A moda é de 12 milhões de toneladas.\n",
    "\n",
    "![equacao](listaDExercicios/equacoes.png)"
   ]
  },
  {
   "cell_type": "markdown",
   "metadata": {},
   "source": [
    "## Exercício 4\n",
    "\n",
    "Foi realizado na região Oeste do Paraná, no Município de Marechal Cândido Rondon em 1992, um levantamento da produtividade leiteira diária de 30 produtores rurais, atendidos pelo plano \"Panela Cheia\" (Roesler, 1997). Os resultados da produção diária dos 30 produtores estão apresentados a seguir:\n",
    "\n",
    "- Faça uma representação gráfica para os dados."
   ]
  },
  {
   "cell_type": "code",
   "execution_count": 54,
   "metadata": {},
   "outputs": [],
   "source": [
    "dados = np.array([3.83 ,4.08,4.59,5.80,7.81,6.31,8.37,7.50,9.30,5.98,\n",
    "6.78,5.23,7.50,6.62,2.80,6.51,5.27,5.44,6.08,6.66,8.49,3.86,2.91,5.82,7.47,6.52,6.61,7.80,5.62,8.23])"
   ]
  },
  {
   "cell_type": "code",
   "execution_count": 58,
   "metadata": {},
   "outputs": [
    {
     "name": "stdout",
     "output_type": "stream",
     "text": [
      "Média é : 6.193\n"
     ]
    },
    {
     "data": {
      "text/plain": [
       "<AxesSubplot:ylabel='Count'>"
      ]
     },
     "execution_count": 58,
     "metadata": {},
     "output_type": "execute_result"
    },
    {
     "data": {
      "image/png": "[encoded data removed]",
      "text/plain": [
       "<Figure size 432x288 with 1 Axes>"
      ]
     },
     "metadata": {
      "needs_background": "light"
     },
     "output_type": "display_data"
    }
   ],
   "source": [
    "media = sts.mean(dados)\n",
    "print('Média é :', media)\n",
    "sns.histplot(dados)"
   ]
  },
  {
   "cell_type": "code",
   "execution_count": 62,
   "metadata": {},
   "outputs": [
    {
     "data": {
      "text/plain": [
       "<AxesSubplot:>"
      ]
     },
     "execution_count": 62,
     "metadata": {},
     "output_type": "execute_result"
    },
    {
     "data": {
      "image/png": "[encoded data removed]",
      "text/plain": [
       "<Figure size 432x288 with 1 Axes>"
      ]
     },
     "metadata": {
      "needs_background": "light"
     },
     "output_type": "display_data"
    }
   ],
   "source": [
    "sns.boxenplot(y=dados)"
   ]
  },
  {
   "cell_type": "markdown",
   "metadata": {},
   "source": [
    "## Exercício 5\n",
    "\n",
    "Um talhão de 3 hectares de cana-de-açúcar foi subdividido em parcelas de 1000 rn2 cada uma. As produções dessas parcelas, em toneladas, foram as que se seguem:\n",
    "\n",
    "- (a)Calcule o valor da produção média.\n",
    "- (b)Calcule o valor da mediana da produção.\n",
    "- (c)Faça uma representação gráfica para o conjunto de dados.\n",
    "\n",
    "Compare os valores da média e da mediana e explique a diferença encontrada."
   ]
  },
  {
   "cell_type": "code",
   "execution_count": 64,
   "metadata": {},
   "outputs": [
    {
     "name": "stdout",
     "output_type": "stream",
     "text": [
      "Média é : 8.24\n",
      "Mediana é : 9.05\n",
      "Desvio Padrão é : 2.449292649472215\n"
     ]
    }
   ],
   "source": [
    "dados = np.array([9.3, 7.8, 8.3, 10.1, 10.2, 9.5, 8.7, 9.0,\t8.7, 9.7,\n",
    "\t9.1, 8.8, 3.6,9.4,3.6,8.9,9.2,9.4,11.4,3.1,\n",
    "9.6,3.1,2.0,9.8,8.7,9.0,8.6,9.2,10.1,9.3])\n",
    "\n",
    "media = sts.mean(dados)\n",
    "mediana = sts.median(dados)\n",
    "desviopadrao = sts.stdev(dados)\n",
    "\n",
    "print('Média é :', media)\n",
    "print('Mediana é :', mediana)\n",
    "print('Desvio Padrão é :', desviopadrao)"
   ]
  },
  {
   "cell_type": "code",
   "execution_count": 65,
   "metadata": {},
   "outputs": [
    {
     "data": {
      "text/plain": [
       "<AxesSubplot:>"
      ]
     },
     "execution_count": 65,
     "metadata": {},
     "output_type": "execute_result"
    },
    {
     "data": {
      "image/png": "[encoded data removed]",
      "text/plain": [
       "<Figure size 432x288 with 1 Axes>"
      ]
     },
     "metadata": {
      "needs_background": "light"
     },
     "output_type": "display_data"
    }
   ],
   "source": [
    "sns.boxenplot(y=dados)"
   ]
  },
  {
   "cell_type": "code",
   "execution_count": 66,
   "metadata": {},
   "outputs": [
    {
     "data": {
      "text/plain": [
       "<AxesSubplot:ylabel='Count'>"
      ]
     },
     "execution_count": 66,
     "metadata": {},
     "output_type": "execute_result"
    },
    {
     "data": {
      "image/png": "[encoded data removed]",
      "text/plain": [
       "<Figure size 432x288 with 1 Axes>"
      ]
     },
     "metadata": {
      "needs_background": "light"
     },
     "output_type": "display_data"
    }
   ],
   "source": [
    "sns.histplot(dados)"
   ]
  },
  {
   "cell_type": "markdown",
   "metadata": {},
   "source": [
    "### Resposta\n",
    "\n",
    "Quando a média e mediana são diferentes significa que a distribuição dos dados tem uma certa assimetria.\n",
    "Relação que se pode observar nos grafícos acima plotados. "
   ]
  },
  {
   "cell_type": "markdown",
   "metadata": {},
   "source": [
    "## Exercício 6\n",
    "\n",
    "(Magalhães pg 28 — adaptado) O índice de germinação dos principais fatores para definir a qualidade das sementes. Ele é determinado em experimento cientifico con(luzido pelo fabricante e regulamentado pelos órgãos fiscalizadores. Um fabricante afirma que o índice de germinação de suas sementes de milho é de 85%. Para verificar\n",
    "tal afirmação, uma cooperativa de agricultores sorteou 20 amostras com 100 sementes em cada uma e anotou a porcentagem de germinação em cada amostra.\n",
    "\n",
    "\n",
    "- (a) Faça uma representação gráfica da tabela acima. \n",
    "- (b) Comente a afirmação do fabricante."
   ]
  },
  {
   "cell_type": "code",
   "execution_count": 70,
   "metadata": {},
   "outputs": [
    {
     "name": "stdout",
     "output_type": "stream",
     "text": [
      "Média é : 82.71\n",
      "Mediana é : 82.25\n",
      "Desvio Padrão é : 4.085906457439689\n"
     ]
    }
   ],
   "source": [
    "dados = np.array([82.1,74.9,80.4, 85.3, 90.5, 82.4, 85.1, 82.7, 75.4, 80.7,\n",
    "80.8, 82.7, 89.1, 87.2, 82.1, 81.6, 86.8, 86.1, 79.2, 79.1])\n",
    "\n",
    "media = sts.mean(dados)\n",
    "mediana = sts.median(dados)\n",
    "desviopadrao = sts.stdev(dados)\n",
    "print('Média é :', media)\n",
    "print('Mediana é :', mediana)\n",
    "print('Desvio Padrão é :', desviopadrao)"
   ]
  },
  {
   "cell_type": "code",
   "execution_count": 71,
   "metadata": {},
   "outputs": [
    {
     "data": {
      "text/plain": [
       "<AxesSubplot:ylabel='Count'>"
      ]
     },
     "execution_count": 71,
     "metadata": {},
     "output_type": "execute_result"
    },
    {
     "data": {
      "image/png": "[encoded data removed]",
      "text/plain": [
       "<Figure size 432x288 with 1 Axes>"
      ]
     },
     "metadata": {
      "needs_background": "light"
     },
     "output_type": "display_data"
    }
   ],
   "source": [
    "sns.histplot(dados)"
   ]
  },
  {
   "cell_type": "code",
   "execution_count": 72,
   "metadata": {},
   "outputs": [
    {
     "data": {
      "text/plain": [
       "<AxesSubplot:>"
      ]
     },
     "execution_count": 72,
     "metadata": {},
     "output_type": "execute_result"
    },
    {
     "data": {
      "image/png": "[encoded data removed]",
      "text/plain": [
       "<Figure size 432x288 with 1 Axes>"
      ]
     },
     "metadata": {
      "needs_background": "light"
     },
     "output_type": "display_data"
    }
   ],
   "source": [
    "sns.boxenplot(y=dados)"
   ]
  },
  {
   "cell_type": "markdown",
   "metadata": {},
   "source": [
    "### Resposta\n",
    "\n",
    "Como a média deu abaixo dos 85% informado pelo produtor, necessitariamos de uma melhor amostragem para obter uma maior precisão ou ainda realizar testes estatísticos para verificar a afirmação do produtor."
   ]
  },
  {
   "cell_type": "markdown",
   "metadata": {},
   "source": [
    "## Exercício 7\n",
    "\n",
    "(Magalhães pg 28 — adaptado) Uma nova ração foi fornecida a suínos recém desmamados e deseja se avaliar sua eficiência. A ração tradicional dava um ganho de peso ao redor de 3,5 kg em um mês. A seguir, apresentamos os dados referentes o ganho, em quilos, para essa nova ração, aplicada durante um mês em 20 animais nas condições acima.\n",
    "\n",
    "(a)Construa o histograma.\n",
    "(b)Determine o primeiro ,segundo e terceiro quartis.\n",
    "(c)Você acha que a nova ração é mais eficiente que a tradicional? Justifique."
   ]
  },
  {
   "cell_type": "code",
   "execution_count": 75,
   "metadata": {},
   "outputs": [
    {
     "name": "stdout",
     "output_type": "stream",
     "text": [
      "Quartil 1 é : 2.42\n",
      "Quartil 2 é : 2.835\n",
      "Quartil 3 é : 3.3125\n"
     ]
    }
   ],
   "source": [
    "dados = np.array([2.94, 3.38, 2.49, 3.52, 2.97, 2.09, 2.91, 1.74, 4.27, 5.17,\n",
    "2.27, 1.79, 3.16, 2.47, 5.99, 2.55, 3.29, 2.61, 1.99, 2.76])\n",
    "\n",
    "# Biblioteca scipy\n",
    "quartil1 = stats.scoreatpercentile(dados, 25)\n",
    "quartil2 = stats.scoreatpercentile(dados,50)\n",
    "quartil3 = stats.scoreatpercentile(dados,75)\n",
    "\n",
    "print('Quartil 1 é :', quartil1)\n",
    "print('Quartil 2 é :', quartil2)\n",
    "print('Quartil 3 é :', quartil3)"
   ]
  },
  {
   "cell_type": "code",
   "execution_count": 76,
   "metadata": {},
   "outputs": [
    {
     "data": {
      "text/plain": [
       "<AxesSubplot:ylabel='Count'>"
      ]
     },
     "execution_count": 76,
     "metadata": {},
     "output_type": "execute_result"
    },
    {
     "data": {
      "image/png": "[encoded data removed]",
      "text/plain": [
       "<Figure size 432x288 with 1 Axes>"
      ]
     },
     "metadata": {
      "needs_background": "light"
     },
     "output_type": "display_data"
    }
   ],
   "source": [
    "sns.histplot(dados)"
   ]
  },
  {
   "cell_type": "markdown",
   "metadata": {},
   "source": [
    "### Resposta\n",
    "\n",
    "Como os dados dos percentis indicam que a nova ração é menos eficiente que a tradicional. Visto que os valores encontrados são menores que a da ração tradicional que é de 3,5 kg."
   ]
  },
  {
   "cell_type": "markdown",
   "metadata": {},
   "source": [
    "## Exercício 8\n",
    "\n",
    "Em uma granja foi observado o peso de 80 frangos Queremos dividir os frangos em 4 categorias, com relação ao peso, de modo que:\n",
    "\n",
    "- 1- Os 20% mais leves sejam da categoria A. \n",
    "- 2- Os 30% seguintes sejam da categoria B.\n",
    "- 3- Os 30% seguintes sejam da categoria C.\n",
    "- 4- Os 20% seguintes (ou seja, os 20% mais pesados) sejam da categoria D."
   ]
  },
  {
   "cell_type": "code",
   "execution_count": 97,
   "metadata": {},
   "outputs": [
    {
     "name": "stdout",
     "output_type": "stream",
     "text": [
      "Mediana é : 1024.5\n",
      "Percentil 0 é : 961.0\n",
      "Percentil 20 é : 1002.0\n",
      "Percentil 30 é : 1024.5\n",
      "Percentil 80 é : 1040.2\n",
      "Percentil 100 é : 1084.0\n"
     ]
    }
   ],
   "source": [
    "dados = np.array([961,\t967,\t971,\t974,\t979,\t982,\t992,\t996,\t997,\t998,\n",
    "\t              998,\t999, 1000, 1000, 1002, 1002, 1002,\t1003,\t1004,\t1004,\n",
    "1005, 1005, 1007, 1007, 1008, 1009, 1009,\t1009,\t1010,\t1013,\n",
    "1014, 1016, 1016, 1017, 1017, 1020, 1021,\t1021,\t1022,\t1024,\n",
    "1025, 1026, 1027, 1028, 1028, 1028, 1029,\t1030,\t1030,\t1030,\n",
    "1030, 1031, 1031, 1032, 1032, 1032, 1033,\t1034,\t1034,\t1034,\n",
    "1038, 1038, 1039, 1040, 1041, 1041, 1041,\t1042,\t1049,\t1052,\n",
    "1054, 1056, 1065, 1069, 1071, 1072, 1079,\t1082,\t1083,\t1084])\n",
    "\n",
    "mediana = sts.median(dados)\n",
    "percentil0 = stats.scoreatpercentile(dados, 0)\n",
    "percentil20 = stats.scoreatpercentile(dados, 20)\n",
    "percentil30 = stats.scoreatpercentile(dados, 50)\n",
    "percentil80 = stats.scoreatpercentile(dados, 80)\n",
    "percentil100 = stats.scoreatpercentile(dados, 100)\n",
    "\n",
    "print('Mediana é :', mediana)\n",
    "print('Percentil 0 é :', percentil0)\n",
    "print('Percentil 20 é :', percentil20)\n",
    "print('Percentil 30 é :', percentil30)\n",
    "print('Percentil 80 é :', percentil80)\n",
    "print('Percentil 100 é :', percentil100)"
   ]
  },
  {
   "cell_type": "code",
   "execution_count": 95,
   "metadata": {},
   "outputs": [
    {
     "data": {
      "text/plain": [
       "<AxesSubplot:ylabel='Count'>"
      ]
     },
     "execution_count": 95,
     "metadata": {},
     "output_type": "execute_result"
    },
    {
     "data": {
      "image/png": "[encoded data removed]",
      "text/plain": [
       "<Figure size 432x288 with 1 Axes>"
      ]
     },
     "metadata": {
      "needs_background": "light"
     },
     "output_type": "display_data"
    }
   ],
   "source": [
    "sns.histplot(dados)"
   ]
  },
  {
   "cell_type": "code",
   "execution_count": 99,
   "metadata": {},
   "outputs": [
    {
     "name": "stderr",
     "output_type": "stream",
     "text": [
      "/home/sam/.local/lib/python3.8/site-packages/seaborn/_decorators.py:36: FutureWarning: Pass the following variable as a keyword arg: x. From version 0.12, the only valid positional argument will be `data`, and passing other arguments without an explicit keyword will result in an error or misinterpretation.\n",
      "  warnings.warn(\n"
     ]
    },
    {
     "data": {
      "text/plain": [
       "<AxesSubplot:>"
      ]
     },
     "execution_count": 99,
     "metadata": {},
     "output_type": "execute_result"
    },
    {
     "data": {
      "image/png": "[encoded data removed]",
      "text/plain": [
       "<Figure size 432x288 with 1 Axes>"
      ]
     },
     "metadata": {
      "needs_background": "light"
     },
     "output_type": "display_data"
    }
   ],
   "source": [
    "sns.boxenplot(dados, color='green')"
   ]
  },
  {
   "cell_type": "markdown",
   "metadata": {},
   "source": [
    "###  Resposta\n",
    "\n",
    "- A : [961.0,1002.0[\n",
    "- B : [1002.0,1024.5[\n",
    "- C: [1024.5,1040.2[\n",
    "- D: [1040.2,1084.0["
   ]
  },
  {
   "cell_type": "markdown",
   "metadata": {},
   "source": [
    "## Exercício 9\n",
    "\n",
    "Foi verificado em duas localidades o crescimento de árvores de uma determinada espécie em um intervalo de tempo definido:\n",
    "\n",
    " - Há algum indício de que a localidade em que a árvore está plantada causou influência em seu crescimento?"
   ]
  },
  {
   "cell_type": "code",
   "execution_count": 105,
   "metadata": {},
   "outputs": [
    {
     "name": "stdout",
     "output_type": "stream",
     "text": [
      "Localidade 1\n",
      "Média é : 10.08\n",
      "Mediana é : 10.1\n",
      "Desvio Padrão é : 1.5825837824808608\n",
      "Variancia é : 2.5045714285714284\n",
      "Coeficiente de Variabilidade é : 15.700235937310127\n",
      "--------------------------------------------\n",
      "Localidade 2\n",
      "Média é : 11.566666666666666\n",
      "Mediana é : 11.7\n",
      "Desvio Padrão é : 0.6183695920571712\n",
      "Variancia é : 0.38238095238095243\n",
      "Coeficiente de Variabilidade é : 5.346134801647014\n"
     ]
    }
   ],
   "source": [
    "dados = np.array([ [9.4 ,11.4, \t9.2, 10.1, 10.2,10.1,12.5,8.7,12.2,8.5,10.5,6.5,12.1, 9.6,10.2],\n",
    "[10.8 ,10.5,11.7, 10.7,11.5,11.6,11.7,12.4,11,11.8,11.9,12.4,11.3, 12.5,11.7] ])\n",
    "\n",
    "mediaL1 = sts.mean(dados[0])\n",
    "medianaL1 = sts.median(dados[0])\n",
    "desviopadraoL1 = sts.stdev(dados[0])\n",
    "varianciaL1 = sts.variance(dados[0])\n",
    "coeficiente_variabilidadeL1 = (desviopadraoL1/mediaL1) * 100\n",
    "\n",
    "print('Localidade 1')\n",
    "print('Média é :', mediaL1)\n",
    "print('Mediana é :', medianaL1)\n",
    "print('Desvio Padrão é :', desviopadraoL1)\n",
    "print('Variancia é :', varianciaL1)\n",
    "print('Coeficiente de Variabilidade é :', coeficiente_variabilidadeL1)\n",
    "\n",
    "mediaL2 = sts.mean(dados[1])\n",
    "medianaL2 = sts.median(dados[1])\n",
    "desviopadraoL2 = sts.stdev(dados[1])\n",
    "varianciaL2 = sts.variance(dados[1])\n",
    "coeficiente_variabilidadeL2 = (desviopadraoL2/mediaL2) * 100\n",
    "\n",
    "print('--------------------------------------------')\n",
    "print('Localidade 2')\n",
    "print('Média é :', mediaL2)\n",
    "print('Mediana é :', medianaL2)\n",
    "print('Desvio Padrão é :', desviopadraoL2)\n",
    "print('Variancia é :', varianciaL2)\n",
    "print('Coeficiente de Variabilidade é :', coeficiente_variabilidadeL2)"
   ]
  },
  {
   "cell_type": "code",
   "execution_count": 107,
   "metadata": {},
   "outputs": [
    {
     "data": {
      "text/plain": [
       "<AxesSubplot:ylabel='Count'>"
      ]
     },
     "execution_count": 107,
     "metadata": {},
     "output_type": "execute_result"
    },
    {
     "data": {
      "image/png": "[encoded data removed]",
      "text/plain": [
       "<Figure size 432x288 with 1 Axes>"
      ]
     },
     "metadata": {
      "needs_background": "light"
     },
     "output_type": "display_data"
    }
   ],
   "source": [
    "sns.histplot(dados[0])"
   ]
  },
  {
   "cell_type": "code",
   "execution_count": 108,
   "metadata": {},
   "outputs": [
    {
     "data": {
      "text/plain": [
       "<AxesSubplot:ylabel='Count'>"
      ]
     },
     "execution_count": 108,
     "metadata": {},
     "output_type": "execute_result"
    },
    {
     "data": {
      "image/png": "[encoded data removed]",
      "text/plain": [
       "<Figure size 432x288 with 1 Axes>"
      ]
     },
     "metadata": {
      "needs_background": "light"
     },
     "output_type": "display_data"
    }
   ],
   "source": [
    "sns.histplot(dados[1])"
   ]
  },
  {
   "cell_type": "code",
   "execution_count": 112,
   "metadata": {},
   "outputs": [
    {
     "name": "stderr",
     "output_type": "stream",
     "text": [
      "/home/sam/.local/lib/python3.8/site-packages/seaborn/_decorators.py:36: FutureWarning: Pass the following variable as a keyword arg: x. From version 0.12, the only valid positional argument will be `data`, and passing other arguments without an explicit keyword will result in an error or misinterpretation.\n",
      "  warnings.warn(\n",
      "/home/sam/.local/lib/python3.8/site-packages/seaborn/_decorators.py:36: FutureWarning: Pass the following variable as a keyword arg: x. From version 0.12, the only valid positional argument will be `data`, and passing other arguments without an explicit keyword will result in an error or misinterpretation.\n",
      "  warnings.warn(\n"
     ]
    },
    {
     "data": {
      "text/plain": [
       "<AxesSubplot:xlabel='Localidade', ylabel='Crescimento'>"
      ]
     },
     "execution_count": 112,
     "metadata": {},
     "output_type": "execute_result"
    },
    {
     "data": {
      "image/png": "[encoded data removed]",
      "text/plain": [
       "<Figure size 432x288 with 1 Axes>"
      ]
     },
     "metadata": {
      "needs_background": "light"
     },
     "output_type": "display_data"
    }
   ],
   "source": [
    "plt.xlabel('Localidade')\n",
    "plt.ylabel('Crescimento')\n",
    "sns.boxplot(dados[0])\n",
    "sns.boxplot(dados[1])"
   ]
  },
  {
   "cell_type": "markdown",
   "metadata": {},
   "source": [
    "### Resposta\n",
    "\n",
    "Como o coeficiente de variabilidade dos dados não é grande , então a afirmação sobre a influência da localidade pode ser verdadeira."
   ]
  },
  {
   "cell_type": "markdown",
   "metadata": {},
   "source": []
  },
  {
   "cell_type": "markdown",
   "metadata": {},
   "source": [
    "# Lista 2"
   ]
  },
  {
   "cell_type": "markdown",
   "metadata": {},
   "source": [
    "## Exercício 1\n",
    "\n",
    "Os dados abaixo referem-se ao número de pessoas que residem em uma amostra de 35 domicílios do bairro Esperança no primeiro semestre de 2013.\n",
    "\n",
    "-  Construa uma distribuição de freqüência em classes."
   ]
  },
  {
   "cell_type": "code",
   "execution_count": 122,
   "metadata": {},
   "outputs": [],
   "source": [
    "dados = np.array([2,\t3,\t4,\t4,\t5,\t3,\t4,5,\t6,\t5,\t3,\t1,\t5,\t5,13,\t4,\t5,\t5,\t5,\t3,\n",
    "22,\t5,\t4,\t4,\t2,\t3,5,\t4,\t5,\t4,\t2,\t4,\t9])\n",
    "\n",
    "## data\n",
    "test_scores = np.array([\n",
    "    52, 92, 84, 74, 65, 55, 78, 95, 62, \n",
    "    72, 64, 74, 82, 94, 71, 79, 73, 94, \n",
    "    77, 53, 77, 87, 97, 57, 72, 89, 76, \n",
    "    91, 86, 99, 71, 73, 58, 76, 33, 78, 69\n",
    "])\n"
   ]
  },
  {
   "cell_type": "code",
   "execution_count": 146,
   "metadata": {},
   "outputs": [],
   "source": [
    "def fazer_distribuicao_frequencia(dados, user_input=None,extra=True):\n",
    "    ## total de observações\n",
    "    total_observacoes = len(dados)\n",
    "    ## minimo e maximo\n",
    "    minimo = min(dados)\n",
    "    maximo = max(dados)\n",
    "    if user_input==None:\n",
    "        ## total de classe\n",
    "        total_classe = int(np.sqrt(total_observacoes))\n",
    "    else:\n",
    "        minimo,maximo,total_classe = user_input\n",
    "    ## Intervalo de classe\n",
    "    intervalo_classe = (maximo - minimo)\n",
    "    ## Largura da classe\n",
    "    largura_classe = intervalo_classe / total_classe\n",
    "\n",
    "    print('Total de observações:', total_observacoes)\n",
    "    print('Inicio', minimo)\n",
    "    print('Fim', maximo)\n",
    "    print('Total de classe:', total_classe)\n",
    "    print('Intervalo de classe:', intervalo_classe)\n",
    "    print('Largura de classe:', largura_classe)\n",
    "\n",
    "\n",
    "    ## Criando a lista de classe\n",
    "    classes = [ np.round(inicio,3) for inicio in np.linspace(minimo,maximo,total_classe+1) ]\n",
    "    \n",
    "    ## Criando Histograma\n",
    "    hist,_ = np.histogram(dados,bins=classes)\n",
    "\n",
    "    ## tabela de frequencia\n",
    "    tabela_frequencia = pd.DataFrame({'Classe':[f\"{primeiro} - {ultimo}\" \\\n",
    "     for primeiro,ultimo in zip(classes,classes[1:])],'Frequencia':hist})\n",
    "    \n",
    "    if extra:\n",
    "    \n",
    "    ## Classe Média\n",
    "        tabela_frequencia['Classe Média'] = tabela_frequencia['Classe'].apply(lambda x: ( float(x.split(' ')[0]) + float(x.split(' ')[-1]))/2)\n",
    "\n",
    "    ## Frequencia Relativa\n",
    "        tabela_frequencia['Frequencia Relativa'] = tabela_frequencia['Frequencia'] / tabela_frequencia['Frequencia'].sum()\n",
    "\n",
    "    ## Frequencia Acumulada\n",
    "        tabela_frequencia['Frequencia Acumulada'] = tabela_frequencia['Frequencia'].cumsum()\n",
    "\n",
    "    return tabela_frequencia"
   ]
  },
  {
   "cell_type": "code",
   "execution_count": 150,
   "metadata": {},
   "outputs": [
    {
     "name": "stdout",
     "output_type": "stream",
     "text": [
      "Total de observações: 37\n",
      "Inicio 30\n",
      "Fim 100\n",
      "Total de classe: 7\n",
      "Intervalo de classe: 70\n",
      "Largura de classe: 10.0\n"
     ]
    },
    {
     "data": {
      "text/html": [
       "<div><div id=7f692658-7f93-48d3-92be-dc00d86eabc2 style=\"display:none; background-color:#9D6CFF; color:white; width:200px; height:30px; padding-left:5px; border-radius:4px; flex-direction:row; justify-content:space-around; align-items:center;\" onmouseover=\"this.style.backgroundColor='#BA9BF8'\" onmouseout=\"this.style.backgroundColor='#9D6CFF'\" onclick=\"window.commands?.execute('create-mitosheet-from-dataframe-output');\">See Full Dataframe in Mito</div> <script> if (window.commands.hasCommand('create-mitosheet-from-dataframe-output')) document.getElementById('7f692658-7f93-48d3-92be-dc00d86eabc2').style.display = 'flex' </script> <table border=\"1\" class=\"dataframe\">\n",
       "  <thead>\n",
       "    <tr style=\"text-align: right;\">\n",
       "      <th></th>\n",
       "      <th>Classe</th>\n",
       "      <th>Frequencia</th>\n",
       "      <th>Classe Média</th>\n",
       "      <th>Frequencia Relativa</th>\n",
       "      <th>Frequencia Acumulada</th>\n",
       "    </tr>\n",
       "  </thead>\n",
       "  <tbody>\n",
       "    <tr>\n",
       "      <th>0</th>\n",
       "      <td>30.0 - 40.0</td>\n",
       "      <td>1</td>\n",
       "      <td>35.0</td>\n",
       "      <td>0.027027</td>\n",
       "      <td>1</td>\n",
       "    </tr>\n",
       "    <tr>\n",
       "      <th>1</th>\n",
       "      <td>40.0 - 50.0</td>\n",
       "      <td>0</td>\n",
       "      <td>45.0</td>\n",
       "      <td>0.000000</td>\n",
       "      <td>1</td>\n",
       "    </tr>\n",
       "    <tr>\n",
       "      <th>2</th>\n",
       "      <td>50.0 - 60.0</td>\n",
       "      <td>5</td>\n",
       "      <td>55.0</td>\n",
       "      <td>0.135135</td>\n",
       "      <td>6</td>\n",
       "    </tr>\n",
       "    <tr>\n",
       "      <th>3</th>\n",
       "      <td>60.0 - 70.0</td>\n",
       "      <td>4</td>\n",
       "      <td>65.0</td>\n",
       "      <td>0.108108</td>\n",
       "      <td>10</td>\n",
       "    </tr>\n",
       "    <tr>\n",
       "      <th>4</th>\n",
       "      <td>70.0 - 80.0</td>\n",
       "      <td>15</td>\n",
       "      <td>75.0</td>\n",
       "      <td>0.405405</td>\n",
       "      <td>25</td>\n",
       "    </tr>\n",
       "    <tr>\n",
       "      <th>5</th>\n",
       "      <td>80.0 - 90.0</td>\n",
       "      <td>5</td>\n",
       "      <td>85.0</td>\n",
       "      <td>0.135135</td>\n",
       "      <td>30</td>\n",
       "    </tr>\n",
       "    <tr>\n",
       "      <th>6</th>\n",
       "      <td>90.0 - 100.0</td>\n",
       "      <td>7</td>\n",
       "      <td>95.0</td>\n",
       "      <td>0.189189</td>\n",
       "      <td>37</td>\n",
       "    </tr>\n",
       "  </tbody>\n",
       "</table></div>"
      ],
      "text/plain": [
       "         Classe  Frequencia  Classe Média  Frequencia Relativa  \\\n",
       "0   30.0 - 40.0           1          35.0             0.027027   \n",
       "1   40.0 - 50.0           0          45.0             0.000000   \n",
       "2   50.0 - 60.0           5          55.0             0.135135   \n",
       "3   60.0 - 70.0           4          65.0             0.108108   \n",
       "4   70.0 - 80.0          15          75.0             0.405405   \n",
       "5   80.0 - 90.0           5          85.0             0.135135   \n",
       "6  90.0 - 100.0           7          95.0             0.189189   \n",
       "\n",
       "   Frequencia Acumulada  \n",
       "0                     1  \n",
       "1                     1  \n",
       "2                     6  \n",
       "3                    10  \n",
       "4                    25  \n",
       "5                    30  \n",
       "6                    37  "
      ]
     },
     "execution_count": 150,
     "metadata": {},
     "output_type": "execute_result"
    }
   ],
   "source": [
    "\n",
    "minimo = 30\n",
    "maximo = 100\n",
    "total_classe = 7\n",
    "\n",
    "entrada_usuario = (minimo,maximo,total_classe)\n",
    "fazer_distribuicao_frequencia(test_scores,entrada_usuario)"
   ]
  },
  {
   "cell_type": "code",
   "execution_count": 151,
   "metadata": {},
   "outputs": [
    {
     "name": "stdout",
     "output_type": "stream",
     "text": [
      "Total de observações: 33\n",
      "Inicio 1\n",
      "Fim 22\n",
      "Total de classe: 5\n",
      "Intervalo de classe: 21\n",
      "Largura de classe: 4.2\n"
     ]
    },
    {
     "data": {
      "text/html": [
       "<div><div id=542c1d0d-3f65-458a-934c-20bfe08544ee style=\"display:none; background-color:#9D6CFF; color:white; width:200px; height:30px; padding-left:5px; border-radius:4px; flex-direction:row; justify-content:space-around; align-items:center;\" onmouseover=\"this.style.backgroundColor='#BA9BF8'\" onmouseout=\"this.style.backgroundColor='#9D6CFF'\" onclick=\"window.commands?.execute('create-mitosheet-from-dataframe-output');\">See Full Dataframe in Mito</div> <script> if (window.commands.hasCommand('create-mitosheet-from-dataframe-output')) document.getElementById('542c1d0d-3f65-458a-934c-20bfe08544ee').style.display = 'flex' </script> <table border=\"1\" class=\"dataframe\">\n",
       "  <thead>\n",
       "    <tr style=\"text-align: right;\">\n",
       "      <th></th>\n",
       "      <th>Classe</th>\n",
       "      <th>Frequencia</th>\n",
       "      <th>Classe Média</th>\n",
       "      <th>Frequencia Relativa</th>\n",
       "      <th>Frequencia Acumulada</th>\n",
       "    </tr>\n",
       "  </thead>\n",
       "  <tbody>\n",
       "    <tr>\n",
       "      <th>0</th>\n",
       "      <td>1.0 - 5.2</td>\n",
       "      <td>29</td>\n",
       "      <td>3.1</td>\n",
       "      <td>0.878788</td>\n",
       "      <td>29</td>\n",
       "    </tr>\n",
       "    <tr>\n",
       "      <th>1</th>\n",
       "      <td>5.2 - 9.4</td>\n",
       "      <td>2</td>\n",
       "      <td>7.3</td>\n",
       "      <td>0.060606</td>\n",
       "      <td>31</td>\n",
       "    </tr>\n",
       "    <tr>\n",
       "      <th>2</th>\n",
       "      <td>9.4 - 13.6</td>\n",
       "      <td>1</td>\n",
       "      <td>11.5</td>\n",
       "      <td>0.030303</td>\n",
       "      <td>32</td>\n",
       "    </tr>\n",
       "    <tr>\n",
       "      <th>3</th>\n",
       "      <td>13.6 - 17.8</td>\n",
       "      <td>0</td>\n",
       "      <td>15.7</td>\n",
       "      <td>0.000000</td>\n",
       "      <td>32</td>\n",
       "    </tr>\n",
       "    <tr>\n",
       "      <th>4</th>\n",
       "      <td>17.8 - 22.0</td>\n",
       "      <td>1</td>\n",
       "      <td>19.9</td>\n",
       "      <td>0.030303</td>\n",
       "      <td>33</td>\n",
       "    </tr>\n",
       "  </tbody>\n",
       "</table></div>"
      ],
      "text/plain": [
       "        Classe  Frequencia  Classe Média  Frequencia Relativa  \\\n",
       "0    1.0 - 5.2          29           3.1             0.878788   \n",
       "1    5.2 - 9.4           2           7.3             0.060606   \n",
       "2   9.4 - 13.6           1          11.5             0.030303   \n",
       "3  13.6 - 17.8           0          15.7             0.000000   \n",
       "4  17.8 - 22.0           1          19.9             0.030303   \n",
       "\n",
       "   Frequencia Acumulada  \n",
       "0                    29  \n",
       "1                    31  \n",
       "2                    32  \n",
       "3                    32  \n",
       "4                    33  "
      ]
     },
     "execution_count": 151,
     "metadata": {},
     "output_type": "execute_result"
    }
   ],
   "source": [
    "fazer_distribuicao_frequencia(dados)"
   ]
  }
 ],
 "metadata": {
  "kernelspec": {
   "display_name": "Python 3",
   "language": "python",
   "name": "python3"
  },
  "language_info": {
   "codemirror_mode": {
    "name": "ipython",
    "version": 3
   },
   "file_extension": ".py",
   "mimetype": "text/x-python",
   "name": "python",
   "nbconvert_exporter": "python",
   "pygments_lexer": "ipython3",
   "version": "3.8.10"
  }
 },
 "nbformat": 4,
 "nbformat_minor": 4
}
