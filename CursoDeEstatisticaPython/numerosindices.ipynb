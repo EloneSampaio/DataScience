{
 "cells": [
  {
   "cell_type": "markdown",
   "metadata": {},
   "source": [
    "# Bibliotecas necessárias"
   ]
  },
  {
   "cell_type": "code",
   "execution_count": 1,
   "metadata": {},
   "outputs": [],
   "source": [
    "import pandas as pd\n",
    "import numpy as np"
   ]
  },
  {
   "cell_type": "markdown",
   "metadata": {},
   "source": [
    "## Bibliotecas para estátistica"
   ]
  },
  {
   "cell_type": "code",
   "execution_count": 2,
   "metadata": {},
   "outputs": [],
   "source": [
    "\n",
    "import scipy.stats as stats\n",
    "import pingouin as pg\n",
    "import statistics as sts"
   ]
  },
  {
   "cell_type": "markdown",
   "metadata": {},
   "source": [
    "## Bibliotecas para visualização de dados"
   ]
  },
  {
   "cell_type": "code",
   "execution_count": 3,
   "metadata": {},
   "outputs": [],
   "source": [
    "import matplotlib.pyplot as plt\n",
    "import seaborn as sns"
   ]
  },
  {
   "cell_type": "markdown",
   "metadata": {},
   "source": [
    "# Livro de referência \n",
    "\n",
    " - [ Estatistica basica / Geraldo Luciano Toledo, Ivo Izidoro Ovalle](https://biblioteca.ibge.gov.br/biblioteca-catalogo?id=222461&view=detalhes)\n",
    " - [Material de refêrencia](https://github.com/janiosl/python.ds)"
   ]
  },
  {
   "cell_type": "markdown",
   "metadata": {},
   "source": [
    "# 1 - Números Indices\n",
    "\n",
    "Definição: Número indíce é a relação de dois estados de uma vaŕiavel , susceptiva de variar no tempo e no espaço.\n",
    "\n",
    "\n",
    "  exemplo: \n",
    "\n",
    "  \n",
    "    - Preço\n",
    "    - Quantidade\n",
    "    - Valor\n",
    "\n",
    "Este conceito do ponto de vista de cálculos é simples, mas trabalhoso, por isso o foco do estudo recomendado é mais a leitura do capítulo do livro para entendimento.\n",
    "\n",
    "Referência: TOLEDO, Geraldo Luciano e OVALLE, Ivo Izidório (1985) Estatítisca Básica. São Paulo: Atlas\n",
    "\n",
    "Detalhes no capítulo 7 do livro\n",
    "\n",
    "Propriedades de números índices:\n",
    "\n",
    "Identidade: o número-índice deve ser igual à unidade quando a época dada (t) coincidir com a época básica (0).\n",
    "\n",
    "\n",
    "Reversão (inversão) de tempo: se permutarem dois períodos s e t, os resultados são o inverso um do outro.\n",
    "\n",
    "\n",
    "Circular: \"considerando um índice em que as datas aparecem em progressão aritimética e cujas comparações foram feitas com base nas datas imediatamente anteriores, o valor do índice da última data, com base na primeira, será igual ao produto dos valores da série original\" (Toledo e Ovale, 1985)"
   ]
  },
  {
   "cell_type": "markdown",
   "metadata": {},
   "source": [
    "## 1.1 - Números indices relativos\n",
    "\n",
    "    É um indice que representa a comparação de um um único bem, permite uma rápida avaliação da variação \n",
    "    relativa dos dados.\n",
    "\n",
    "    Existem 3 tipos números indíces relativos que são descriminados abaixo:\n",
    "         - Indíce de valor\n",
    "         - Indíce de quantidade\n",
    "         - Indíce de preço\n",
    "     \n",
    "     Equação:\n",
    "\n",
    "        IVo,t = Vt/Vo * 100\n",
    "    onde Vt é o valor atual, Vo o valor da época base e t é a época atual.    "
   ]
  },
  {
   "cell_type": "markdown",
   "metadata": {},
   "source": [
    "### Exercício \n",
    "\n",
    "![numeroindice](Questoes/1.png)"
   ]
  },
  {
   "cell_type": "code",
   "execution_count": 8,
   "metadata": {},
   "outputs": [
    {
     "name": "stdout",
     "output_type": "stream",
     "text": [
      "Ivo = 73.8%\n",
      "Resposta :26.2\n"
     ]
    }
   ],
   "source": [
    "# Dados\n",
    "\n",
    "Po = 50.18\n",
    "Pt = 37.03\n",
    "\n",
    "# Indíce de valor\n",
    "Ivo =round(Pt/Po,3) * 100\n",
    "print(f'Ivo = {Ivo}%')\n",
    "print('Resposta ',round((100-Ivo),3),sep=':')\n",
    "\n",
    "#Reposta: No período de estudo, o índice de valor teve uma redução de (100-Ivo)% que corresponde a uma redução de 26,2%\n"
   ]
  },
  {
   "cell_type": "markdown",
   "metadata": {},
   "source": [
    "## 1.2 - índices de base movél\n",
    "\n",
    "Elos de índice são índices que  formam elos e são calculados tomando como base o período de tempo anterior."
   ]
  },
  {
   "cell_type": "markdown",
   "metadata": {},
   "source": [
    "### Exércicio de indíce de base movél.\n",
    "\n",
    "![indicebasemovel](Questoes/2.png)"
   ]
  },
  {
   "cell_type": "code",
   "execution_count": 48,
   "metadata": {},
   "outputs": [],
   "source": [
    "Valores = {'Preco' : [50.18,37.03,45.50,45.52,104.58], 'Ano' : [2016,2017,2018,2019,2020]}\n",
    "Indices = []"
   ]
  },
  {
   "cell_type": "code",
   "execution_count": 49,
   "metadata": {},
   "outputs": [],
   "source": [
    "for i in range(len(Valores['Preco'])):\n",
    "    if i == 0:\n",
    "        Indices.append(round((Valores['Preco'][i+1] / Valores['Preco'][i]),3) * 100)\n",
    "    elif i < len(Valores['Preco'])-1:\n",
    "        Indices.append(round((Valores['Preco'][i+1] / Valores['Preco'][i]),3) * 100)\n",
    "    else:\n",
    "        break"
   ]
  },
  {
   "cell_type": "code",
   "execution_count": 51,
   "metadata": {},
   "outputs": [
    {
     "name": "stdout",
     "output_type": "stream",
     "text": [
      "Números índices encontrados:  [73.8, 122.9, 100.0, 229.70000000000002]\n"
     ]
    }
   ],
   "source": [
    "print('Números índices encontrados: ', Indices)"
   ]
  },
  {
   "cell_type": "markdown",
   "metadata": {},
   "source": [
    "## 1.3 - índices em cadeia ou base fixa\n",
    "\n",
    "    Os índices em cadeia são índices que são calculados tomando como base uma base fixa.\n",
    "\n",
    "\n",
    "    ### Exercício de índice de base fixa"
   ]
  },
  {
   "cell_type": "code",
   "execution_count": 57,
   "metadata": {},
   "outputs": [],
   "source": [
    "# exemplo\n",
    "Valores = {'Preco' : [50.18,37.03,45.50,45.52,104.58], 'Ano' : [2016,2017,2018,2019,2020]}\n",
    "Indices = []\n",
    "\n",
    "for i in range(len(Valores['Preco'])) :\n",
    "    if i < len(Valores['Preco'])-1:\n",
    "        Indices.append(round(Valores['Preco'][i+1] / Valores['Preco'][0],4) * 100)    \n"
   ]
  },
  {
   "cell_type": "code",
   "execution_count": 58,
   "metadata": {},
   "outputs": [
    {
     "name": "stdout",
     "output_type": "stream",
     "text": [
      "Números índices encontrados:  [73.79, 90.67, 90.71000000000001, 208.41]\n"
     ]
    }
   ],
   "source": [
    "print('Números índices encontrados: ', Indices)"
   ]
  }
 ],
 "metadata": {
  "interpreter": {
   "hash": "31f2aee4e71d21fbe5cf8b01ff0e069b9275f58929596ceb00d14d90e3e16cd6"
  },
  "kernelspec": {
   "display_name": "Python 3.8.10 64-bit",
   "language": "python",
   "name": "python3"
  },
  "language_info": {
   "codemirror_mode": {
    "name": "ipython",
    "version": 3
   },
   "file_extension": ".py",
   "mimetype": "text/x-python",
   "name": "python",
   "nbconvert_exporter": "python",
   "pygments_lexer": "ipython3",
   "version": "3.8.10"
  },
  "orig_nbformat": 4
 },
 "nbformat": 4,
 "nbformat_minor": 2
}
