{
 "cells": [
  {
   "cell_type": "code",
   "execution_count": 1,
   "metadata": {},
   "outputs": [],
   "source": [
    "import requests\n",
    "import time\n",
    "import datetime\n",
    "from bs4 import BeautifulSoup\n",
    "import re as regex\n",
    "from selenium.webdriver.common.by import By \n",
    "import locale"
   ]
  },
  {
   "cell_type": "code",
   "execution_count": 2,
   "metadata": {},
   "outputs": [],
   "source": [
    "# para o chrome\n",
    "\n",
    "from selenium import webdriver\n",
    "from selenium.webdriver.chrome.options import Options \n"
   ]
  },
  {
   "cell_type": "code",
   "execution_count": 3,
   "metadata": {},
   "outputs": [
    {
     "data": {
      "text/plain": [
       "'pt_BR.UTF-8'"
      ]
     },
     "execution_count": 3,
     "metadata": {},
     "output_type": "execute_result"
    }
   ],
   "source": [
    "#Localização\n",
    "locale.setlocale(locale.LC_ALL,'pt_BR.UTF-8')"
   ]
  },
  {
   "cell_type": "markdown",
   "metadata": {},
   "source": [
    "## Start webdrive"
   ]
  },
  {
   "cell_type": "code",
   "execution_count": 4,
   "metadata": {},
   "outputs": [
    {
     "ename": "SessionNotCreatedException",
     "evalue": "Message: session not created\nfrom disconnected: received Inspector.detached event\n  (Session info: chrome=96.0.4664.45)\nStacktrace:\n#0 0x556407e34d83 <unknown>\n#1 0x556407ba1e28 <unknown>\n#2 0x556407b8e835 <unknown>\n#3 0x556407b8e299 <unknown>\n#4 0x556407b8d865 <unknown>\n#5 0x556407b8c777 <unknown>\n#6 0x556407b8cab3 <unknown>\n#7 0x556407b8c141 <unknown>\n#8 0x556407b9b550 <unknown>\n#9 0x556407b8c0f6 <unknown>\n#10 0x556407b8d339 <unknown>\n#11 0x556407b8c777 <unknown>\n#12 0x556407b8cab3 <unknown>\n#13 0x556407b8c141 <unknown>\n#14 0x556407b98dcd <unknown>\n#15 0x556407b8c0f6 <unknown>\n#16 0x556407b8d339 <unknown>\n#17 0x556407b8c777 <unknown>\n#18 0x556407b8cab3 <unknown>\n#19 0x556407b8c141 <unknown>\n#20 0x556407b946fb <unknown>\n#21 0x556407b8c0f6 <unknown>\n#22 0x556407b8d339 <unknown>\n#23 0x556407b8c777 <unknown>\n#24 0x556407b8cab3 <unknown>\n#25 0x556407b8c141 <unknown>\n#26 0x556407b9370a <unknown>\n#27 0x556407b8c0f6 <unknown>\n#28 0x556407b8d339 <unknown>\n#29 0x556407b8c777 <unknown>\n#30 0x556407b8cab3 <unknown>\n#31 0x556407b8c141 <unknown>\n#32 0x556407b86e0a <unknown>\n#33 0x556407b8c0f6 <unknown>\n#34 0x556407b8c015 <unknown>\n#35 0x556407b8bb50 <unknown>\n#36 0x556407ba3202 <unknown>\n#37 0x556407bfbe93 <unknown>\n#38 0x556407bf4d73 <unknown>\n#39 0x556407bca87e <unknown>\n#40 0x556407bcb865 <unknown>\n#41 0x556407e62505 <unknown>\n#42 0x556407e75786 <unknown>\n#43 0x556407e7691f <unknown>\n#44 0x556407e633ee <unknown>\n#45 0x556407e76d84 <unknown>\n#46 0x556407e57f02 <unknown>\n#47 0x556407e8f648 <unknown>\n#48 0x556407e8f7c8 <unknown>\n#49 0x556407ea9e46 <unknown>\n#50 0x7fd6cbbc16db <unknown>\n",
     "output_type": "error",
     "traceback": [
      "\u001b[0;31m---------------------------------------------------------------------------\u001b[0m",
      "\u001b[0;31mSessionNotCreatedException\u001b[0m                Traceback (most recent call last)",
      "\u001b[0;32m<ipython-input-4-26100de09499>\u001b[0m in \u001b[0;36m<module>\u001b[0;34m\u001b[0m\n\u001b[1;32m      4\u001b[0m \u001b[0moptions\u001b[0m\u001b[0;34m.\u001b[0m\u001b[0madd_argument\u001b[0m\u001b[0;34m(\u001b[0m\u001b[0;34m'window-size=400,800'\u001b[0m\u001b[0;34m)\u001b[0m\u001b[0;34m\u001b[0m\u001b[0;34m\u001b[0m\u001b[0m\n\u001b[1;32m      5\u001b[0m \u001b[0;34m\u001b[0m\u001b[0m\n\u001b[0;32m----> 6\u001b[0;31m \u001b[0mdrive\u001b[0m \u001b[0;34m=\u001b[0m \u001b[0mwebdriver\u001b[0m\u001b[0;34m.\u001b[0m\u001b[0mChrome\u001b[0m\u001b[0;34m(\u001b[0m\u001b[0moptions\u001b[0m\u001b[0;34m=\u001b[0m\u001b[0moptions\u001b[0m\u001b[0;34m)\u001b[0m\u001b[0;34m\u001b[0m\u001b[0;34m\u001b[0m\u001b[0m\n\u001b[0m",
      "\u001b[0;32m~/.local/lib/python3.8/site-packages/selenium/webdriver/chrome/webdriver.py\u001b[0m in \u001b[0;36m__init__\u001b[0;34m(self, executable_path, port, options, service_args, desired_capabilities, service_log_path, chrome_options, service, keep_alive)\u001b[0m\n\u001b[1;32m     67\u001b[0m             \u001b[0mservice\u001b[0m \u001b[0;34m=\u001b[0m \u001b[0mService\u001b[0m\u001b[0;34m(\u001b[0m\u001b[0mexecutable_path\u001b[0m\u001b[0;34m,\u001b[0m \u001b[0mport\u001b[0m\u001b[0;34m,\u001b[0m \u001b[0mservice_args\u001b[0m\u001b[0;34m,\u001b[0m \u001b[0mservice_log_path\u001b[0m\u001b[0;34m)\u001b[0m\u001b[0;34m\u001b[0m\u001b[0;34m\u001b[0m\u001b[0m\n\u001b[1;32m     68\u001b[0m \u001b[0;34m\u001b[0m\u001b[0m\n\u001b[0;32m---> 69\u001b[0;31m         super(WebDriver, self).__init__(DesiredCapabilities.CHROME['browserName'], \"goog\",\n\u001b[0m\u001b[1;32m     70\u001b[0m                                         \u001b[0mport\u001b[0m\u001b[0;34m,\u001b[0m \u001b[0moptions\u001b[0m\u001b[0;34m,\u001b[0m\u001b[0;34m\u001b[0m\u001b[0;34m\u001b[0m\u001b[0m\n\u001b[1;32m     71\u001b[0m                                         \u001b[0mservice_args\u001b[0m\u001b[0;34m,\u001b[0m \u001b[0mdesired_capabilities\u001b[0m\u001b[0;34m,\u001b[0m\u001b[0;34m\u001b[0m\u001b[0;34m\u001b[0m\u001b[0m\n",
      "\u001b[0;32m~/.local/lib/python3.8/site-packages/selenium/webdriver/chromium/webdriver.py\u001b[0m in \u001b[0;36m__init__\u001b[0;34m(self, browser_name, vendor_prefix, port, options, service_args, desired_capabilities, service_log_path, service, keep_alive)\u001b[0m\n\u001b[1;32m     91\u001b[0m \u001b[0;34m\u001b[0m\u001b[0m\n\u001b[1;32m     92\u001b[0m         \u001b[0;32mtry\u001b[0m\u001b[0;34m:\u001b[0m\u001b[0;34m\u001b[0m\u001b[0;34m\u001b[0m\u001b[0m\n\u001b[0;32m---> 93\u001b[0;31m             RemoteWebDriver.__init__(\n\u001b[0m\u001b[1;32m     94\u001b[0m                 \u001b[0mself\u001b[0m\u001b[0;34m,\u001b[0m\u001b[0;34m\u001b[0m\u001b[0;34m\u001b[0m\u001b[0m\n\u001b[1;32m     95\u001b[0m                 command_executor=ChromiumRemoteConnection(\n",
      "\u001b[0;32m~/.local/lib/python3.8/site-packages/selenium/webdriver/remote/webdriver.py\u001b[0m in \u001b[0;36m__init__\u001b[0;34m(self, command_executor, desired_capabilities, browser_profile, proxy, keep_alive, file_detector, options)\u001b[0m\n\u001b[1;32m    264\u001b[0m         \u001b[0mself\u001b[0m\u001b[0;34m.\u001b[0m\u001b[0mfile_detector\u001b[0m \u001b[0;34m=\u001b[0m \u001b[0mfile_detector\u001b[0m \u001b[0;32mor\u001b[0m \u001b[0mLocalFileDetector\u001b[0m\u001b[0;34m(\u001b[0m\u001b[0;34m)\u001b[0m\u001b[0;34m\u001b[0m\u001b[0;34m\u001b[0m\u001b[0m\n\u001b[1;32m    265\u001b[0m         \u001b[0mself\u001b[0m\u001b[0;34m.\u001b[0m\u001b[0mstart_client\u001b[0m\u001b[0;34m(\u001b[0m\u001b[0;34m)\u001b[0m\u001b[0;34m\u001b[0m\u001b[0;34m\u001b[0m\u001b[0m\n\u001b[0;32m--> 266\u001b[0;31m         \u001b[0mself\u001b[0m\u001b[0;34m.\u001b[0m\u001b[0mstart_session\u001b[0m\u001b[0;34m(\u001b[0m\u001b[0mcapabilities\u001b[0m\u001b[0;34m,\u001b[0m \u001b[0mbrowser_profile\u001b[0m\u001b[0;34m)\u001b[0m\u001b[0;34m\u001b[0m\u001b[0;34m\u001b[0m\u001b[0m\n\u001b[0m\u001b[1;32m    267\u001b[0m \u001b[0;34m\u001b[0m\u001b[0m\n\u001b[1;32m    268\u001b[0m     \u001b[0;32mdef\u001b[0m \u001b[0m__repr__\u001b[0m\u001b[0;34m(\u001b[0m\u001b[0mself\u001b[0m\u001b[0;34m)\u001b[0m\u001b[0;34m:\u001b[0m\u001b[0;34m\u001b[0m\u001b[0;34m\u001b[0m\u001b[0m\n",
      "\u001b[0;32m~/.local/lib/python3.8/site-packages/selenium/webdriver/remote/webdriver.py\u001b[0m in \u001b[0;36mstart_session\u001b[0;34m(self, capabilities, browser_profile)\u001b[0m\n\u001b[1;32m    355\u001b[0m         parameters = {\"capabilities\": w3c_caps,\n\u001b[1;32m    356\u001b[0m                       \"desiredCapabilities\": capabilities}\n\u001b[0;32m--> 357\u001b[0;31m         \u001b[0mresponse\u001b[0m \u001b[0;34m=\u001b[0m \u001b[0mself\u001b[0m\u001b[0;34m.\u001b[0m\u001b[0mexecute\u001b[0m\u001b[0;34m(\u001b[0m\u001b[0mCommand\u001b[0m\u001b[0;34m.\u001b[0m\u001b[0mNEW_SESSION\u001b[0m\u001b[0;34m,\u001b[0m \u001b[0mparameters\u001b[0m\u001b[0;34m)\u001b[0m\u001b[0;34m\u001b[0m\u001b[0;34m\u001b[0m\u001b[0m\n\u001b[0m\u001b[1;32m    358\u001b[0m         \u001b[0;32mif\u001b[0m \u001b[0;34m'sessionId'\u001b[0m \u001b[0;32mnot\u001b[0m \u001b[0;32min\u001b[0m \u001b[0mresponse\u001b[0m\u001b[0;34m:\u001b[0m\u001b[0;34m\u001b[0m\u001b[0;34m\u001b[0m\u001b[0m\n\u001b[1;32m    359\u001b[0m             \u001b[0mresponse\u001b[0m \u001b[0;34m=\u001b[0m \u001b[0mresponse\u001b[0m\u001b[0;34m[\u001b[0m\u001b[0;34m'value'\u001b[0m\u001b[0;34m]\u001b[0m\u001b[0;34m\u001b[0m\u001b[0;34m\u001b[0m\u001b[0m\n",
      "\u001b[0;32m~/.local/lib/python3.8/site-packages/selenium/webdriver/remote/webdriver.py\u001b[0m in \u001b[0;36mexecute\u001b[0;34m(self, driver_command, params)\u001b[0m\n\u001b[1;32m    416\u001b[0m         \u001b[0mresponse\u001b[0m \u001b[0;34m=\u001b[0m \u001b[0mself\u001b[0m\u001b[0;34m.\u001b[0m\u001b[0mcommand_executor\u001b[0m\u001b[0;34m.\u001b[0m\u001b[0mexecute\u001b[0m\u001b[0;34m(\u001b[0m\u001b[0mdriver_command\u001b[0m\u001b[0;34m,\u001b[0m \u001b[0mparams\u001b[0m\u001b[0;34m)\u001b[0m\u001b[0;34m\u001b[0m\u001b[0;34m\u001b[0m\u001b[0m\n\u001b[1;32m    417\u001b[0m         \u001b[0;32mif\u001b[0m \u001b[0mresponse\u001b[0m\u001b[0;34m:\u001b[0m\u001b[0;34m\u001b[0m\u001b[0;34m\u001b[0m\u001b[0m\n\u001b[0;32m--> 418\u001b[0;31m             \u001b[0mself\u001b[0m\u001b[0;34m.\u001b[0m\u001b[0merror_handler\u001b[0m\u001b[0;34m.\u001b[0m\u001b[0mcheck_response\u001b[0m\u001b[0;34m(\u001b[0m\u001b[0mresponse\u001b[0m\u001b[0;34m)\u001b[0m\u001b[0;34m\u001b[0m\u001b[0;34m\u001b[0m\u001b[0m\n\u001b[0m\u001b[1;32m    419\u001b[0m             response['value'] = self._unwrap_value(\n\u001b[1;32m    420\u001b[0m                 response.get('value', None))\n",
      "\u001b[0;32m~/.local/lib/python3.8/site-packages/selenium/webdriver/remote/errorhandler.py\u001b[0m in \u001b[0;36mcheck_response\u001b[0;34m(self, response)\u001b[0m\n\u001b[1;32m    241\u001b[0m                 \u001b[0malert_text\u001b[0m \u001b[0;34m=\u001b[0m \u001b[0mvalue\u001b[0m\u001b[0;34m[\u001b[0m\u001b[0;34m'alert'\u001b[0m\u001b[0;34m]\u001b[0m\u001b[0;34m.\u001b[0m\u001b[0mget\u001b[0m\u001b[0;34m(\u001b[0m\u001b[0;34m'text'\u001b[0m\u001b[0;34m)\u001b[0m\u001b[0;34m\u001b[0m\u001b[0;34m\u001b[0m\u001b[0m\n\u001b[1;32m    242\u001b[0m             \u001b[0;32mraise\u001b[0m \u001b[0mexception_class\u001b[0m\u001b[0;34m(\u001b[0m\u001b[0mmessage\u001b[0m\u001b[0;34m,\u001b[0m \u001b[0mscreen\u001b[0m\u001b[0;34m,\u001b[0m \u001b[0mstacktrace\u001b[0m\u001b[0;34m,\u001b[0m \u001b[0malert_text\u001b[0m\u001b[0;34m)\u001b[0m  \u001b[0;31m# type: ignore[call-arg]  # mypy is not smart enough here\u001b[0m\u001b[0;34m\u001b[0m\u001b[0;34m\u001b[0m\u001b[0m\n\u001b[0;32m--> 243\u001b[0;31m         \u001b[0;32mraise\u001b[0m \u001b[0mexception_class\u001b[0m\u001b[0;34m(\u001b[0m\u001b[0mmessage\u001b[0m\u001b[0;34m,\u001b[0m \u001b[0mscreen\u001b[0m\u001b[0;34m,\u001b[0m \u001b[0mstacktrace\u001b[0m\u001b[0;34m)\u001b[0m\u001b[0;34m\u001b[0m\u001b[0;34m\u001b[0m\u001b[0m\n\u001b[0m\u001b[1;32m    244\u001b[0m \u001b[0;34m\u001b[0m\u001b[0m\n\u001b[1;32m    245\u001b[0m     \u001b[0;32mdef\u001b[0m \u001b[0m_value_or_default\u001b[0m\u001b[0;34m(\u001b[0m\u001b[0mself\u001b[0m\u001b[0;34m,\u001b[0m \u001b[0mobj\u001b[0m\u001b[0;34m:\u001b[0m \u001b[0mMapping\u001b[0m\u001b[0;34m[\u001b[0m\u001b[0m_KT\u001b[0m\u001b[0;34m,\u001b[0m \u001b[0m_VT\u001b[0m\u001b[0;34m]\u001b[0m\u001b[0;34m,\u001b[0m \u001b[0mkey\u001b[0m\u001b[0;34m:\u001b[0m \u001b[0m_KT\u001b[0m\u001b[0;34m,\u001b[0m \u001b[0mdefault\u001b[0m\u001b[0;34m:\u001b[0m \u001b[0m_VT\u001b[0m\u001b[0;34m)\u001b[0m \u001b[0;34m->\u001b[0m \u001b[0m_VT\u001b[0m\u001b[0;34m:\u001b[0m\u001b[0;34m\u001b[0m\u001b[0;34m\u001b[0m\u001b[0m\n",
      "\u001b[0;31mSessionNotCreatedException\u001b[0m: Message: session not created\nfrom disconnected: received Inspector.detached event\n  (Session info: chrome=96.0.4664.45)\nStacktrace:\n#0 0x556407e34d83 <unknown>\n#1 0x556407ba1e28 <unknown>\n#2 0x556407b8e835 <unknown>\n#3 0x556407b8e299 <unknown>\n#4 0x556407b8d865 <unknown>\n#5 0x556407b8c777 <unknown>\n#6 0x556407b8cab3 <unknown>\n#7 0x556407b8c141 <unknown>\n#8 0x556407b9b550 <unknown>\n#9 0x556407b8c0f6 <unknown>\n#10 0x556407b8d339 <unknown>\n#11 0x556407b8c777 <unknown>\n#12 0x556407b8cab3 <unknown>\n#13 0x556407b8c141 <unknown>\n#14 0x556407b98dcd <unknown>\n#15 0x556407b8c0f6 <unknown>\n#16 0x556407b8d339 <unknown>\n#17 0x556407b8c777 <unknown>\n#18 0x556407b8cab3 <unknown>\n#19 0x556407b8c141 <unknown>\n#20 0x556407b946fb <unknown>\n#21 0x556407b8c0f6 <unknown>\n#22 0x556407b8d339 <unknown>\n#23 0x556407b8c777 <unknown>\n#24 0x556407b8cab3 <unknown>\n#25 0x556407b8c141 <unknown>\n#26 0x556407b9370a <unknown>\n#27 0x556407b8c0f6 <unknown>\n#28 0x556407b8d339 <unknown>\n#29 0x556407b8c777 <unknown>\n#30 0x556407b8cab3 <unknown>\n#31 0x556407b8c141 <unknown>\n#32 0x556407b86e0a <unknown>\n#33 0x556407b8c0f6 <unknown>\n#34 0x556407b8c015 <unknown>\n#35 0x556407b8bb50 <unknown>\n#36 0x556407ba3202 <unknown>\n#37 0x556407bfbe93 <unknown>\n#38 0x556407bf4d73 <unknown>\n#39 0x556407bca87e <unknown>\n#40 0x556407bcb865 <unknown>\n#41 0x556407e62505 <unknown>\n#42 0x556407e75786 <unknown>\n#43 0x556407e7691f <unknown>\n#44 0x556407e633ee <unknown>\n#45 0x556407e76d84 <unknown>\n#46 0x556407e57f02 <unknown>\n#47 0x556407e8f648 <unknown>\n#48 0x556407e8f7c8 <unknown>\n#49 0x556407ea9e46 <unknown>\n#50 0x7fd6cbbc16db <unknown>\n"
     ]
    }
   ],
   "source": [
    "#chrome\n",
    "options = Options()\n",
    "#options.add_argument('--headless')\n",
    "options.add_argument('window-size=400,800')\n",
    "\n",
    "drive = webdriver.Chrome(options=options)"
   ]
  },
  {
   "cell_type": "code",
   "execution_count": null,
   "metadata": {},
   "outputs": [],
   "source": []
  },
  {
   "cell_type": "code",
   "execution_count": null,
   "metadata": {},
   "outputs": [],
   "source": []
  },
  {
   "cell_type": "markdown",
   "metadata": {},
   "source": [
    "# Links\n",
    " - [Regex Python](https://medium.com/pyladiesbh/regex-b%C3%A1sico-em-python-31dcb7fac046)\n",
    " \n",
    " - [Site para testar Regex](https://regex101.com/)\n",
    " - [BeautifulSoap Pegar valor da tag get-aria-label](https://pytutorial.com/get-aria-label-beautifulsoup)\n",
    " - [Trabalhando com valor monetário](https://herrmann.tech/pt/blog/2021/02/05/como-tratar-dados-com-formatacao-  internacional-no-python.html)"
   ]
  },
  {
   "cell_type": "code",
   "execution_count": null,
   "metadata": {},
   "outputs": [],
   "source": []
  },
  {
   "cell_type": "code",
   "execution_count": null,
   "metadata": {},
   "outputs": [],
   "source": []
  },
  {
   "cell_type": "code",
   "execution_count": null,
   "metadata": {},
   "outputs": [],
   "source": [
    "\n"
   ]
  },
  {
   "cell_type": "code",
   "execution_count": null,
   "metadata": {},
   "outputs": [],
   "source": []
  },
  {
   "cell_type": "code",
   "execution_count": null,
   "metadata": {},
   "outputs": [],
   "source": []
  },
  {
   "cell_type": "code",
   "execution_count": null,
   "metadata": {},
   "outputs": [],
   "source": []
  },
  {
   "cell_type": "code",
   "execution_count": null,
   "metadata": {},
   "outputs": [],
   "source": [
    "URL = 'https://www.amazon.com.br'\n",
    "NUMERO_DE_PAGINAS = 5"
   ]
  },
  {
   "cell_type": "code",
   "execution_count": null,
   "metadata": {},
   "outputs": [],
   "source": [
    "def get_url():\n",
    "    \n",
    "    drive.get(URL)\n",
    "    search_term = drive.find_element(By.ID,'twotabsearchtextbox')\n",
    "    search_term.send_keys(\"Promoção de livros\")\n",
    "    search_term.submit()\n",
    "    source = drive.page_source\n",
    "    #template = \"https://www.amazon.com.br/s?k={}&__mk_pt_BR=%C3%85M%C3%85%C5%BD%C3%95%C3%91&ref=nb_sb_noss_2\"\n",
    "    #template = \"https://www.amazon.com.br/blackfriday?pd_rd_wg=aFXxb&pd_rd_w=mtQ6b&qid=1637089992&pd_rd_r=9129f1c4-2137-4c42-983e-ea90c60694e7&deals-widget=%257B%2522version%2522%253A1%252C%2522viewIndex%2522%253A0%252C%2522presetId%2522%253A%2522deals-collection-books%2522%252C%2522departments%2522%253A%255B%25226740748011%2522%252C%25225475882011%2522%255D%252C%2522dealState%2522%253A%2522AVAILABLE%2522%252C%2522sorting%2522%253A%2522BY_SCORE%2522%257D\"\n",
    "    #search_term = search_term.replace(\" \",\"+\")\n",
    "    #return template.format(search_term)\n",
    "    return source\n",
    "    "
   ]
  },
  {
   "cell_type": "code",
   "execution_count": null,
   "metadata": {},
   "outputs": [],
   "source": [
    "source = get_url()"
   ]
  },
  {
   "cell_type": "code",
   "execution_count": 8,
   "metadata": {},
   "outputs": [],
   "source": [
    "site_data = BeautifulSoup(source,'html.parser')\n",
    "site = BeautifulSoup(site_data.prettify(),'html.parser')"
   ]
  },
  {
   "cell_type": "code",
   "execution_count": null,
   "metadata": {},
   "outputs": [],
   "source": []
  },
  {
   "cell_type": "code",
   "execution_count": null,
   "metadata": {},
   "outputs": [],
   "source": []
  },
  {
   "cell_type": "markdown",
   "metadata": {},
   "source": [
    "# Projeto de webscraping"
   ]
  },
  {
   "cell_type": "markdown",
   "metadata": {},
   "source": [
    "### Conectar ao website"
   ]
  },
  {
   "cell_type": "code",
   "execution_count": 9,
   "metadata": {},
   "outputs": [],
   "source": [
    "## Cabeçario e URL\n",
    "\n",
    "#headers = {\n",
    "#    'Access-Control-Allow-Origin': '*',\n",
    "#    'Access-Control-Allow-Methods': 'GET',\n",
    "#    'Access-Control-Allow-Headers': 'Content-Type',\n",
    "#    'Access-Control-Max-Age': '3600',\n",
    "#    'User-Agent': 'Mozilla/5.0 (X11; Ubuntu; Linux x86_64; rv:52.0) Gecko/20100101 Firefox/52.0'\n",
    "#    }\n",
    "\n",
    "#URL = 'https://www.amazon.com.br/CONTRA-TODAS-AS-PROBABILIDADES-AMOR/dp/8595810109/ref=sr_1_17?pf_rd_i=13130368011&pf_rd_m=A3RN7G7QC5MWSZ&pf_rd_p=c3ef9448-8a36-4b01-a1bd-c8404ae1e919&pf_rd_r=98KF71A14TGV9D7S1A9B&pf_rd_s=merchandised-search-2&pf_rd_t=101&qid=1637006219&refinements=p_36%3A8620045011&s=books&sr=1-17'"
   ]
  },
  {
   "cell_type": "code",
   "execution_count": 10,
   "metadata": {},
   "outputs": [],
   "source": [
    "#page = requests.get(url,headers=headers)"
   ]
  },
  {
   "cell_type": "code",
   "execution_count": null,
   "metadata": {},
   "outputs": [],
   "source": []
  },
  {
   "cell_type": "code",
   "execution_count": 11,
   "metadata": {},
   "outputs": [],
   "source": [
    "#Obter page\n",
    "#soap1= BeautifulSoup(drive.page_source,\"html.parser\")\n",
    "\n",
    "#soap2= BeautifulSoup(soap1.prettify(),\"html.parser\")"
   ]
  },
  {
   "cell_type": "code",
   "execution_count": null,
   "metadata": {},
   "outputs": [],
   "source": []
  },
  {
   "cell_type": "code",
   "execution_count": 12,
   "metadata": {},
   "outputs": [],
   "source": [
    "produtos = []\n",
    "\n",
    "def getData(bs4):\n",
    "    return bs4.find_all('div', attrs={'data-component-type': 's-search-result'})\n",
    "\n",
    "\n",
    "#def findAllData(pagina):\n",
    "    #https://stackoverflow.com/questions/18725760/beautifulsoup-findall-given-multiple-classes\n",
    "    \n",
    " #    for resultado in pagina:\n",
    " #       for produto in resultado.find_all('span',attrs={'class':['a-size-base-plus','a-color-base','a-text-normal']}):\n",
    "        #resultado.find_all('div',attrs={'data-testid': 'deal-card'}):\n",
    "        #print(resultado.h2.span.get_text())\n",
    "        #print(resultado.h2.span.get_text(), resultado.find('span','a-offscreen').get_text(),sep=':')\n",
    "       \n",
    "          #data = regex.search(r'.*Oferta: (.*) (.*$)', produto['aria-label'])\n",
    "        #print(data.group(1),data.group(2),sep=':')\n",
    "        #print(produto['aria-label'])\n",
    "          #preco = data.group(2) if data.group(2) != \"desconto\" else 'anúncio'\n",
    "          #produtos.append([data.group(1),preco ])\n",
    "  #       produtos.append([produto])\n",
    "        #data = resultado.a\n",
    "        #print(data.find('a',attrs={'class': ['a-link-normal']}))\n",
    "  \n",
    " "
   ]
  },
  {
   "cell_type": "code",
   "execution_count": 13,
   "metadata": {},
   "outputs": [],
   "source": [
    " def buscarTodosProdutos(pagina):\n",
    "        for resultado in pagina:\n",
    "                for descricao in resultado.find_all('div',attrs={'class':['a-section','a-spacing-none']}):\n",
    "                      \n",
    "                #print(descricao.h2.a.span.text)\n",
    "                #print(descricao)\n",
    "                   for preco in descricao.find_all('span','a-offscreen'):\n",
    "                #if preco:\n",
    "                    if descricao.h2:\n",
    "                    \n",
    "                    #print(descricao.h2.a.span.get_text().strip(),preco.get_text().strip(),sep=':')\n",
    "                        produtos.append([descricao.h2.a.span.get_text().strip(),preco.get_text().strip(),datetime.datetime.now()])\n",
    "        \n",
    "        return produtos\n",
    "    \n",
    "def getNextPage(site):\n",
    "      next_page = site.find('ul',attrs={'class':'a-pagination'})\n",
    "      i = 1\n",
    "     \n",
    "      if not next_page.find('li',{'class': 'a-disable a-last'}):\n",
    "            if len(next_page.find_all('li'))>0:\n",
    "                extra = str(site.find('li','a-last').find('a')['href']) if site.find('li','a-last').find('a') != None else '' \n",
    "                url = URL + extra\n",
    "                i+=1\n",
    "            if i>6:\n",
    "                return \n",
    "            else:\n",
    "                return url\n",
    "      else:\n",
    "            return\n",
    "        "
   ]
  },
  {
   "cell_type": "code",
   "execution_count": 14,
   "metadata": {},
   "outputs": [],
   "source": [
    "#resultados = soap2.find_all('div',attrs={'data-testid': 'grid-deals-container'})"
   ]
  },
  {
   "cell_type": "code",
   "execution_count": null,
   "metadata": {},
   "outputs": [],
   "source": []
  },
  {
   "cell_type": "code",
   "execution_count": null,
   "metadata": {},
   "outputs": [],
   "source": []
  },
  {
   "cell_type": "code",
   "execution_count": null,
   "metadata": {},
   "outputs": [],
   "source": []
  },
  {
   "cell_type": "code",
   "execution_count": 15,
   "metadata": {},
   "outputs": [],
   "source": [
    "while True:\n",
    "  next_page = site.find('ul',attrs={'class':'a-pagination'})\n",
    "  if next_page!=None:\n",
    "     url = getNextPage(site)\n",
    "     if not url: \n",
    "        break\n",
    "     else:\n",
    "        drive.get(url)\n",
    "        source = drive.page_source\n",
    "        site_data = BeautifulSoup(source,'html.parser')\n",
    "        site = BeautifulSoup(site_data.prettify(),'html.parser')\n",
    "        pagina = getData(site)\n",
    "        buscarTodosProdutos(pagina)\n",
    "  else:\n",
    "    break\n",
    "    "
   ]
  },
  {
   "cell_type": "code",
   "execution_count": null,
   "metadata": {},
   "outputs": [],
   "source": []
  },
  {
   "cell_type": "code",
   "execution_count": null,
   "metadata": {},
   "outputs": [],
   "source": []
  },
  {
   "cell_type": "code",
   "execution_count": null,
   "metadata": {},
   "outputs": [],
   "source": []
  },
  {
   "cell_type": "code",
   "execution_count": null,
   "metadata": {},
   "outputs": [],
   "source": [
    " "
   ]
  },
  {
   "cell_type": "code",
   "execution_count": null,
   "metadata": {},
   "outputs": [],
   "source": []
  },
  {
   "cell_type": "code",
   "execution_count": null,
   "metadata": {},
   "outputs": [],
   "source": []
  },
  {
   "cell_type": "code",
   "execution_count": 16,
   "metadata": {},
   "outputs": [],
   "source": [
    "#produtos = []\n",
    "#Oferta: As mil partes do meu coração; Preço da oferta: R$23,50\n",
    "\n",
    "#for resultado in resultados:\n",
    " #    for produto in resultado.find_all('div',attrs={'data-testid': 'deal-card'}):\n",
    "    #print(resultado.h2.span.get_text())\n",
    "    #print(resultado.h2.span.get_text(), resultado.find('span','a-offscreen').get_text(),sep=':')\n",
    "       \n",
    "  #      data = regex.search(r'.*Oferta: (.*) (.*$)', produto['aria-label'])\n",
    "        #print(data.group(1),data.group(2),sep=':')\n",
    "        #print(produto['aria-label'])\n",
    "   #     preco = data.group(2) if data.group(2) != \"desconto\" else 'anúncio'\n",
    "   #     produtos.append([data.group(1),preco ])\n",
    "        #data = resultado.a\n",
    "        #print(data.find('a',attrs={'class': ['a-link-normal']}))\n"
   ]
  },
  {
   "cell_type": "code",
   "execution_count": 17,
   "metadata": {},
   "outputs": [],
   "source": [
    "df_produtos = pd.DataFrame(produtos,columns=[\"Livro\",\"Preco\",\"Data\"])\n",
    "df_produtos['Livro'] = df_produtos['Livro'].str.strip()\n",
    "df_produtos['Preco'] = df_produtos['Preco'].str.strip().apply(lambda v: locale.atof(v.split()[-1]) )\n",
    "df_produtos = df_produtos.drop_duplicates(inplace=False)"
   ]
  },
  {
   "cell_type": "code",
   "execution_count": 18,
   "metadata": {},
   "outputs": [],
   "source": [
    "#df_produtos['Preco'] = df_produtos['Preco'].str.strip().astype(float)\n",
    "df_produtos['Data'] = df_produtos['Data'].dt.strftime('%d-%m-%Y')"
   ]
  },
  {
   "cell_type": "code",
   "execution_count": null,
   "metadata": {},
   "outputs": [],
   "source": []
  },
  {
   "cell_type": "code",
   "execution_count": 19,
   "metadata": {},
   "outputs": [
    {
     "data": {
      "text/plain": [
       "Livro     object\n",
       "Preco    float64\n",
       "Data      object\n",
       "dtype: object"
      ]
     },
     "execution_count": 19,
     "metadata": {},
     "output_type": "execute_result"
    }
   ],
   "source": [
    "df_produtos.dtypes"
   ]
  },
  {
   "cell_type": "code",
   "execution_count": 36,
   "metadata": {},
   "outputs": [
    {
     "data": {
      "text/html": [
       "<div><div id=61521749-fbc6-49be-ab91-13cc9af9a86e style=\"display:none; background-color:#9D6CFF; color:white; width:200px; height:30px; padding-left:5px; border-radius:4px; flex-direction:row; justify-content:space-around; align-items:center;\" onmouseover=\"this.style.backgroundColor='#BA9BF8'\" onmouseout=\"this.style.backgroundColor='#9D6CFF'\" onclick=\"window.commands?.execute('create-mitosheet-from-dataframe-output');\">See Full Dataframe in Mito</div> <script> if (window.commands.hasCommand('create-mitosheet-from-dataframe-output')) document.getElementById('61521749-fbc6-49be-ab91-13cc9af9a86e').style.display = 'flex' </script> <table border=\"1\" class=\"dataframe\">\n",
       "  <thead>\n",
       "    <tr style=\"text-align: right;\">\n",
       "      <th></th>\n",
       "      <th>Livro</th>\n",
       "      <th>Preco</th>\n",
       "      <th>Data</th>\n",
       "    </tr>\n",
       "  </thead>\n",
       "  <tbody>\n",
       "    <tr>\n",
       "      <th>0</th>\n",
       "      <td>Guerra e paz</td>\n",
       "      <td>168.09</td>\n",
       "      <td>17-11-2021</td>\n",
       "    </tr>\n",
       "    <tr>\n",
       "      <th>1</th>\n",
       "      <td>Guerra e paz</td>\n",
       "      <td>212.90</td>\n",
       "      <td>17-11-2021</td>\n",
       "    </tr>\n",
       "    <tr>\n",
       "      <th>2</th>\n",
       "      <td>Guerra e paz</td>\n",
       "      <td>168.09</td>\n",
       "      <td>17-11-2021</td>\n",
       "    </tr>\n",
       "    <tr>\n",
       "      <th>3</th>\n",
       "      <td>Guerra e paz</td>\n",
       "      <td>212.90</td>\n",
       "      <td>17-11-2021</td>\n",
       "    </tr>\n",
       "    <tr>\n",
       "      <th>4</th>\n",
       "      <td>O Jeito Harvard de Ser Feliz: O curso mais concorrido da melhor universidade do mundo</td>\n",
       "      <td>24.50</td>\n",
       "      <td>17-11-2021</td>\n",
       "    </tr>\n",
       "  </tbody>\n",
       "</table></div>"
      ],
      "text/plain": [
       "                                               Livro   Preco        Data\n",
       "0                                       Guerra e paz  168.09  17-11-2021\n",
       "1                                       Guerra e paz  212.90  17-11-2021\n",
       "2                                       Guerra e paz  168.09  17-11-2021\n",
       "3                                       Guerra e paz  212.90  17-11-2021\n",
       "4  O Jeito Harvard de Ser Feliz: O curso mais con...   24.50  17-11-2021"
      ]
     },
     "execution_count": 36,
     "metadata": {},
     "output_type": "execute_result"
    }
   ],
   "source": [
    "df_produtos.head(5)"
   ]
  },
  {
   "cell_type": "code",
   "execution_count": 21,
   "metadata": {},
   "outputs": [
    {
     "data": {
      "text/plain": [
       "Livro    930\n",
       "Preco    930\n",
       "Data     930\n",
       "dtype: int64"
      ]
     },
     "execution_count": 21,
     "metadata": {},
     "output_type": "execute_result"
    }
   ],
   "source": [
    "df_produtos.count()"
   ]
  },
  {
   "cell_type": "code",
   "execution_count": 37,
   "metadata": {},
   "outputs": [],
   "source": [
    "# Exportar\n",
    "\n",
    "df_produtos.to_excel('LivrosAmazon.xlsx',index=False)"
   ]
  },
  {
   "cell_type": "code",
   "execution_count": null,
   "metadata": {},
   "outputs": [],
   "source": []
  },
  {
   "cell_type": "code",
   "execution_count": null,
   "metadata": {},
   "outputs": [],
   "source": []
  },
  {
   "cell_type": "code",
   "execution_count": null,
   "metadata": {},
   "outputs": [],
   "source": []
  },
  {
   "cell_type": "code",
   "execution_count": 22,
   "metadata": {},
   "outputs": [],
   "source": [
    "#item = resultados[0]"
   ]
  },
  {
   "cell_type": "code",
   "execution_count": 23,
   "metadata": {},
   "outputs": [],
   "source": [
    "#name = item.h2.a"
   ]
  },
  {
   "cell_type": "code",
   "execution_count": 24,
   "metadata": {},
   "outputs": [],
   "source": [
    "#name.text.strip()"
   ]
  },
  {
   "cell_type": "code",
   "execution_count": 25,
   "metadata": {},
   "outputs": [],
   "source": [
    "#div_price = item.find('span','a-price')\n",
    "#price = div_price.find('span','a-offscreen').get_text()\n"
   ]
  },
  {
   "cell_type": "code",
   "execution_count": 26,
   "metadata": {},
   "outputs": [],
   "source": [
    "#price.strip()[3:]"
   ]
  },
  {
   "cell_type": "code",
   "execution_count": 27,
   "metadata": {},
   "outputs": [],
   "source": [
    "#review = item.find('span', { 'class': 'a-size-base', 'dir': 'auto'})"
   ]
  },
  {
   "cell_type": "code",
   "execution_count": null,
   "metadata": {},
   "outputs": [],
   "source": []
  },
  {
   "cell_type": "code",
   "execution_count": null,
   "metadata": {},
   "outputs": [],
   "source": []
  },
  {
   "cell_type": "code",
   "execution_count": null,
   "metadata": {},
   "outputs": [],
   "source": []
  },
  {
   "cell_type": "markdown",
   "metadata": {},
   "source": [
    "## Acessando informações da page"
   ]
  },
  {
   "cell_type": "code",
   "execution_count": 28,
   "metadata": {},
   "outputs": [],
   "source": [
    "#titulo = soap2.find(id='productTitle').get_text() \n",
    "#preco_promocional = soap2.find(id='price').get_text()\n",
    "#preco_normal = soap2.find(id='listPrice').get_text()"
   ]
  },
  {
   "cell_type": "code",
   "execution_count": 29,
   "metadata": {},
   "outputs": [],
   "source": [
    "#titulo = titulo.strip()\n",
    "#preco_promocional = preco_promocional.strip()[3:]\n",
    "#preco_normal = preco_normal.strip()[3:]"
   ]
  },
  {
   "cell_type": "code",
   "execution_count": null,
   "metadata": {},
   "outputs": [],
   "source": []
  },
  {
   "cell_type": "markdown",
   "metadata": {},
   "source": [
    "# Salvar dados no csv"
   ]
  },
  {
   "cell_type": "code",
   "execution_count": 30,
   "metadata": {},
   "outputs": [],
   "source": [
    "#import csv"
   ]
  },
  {
   "cell_type": "code",
   "execution_count": 31,
   "metadata": {},
   "outputs": [],
   "source": [
    "#header = ['nome','preco','preco_promocional','data']\n",
    "#produtos = [titulo,preco_normal,preco_promocional,datetime.datetime.today()]"
   ]
  },
  {
   "cell_type": "code",
   "execution_count": 32,
   "metadata": {},
   "outputs": [],
   "source": [
    "#with open('produtos.csv','w',newline='',encoding='UTF-8') as file:\n",
    "#     write = csv.writer(file)\n",
    "#     write.writerow(header)\n",
    "#     write.writerow(produtos)\n",
    "    "
   ]
  },
  {
   "cell_type": "code",
   "execution_count": null,
   "metadata": {},
   "outputs": [],
   "source": []
  },
  {
   "cell_type": "markdown",
   "metadata": {},
   "source": [
    "# Carregar arquivo para análise com pandas"
   ]
  },
  {
   "cell_type": "code",
   "execution_count": 33,
   "metadata": {},
   "outputs": [],
   "source": [
    "#import pandas as pd"
   ]
  },
  {
   "cell_type": "code",
   "execution_count": 34,
   "metadata": {},
   "outputs": [],
   "source": [
    "#df = pd.read_csv('produtos.csv')"
   ]
  },
  {
   "cell_type": "code",
   "execution_count": 35,
   "metadata": {},
   "outputs": [],
   "source": [
    "#df.head()"
   ]
  },
  {
   "cell_type": "code",
   "execution_count": null,
   "metadata": {},
   "outputs": [],
   "source": []
  },
  {
   "cell_type": "code",
   "execution_count": null,
   "metadata": {},
   "outputs": [],
   "source": []
  },
  {
   "cell_type": "code",
   "execution_count": null,
   "metadata": {},
   "outputs": [],
   "source": []
  },
  {
   "cell_type": "code",
   "execution_count": null,
   "metadata": {},
   "outputs": [],
   "source": []
  }
 ],
 "metadata": {
  "kernelspec": {
   "display_name": "Python 3",
   "language": "python",
   "name": "python3"
  },
  "language_info": {
   "codemirror_mode": {
    "name": "ipython",
    "version": 3
   },
   "file_extension": ".py",
   "mimetype": "text/x-python",
   "name": "python",
   "nbconvert_exporter": "python",
   "pygments_lexer": "ipython3",
   "version": "3.8.10"
  }
 },
 "nbformat": 4,
 "nbformat_minor": 4
}
