{
 "cells": [
  {
   "cell_type": "code",
   "execution_count": 42,
   "metadata": {},
   "outputs": [],
   "source": [
    "import pandas as pd\n",
    "import numpy as np\n",
    "import statistics as sts"
   ]
  },
  {
   "cell_type": "code",
   "execution_count": null,
   "metadata": {},
   "outputs": [],
   "source": []
  },
  {
   "cell_type": "markdown",
   "metadata": {},
   "source": [
    "# Livro de referência \n",
    "\n",
    " - [ Estatistica basica / Geraldo Luciano Toledo, Ivo Izidoro Ovalle](https://biblioteca.ibge.gov.br/biblioteca-catalogo?id=222461&view=detalhes)\n",
    " - [Material de refêrencia](https://github.com/janiosl/python.ds)"
   ]
  },
  {
   "cell_type": "markdown",
   "metadata": {},
   "source": [
    "## Info\n",
    "Quando se pretende empreender um estudo estatistico completo,\n",
    "existem diversas fases do trabalho que devem ser desenvolvidas para se chegar\n",
    "aos resultados finais do estudo. Essas etapas ou opera9oes sao chamadas fases\n",
    "20 do trabalho estatistico e sao de ambito da Estatistica Descritiva.\n",
    "\n",
    "### As fases principais sao as seguintes:\n",
    "    - Definição do Problema\n",
    "    - Planejamento\n",
    "    - Coleta dos Dados\n",
    "    - Apuração dos Dados\n",
    "    - Apresentação dos Dados\n",
    "    - Análise e Interpretação de Dados\n",
    "    "
   ]
  },
  {
   "cell_type": "code",
   "execution_count": null,
   "metadata": {},
   "outputs": [],
   "source": []
  },
  {
   "cell_type": "markdown",
   "metadata": {},
   "source": [
    "# MEDIDAS ESTATÍSTICAS\n",
    "     - Medidas de posição: média, mediana e moda\n",
    "     - Quartis, decis e percentis\n",
    "     - Medidas de dispersão: amplitude, desvio médio, variância, desvio padrão e coeficiente de variação \n",
    "     \n",
    "     \n",
    "A moda, a media aritmetica e a mediana sao as tres medidas de\n",
    "tendencia central ou promedios mais utilizados para resumir o conjunto de valores representativos do fenomeno que se deseja estudar. Outros promedios\n",
    "menos usados sao a media geometrica, harmonica, quadratica, cilbica e\n",
    "biquadratica. "
   ]
  },
  {
   "cell_type": "code",
   "execution_count": null,
   "metadata": {},
   "outputs": [],
   "source": []
  },
  {
   "cell_type": "markdown",
   "metadata": {},
   "source": [
    "## 1- Média\n",
    "\n",
    "A medida de tendencia central mais comumente usada para descrever\n",
    "resumidamente uma distribuii;ao de freqiiencias e a media, ou mais propriamente, a media aritmetica. Ha varios tipos de medias, os quais serao examinados a seguir: \n",
    "   - media \n",
    "   - aritmetica\n",
    "   - media geometrica\n",
    "   - media harmonica\n",
    "   - media quadratica\n",
    "   - media cubica\n",
    "   - media biquadratica\n",
    "    \n"
   ]
  },
  {
   "cell_type": "markdown",
   "metadata": {},
   "source": [
    "## 1.1- Media Aritmética\n",
    "\n",
    "A média aritmética é a mais conhecida devido a frequência com que dela se utiliza. \n",
    "\n",
    "Existem dois tipos de médias aritmeticas que são:\n",
    "   - Media Aritmetica Simples \n",
    "   - Media Aritmetica Ponderada\n",
    "  \n",
    "Media Aritmetica Simples\n",
    "\n",
    " A media aritmetica simples de um conjunto de numeros e igual ao quociente entre a soma dos valores do conjunto e o numero total de valores.\n",
    " \n",
    " Media Aritmetica Ponderada\n",
    " \n",
    "  A media aritmetica e considerada ponderada quando os valores do\n",
    "conjunto tiverem pesos diferentes. Tratando-se de media simples, todos OS\n",
    "valores apresentam igual peso. Obtem-se uma media aritmetica ponderada\n",
    "atraves do quociente entre o produto dos valores da variavel pelos respectivos\n",
    "pesos e a soma dos pesos. \n",
    "\n",
    " por exemplo, um professor pode realizar quatro provas por\n",
    "ano em sua materia, atribuindo a cada uma delas os seguintes pesos: 1, 2, 3, 4 .\n",
    ". Se um aluno tiver recebido as notas 8, 7; 9 e 9, nessa ordem, sua nota\n",
    "final sera a media aritmetica ponderada 8,5"
   ]
  },
  {
   "cell_type": "code",
   "execution_count": 40,
   "metadata": {},
   "outputs": [],
   "source": [
    "### Media Aritmética Simples \n",
    "\n",
    "x = [800,780,820,810,790]\n",
    "n = len(x)\n",
    "#x_total= sum(x)\n",
    "x_total = 0\n",
    "\n",
    "for xi in x:\n",
    "    x_total = x_total + xi\n",
    "\n",
    "x_medio = x_total/n\n",
    "#x_medio = x_total/len(x)"
   ]
  },
  {
   "cell_type": "code",
   "execution_count": 41,
   "metadata": {},
   "outputs": [
    {
     "name": "stdout",
     "output_type": "stream",
     "text": [
      "Média Simples é : 800.0\n"
     ]
    }
   ],
   "source": [
    "print('Média Simples é :', x_medio)"
   ]
  },
  {
   "cell_type": "code",
   "execution_count": null,
   "metadata": {},
   "outputs": [],
   "source": []
  },
  {
   "cell_type": "code",
   "execution_count": 33,
   "metadata": {},
   "outputs": [],
   "source": [
    "### Média Aritmética Ponderada\n",
    "\n",
    "notas = [8,7,9,9]\n",
    "pesos = [1,2,3,4]\n",
    "pesos_total = 0\n",
    "notas_total = 0\n",
    "\n",
    "for (xi,p) in zip (notas, pesos):\n",
    "    notas_total = notas_total + xi*p \n",
    "    pesos_total = pesos_total + p\n",
    "    \n",
    "nota_media = notas_total/pesos_total\n"
   ]
  },
  {
   "cell_type": "code",
   "execution_count": 34,
   "metadata": {},
   "outputs": [
    {
     "name": "stdout",
     "output_type": "stream",
     "text": [
      "Média Ponderada é : 8.5\n"
     ]
    }
   ],
   "source": [
    "print('Média Ponderada é :', nota_media)"
   ]
  },
  {
   "cell_type": "code",
   "execution_count": null,
   "metadata": {},
   "outputs": [],
   "source": []
  },
  {
   "cell_type": "markdown",
   "metadata": {},
   "source": [
    "## 1.2 Média Harmônica e Média Harmônica Ponderada\n"
   ]
  },
  {
   "cell_type": "code",
   "execution_count": null,
   "metadata": {},
   "outputs": [],
   "source": []
  }
 ],
 "metadata": {
  "kernelspec": {
   "display_name": "Python 3",
   "language": "python",
   "name": "python3"
  },
  "language_info": {
   "codemirror_mode": {
    "name": "ipython",
    "version": 3
   },
   "file_extension": ".py",
   "mimetype": "text/x-python",
   "name": "python",
   "nbconvert_exporter": "python",
   "pygments_lexer": "ipython3",
   "version": "3.8.10"
  }
 },
 "nbformat": 4,
 "nbformat_minor": 4
}
