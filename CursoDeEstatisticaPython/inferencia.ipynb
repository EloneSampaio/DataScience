{
 "cells": [
  {
   "cell_type": "markdown",
   "metadata": {},
   "source": [
    "# Inferencia Estatística"
   ]
  },
  {
   "cell_type": "markdown",
   "metadata": {},
   "source": [
    "## Bibliotecas Necessárias"
   ]
  },
  {
   "cell_type": "code",
   "execution_count": 1,
   "metadata": {},
   "outputs": [],
   "source": [
    "import pandas as pd\n",
    "import random\n",
    "import numpy as np\n",
    "import math\n",
    "import matplotlib.pyplot as plt\n",
    "import scipy.stats as stats\n",
    "import statistics as sts"
   ]
  },
  {
   "cell_type": "markdown",
   "metadata": {},
   "source": [
    "## Inferência Estatística e Amostragem"
   ]
  },
  {
   "cell_type": "markdown",
   "metadata": {},
   "source": [
    "### Definição\n",
    "\n",
    "Inferência estatística é uma área da Estatística cujo objetivo é fazer afirmações a partir de um\n",
    "conjunto de valores representativos (amostra) sobre um universo e se assume que a amostra é muito\n",
    "maior do que o conjunto de dados observados. Esta afirmação deve sempre vir acompanhada de\n",
    "uma medida de precisão sobre sua veracidade. Para realizar este trabalho, o estatístico coleta\n",
    "informações de dois tipos: experimentais (as amostras) e aquelas que obtém na literatura. As duas\n",
    "principais escolas de inferência são a inferência frequentista (ou clássica) e a inferência bayesiana.\n",
    "\n",
    "\n",
    "Variável Aleatória:\n",
    "- Característico numérico do resultado de um experimento.\n",
    "- É a Função que associa a cada elemento do espaço amostral um número real.\n",
    "População e Amostra:\n",
    "\n",
    "- População é o conjunto de todos os elementos ou resultados de um problema que está\n",
    "sendo estudado.\n",
    "\n",
    "- Amostra é qualquer subconjunto da população que contém os elementos que podem ser\n",
    "observados e é onde as quantidades de interesse podem ser medidas.\n",
    "Parâmetros:\n",
    "\n",
    " - Característica numérica (desconhecida) da distribuição dos elementos da população.\n",
    "Estimador:\n",
    " - É a Função da amostra, construída com"
   ]
  },
  {
   "cell_type": "markdown",
   "metadata": {},
   "source": [
    "### Tamanho da Amostra\n",
    "\n",
    "- n = N*n0/N+n0\n",
    "onde:\n",
    "- N é o tamanho da população\n",
    "- n0 é o tamanho da amotra \n",
    "\n",
    "Definindo o erro amostral tolerável E0."
   ]
  },
  {
   "cell_type": "code",
   "execution_count": 22,
   "metadata": {},
   "outputs": [
    {
     "name": "stdout",
     "output_type": "stream",
     "text": [
      "Número da amostra de colaboradores:\n",
      " [1666.66666667 1111.11111111  714.28571429  476.19047619  333.33333333\n",
      "  243.90243902  185.18518519  144.92753623  116.27906977] \n",
      " Intervalo de confiança: [0.01 0.02 0.03 0.04 0.05 0.06 0.07 0.08 0.09]\n"
     ]
    },
    {
     "name": "stderr",
     "output_type": "stream",
     "text": [
      "/home/sam/.local/lib/python3.8/site-packages/numpy/core/fromnumeric.py:86: VisibleDeprecationWarning: Creating an ndarray from ragged nested sequences (which is a list-or-tuple of lists-or-tuples-or ndarrays with different lengths or shapes) is deprecated. If you meant to do this, you must specify 'dtype=object' when creating the ndarray.\n",
      "  return ufunc.reduce(obj, axis, dtype, out, **passkwargs)\n"
     ]
    }
   ],
   "source": [
    "## Exemplo\n",
    "### Em uma empresa que contém 2000 colaboradores, deseja-se fazer uma pesquisa de satisfação.\n",
    "### Quantos colaboradores devem ser entrevistados para tal estudo?\n",
    "\n",
    "N=2000\n",
    "\n",
    "#E0 = 0.02\n",
    "E0 = np.arange(0.01,0.1,0.01)\n",
    "n0 =np.zeros(len(E0))\n",
    "n0 = 1 / (E0**2)\n",
    "n = np.divide(np.multiply(N,n0),np.sum((N,n0)))\n",
    "print(\"Número da amostra de colaboradores:\\n\", n, \"\\n Intervalo de confiança:\",E0)"
   ]
  },
  {
   "cell_type": "code",
   "execution_count": 42,
   "metadata": {},
   "outputs": [
    {
     "name": "stdout",
     "output_type": "stream",
     "text": [
      "Número da amostra de colaboradores:\n",
      " [385. 476. 517.] \n",
      " Intervalo de confiança: 0.04\n"
     ]
    },
    {
     "name": "stderr",
     "output_type": "stream",
     "text": [
      "/home/sam/.local/lib/python3.8/site-packages/numpy/core/fromnumeric.py:86: VisibleDeprecationWarning: Creating an ndarray from ragged nested sequences (which is a list-or-tuple of lists-or-tuples-or ndarrays with different lengths or shapes) is deprecated. If you meant to do this, you must specify 'dtype=object' when creating the ndarray.\n",
      "  return ufunc.reduce(obj, axis, dtype, out, **passkwargs)\n"
     ]
    }
   ],
   "source": [
    "## Exemplo\n",
    "### Em uma empresa que contém 2000 colaboradores, deseja-se fazer uma pesquisa de satisfação.\n",
    "### Quantos colaboradores devem ser entrevistados para tal estudo?\n",
    "E0 = 0.04\n",
    "N = np.arange(1000,4000,1000)\n",
    "n0 =np.zeros(len(N))\n",
    "n0 = 1 / (E0**2)\n",
    "n = np.round(np.divide(np.multiply(N,n0),np.sum((N,n0))))\n",
    "print(\"Número da amostra de colaboradores:\\n\", n, \"\\n Intervalo de confiança:\",E0)"
   ]
  },
  {
   "cell_type": "markdown",
   "metadata": {},
   "source": [
    "## Intervalo de Confiança"
   ]
  },
  {
   "cell_type": "markdown",
   "metadata": {},
   "source": [
    "Definição:\n",
    "\n",
    "Em estatística, o intervalo de confiança (IC) é um tipo de estimativa por intervalo de um parâmetro\n",
    "populacional desconhecido. ]\n",
    "\n",
    "Introduzido na estatística por Jerzy Neyman em 1937, é um intervalo\n",
    "observado (calculado a partir de observações) que pode variar de amostra para amostra e que, com\n",
    "dada frequência (nível de confiança), inclui o parâmetro de interesse real não observável.\n",
    "\n",
    "#### INTERVALO DE CONFIANÇA PARA A MÉDIA\n",
    "Quando queremos estimar a média de uma população através de uma amostra temos dois casos\n",
    "distintos a considerar: quando a variância da população é conhecida e quando ela é desconhecida.\n",
    "A seguir, temos os dois casos.\n",
    "\n",
    "  - Variância Conhecida\n",
    "  - Variância Desconhecida "
   ]
  },
  {
   "cell_type": "markdown",
   "metadata": {},
   "source": [
    "### Variância Conhecida\n",
    "\n",
    "\n",
    " - 𝐼𝐶(𝜇, 1 − 𝛼) = (𝑋 − 𝑍 𝛼/2𝜎√𝑛; 𝑋 + 𝑍 𝛼/2𝜎√𝑛)\n",
    "\n",
    "Z 90% = 1,64 - Z 94% = 1,88 - Z 95% = 1,96 - Z 98% = 2,33 - Z 99% = 2,58"
   ]
  },
  {
   "cell_type": "code",
   "execution_count": 32,
   "metadata": {},
   "outputs": [
    {
     "name": "stdout",
     "output_type": "stream",
     "text": [
      "Intervalo de confiança: [18.03, 21.77]\n"
     ]
    }
   ],
   "source": [
    "### O projetista de uma indústria tomou uma amostra de 36 funcionários para verificar o tempo médio\n",
    "### gasto para montar um determinado brinquedo. Lembrando que foi verificado que x_medio=19,9 e 𝜎 =5,73\n",
    "### construir um intervalo de confiança de nível 95% para 𝜇.\n",
    "\n",
    "\n",
    "### Na tabela da distribuição normal padronizada, obtemos que Z_0,025 = 1,96.\n",
    "\n",
    "Z =1.96\n",
    "x_medio = 19.9\n",
    "desviopadrao = 5.73\n",
    "n = 36\n",
    "\n",
    "IC_esquerdo =round(x_medio - Z*(desviopadrao/np.sqrt(n)),2)\n",
    "IC_direto = round(x_medio + Z*(desviopadrao/np.sqrt(n)),2)\n",
    "IC = [IC_esquerdo, IC_direto]\n",
    "print(\"Intervalo de confiança:\", IC)\n",
    "\n",
    "#Uma das principais interpretações do intervalo de confiança consiste em avaliar a incerteza que\n",
    "#temos a respeito de estimarmos o parâmetro populacional 𝜇 a partir de uma amostra aleatória de\n",
    "#tamanho n ."
   ]
  },
  {
   "cell_type": "markdown",
   "metadata": {},
   "source": [
    "### Variância Desconhecida\n",
    "\n",
    "Tendo os conceitos básicos sobre intervalos de confiança, vamos agora tratar uma situação mais\n",
    "realista: quando a variância 𝜎 2 da população é desconhecida.\n",
    "\n",
    "𝑋− 𝜇𝑇=𝑠/√𝑛~ 𝑡 (𝑛−1)\n",
    "\n",
    "Isto representa que a variável T tem distribuição t de Student com n-1 graus de liberdade.\n",
    "Analogamente ao caso anterior, obtemos que:\n",
    "\n",
    "ℙ (−𝑡 ((𝑛−1),𝛼/2) ≤𝑋−𝜇𝑠/√𝑛≤ 𝑡 ((𝑛−1),𝛼/2) ) = 1 − 𝛼"
   ]
  },
  {
   "cell_type": "code",
   "execution_count": 41,
   "metadata": {},
   "outputs": [
    {
     "name": "stdout",
     "output_type": "stream",
     "text": [
      "Média: 21.391438888888885 \n",
      "Desvio padrão: 5.312624233280875\n",
      "Intervalo de confiança: [19.59, 23.19]\n"
     ]
    }
   ],
   "source": [
    "#Consideremos que o projetista de uma indústria tomou uma amostra de 36 funcionários para\n",
    "#verificar o tempo médio gasto para montar um determinado brinquedo. Os tempos estão colocados\n",
    "#na Tabela a seguir. Dado que o projetista não tem conhecimento da variabilidade da população,\n",
    "#construir um intervalo de confiança com (1 − 𝛼) = 0,95 para a média 𝜇\n",
    "\n",
    "dados =  np.array([17.1000, 16.8930, 14.6004, 13.0053,\n",
    "29.6292, 19.2500, 17.7504, 24.6337,\n",
    "29.3567, 25.0798, 16.7914, 29.4087,\n",
    "23.8807, 15.2133, 19.1536, 30.3199,\n",
    "13.0050, 24.6795, 29.3308, 20.7309,\n",
    "16.4541, 26.2017, 21.7857, 19.7393,\n",
    "24.6042, 18.6442, 21.2594, 26.9123,\n",
    "16.9896, 32.8977, 21.3627, 15.4958,\n",
    "18.3113, 23.6931, 19.5429, 16.3855])\n",
    "\n",
    "x_media=dados.mean()\n",
    "desviopadrao = dados.std()\n",
    "Z = (x_media - desviopadrao)/\n",
    "print(\"Média:\", x_media, \"\\nDesvio padrão:\", desviopadrao)\n",
    "T = 2.03\n",
    "\n",
    "#Substituindo esses valores na fórmula do intervalo de confiança temos que:\n",
    "IC_esquerda = round(x_media -  T*(desviopadrao/np.sqrt(n)),2)\n",
    "IC_direto = round(x_media +  T*(desviopadrao/np.sqrt(n)),2)\n",
    "print(\"Intervalo de confiança:\", [IC_esquerda, IC_direto])"
   ]
  },
  {
   "cell_type": "markdown",
   "metadata": {},
   "source": [
    "### INTERVALO DE CONFIANÇA PARA A PROPORÇÃO\n",
    "\n",
    "Consideremos X a variável aleatória que representa a presença (ou não) de determinada\n",
    "característica de uma população. Assim, temos que X tem distribuição de Bernoulli com\n",
    "parâmetro P , no qual P representa a probabilidade de um determinado elemento da amostra ter a\n",
    "característica de interesse.\n",
    " \n",
    " - Retiramos uma amostra aleatória 𝑋1 , … , 𝑋 𝑛 desta população. Cada\n",
    " - 𝑋𝑖 , 𝑖 = 1, … , 𝑛 tem distribuição de Bernoulli com parâmetro P , isto é,\n",
    " - com média 𝜇 = 𝑝 e variância 𝜎 2 = 𝑝(1 − 𝑝)\n",
    " - Neste caso, o estimador de máxima verossimilhança(𝑝̂ ) para o parâmetro populacional p é dado\n",
    "por:\n",
    "\n",
    " - Utilizaremos três métodos diferentes para encontrar o intervalo de confiança para a proporção:\n",
    "Aproximação Normal, Aproximação Normal com Correção de Continuidade e Binomial Exata."
   ]
  },
  {
   "cell_type": "code",
   "execution_count": 46,
   "metadata": {},
   "outputs": [
    {
     "name": "stdout",
     "output_type": "stream",
     "text": [
      "Intervalo de confiança: [0.07520359553267528, 0.119082118753039]\n"
     ]
    }
   ],
   "source": [
    "#Numa amostra aleatória de tamanho n=700 foram encontrados 68 elementos defeituosos. Achar um\n",
    "#intervalo de confiança de nível 95% para a proporção p de defeituosos.\n",
    "N = 700\n",
    "n = 68\n",
    "confianca = 0.95\n",
    "alfa = 1 - confianca\n",
    "Z_0025 = 1.96\n",
    "p = n/N\n",
    "IC_direto = p+Z_0025*np.sqrt(p*(1-p)/N)\n",
    "IC_esquerdo = p-Z_0025*np.sqrt(p*(1-p)/N)\n",
    "IC = [IC_esquerdo, IC_direto]\n",
    "print(\"Intervalo de confiança:\", IC)"
   ]
  },
  {
   "cell_type": "markdown",
   "metadata": {},
   "source": [
    "### INTERVALO DE CONFIANÇA PARA A VARIÂNCIA:\n",
    "\n",
    "Consideremos uma amostra aleatória 𝑋1, … , 𝑋𝑛 de tamanho n de uma população com distribuição\n",
    "normal com média 𝜇 e variância 𝜎^2 . Um estimador para 𝜎^2 é a variância amostral 𝑠^2 . Assim,\n",
    "sabemos que a quantidade pivô é:\n",
    "\n",
    "- Logo, o intervalo com nível 100(1 − 𝛼)% de confiança para 𝜎^2 será dado por"
   ]
  },
  {
   "cell_type": "code",
   "execution_count": 58,
   "metadata": {},
   "outputs": [
    {
     "name": "stdout",
     "output_type": "stream",
     "text": [
      "11\n",
      "100.0\n",
      "8\n",
      "Intervalo de confiança: 11\n",
      "Intervalo de confiança: [3.90625, 24.615384615384617]\n"
     ]
    }
   ],
   "source": [
    "#O peso de componentes mecânicos produzidos por uma determinada empresa é uma variável\n",
    "#aleatória que se supõe ter distribuição normal. Pretende-se estudar a variabilidade do peso dos\n",
    "#referidos componentes. Para isso, uma amostra de tamanho 11 foi obtida, cujos valores em grama\n",
    "#são:\n",
    "#98 97 102 100 98 101 102 105 95 102 100\n",
    "#Construa um intervalo de confiança para a variância do peso, com um grau de confiança igual a\n",
    "#95%.\n",
    "\n",
    "dados =np.array([98, 97, 102, 100, 98, 101, 102, 105, 95, 102, 100])\n",
    "n = len(dados)\n",
    "x_media = dados.mean()\n",
    "desviopadrao = sts.variance(dados)\n",
    "confianca = 0.95\n",
    "#Pela Tabela da distribuição qui-quadrado com 10 graus de liberdade, temos que:\n",
    "alfa = 1 - confianca\n",
    "Q0025 = 3.25\n",
    "Q0975 = 20.48\n",
    "IC_esquerdo = ((n-1)*desviopadrao)/Q0975\n",
    "IC_direto = ((n-1)*desviopadrao)/Q0025\n",
    "\n",
    "IC = [IC_esquerdo, IC_direto]\n",
    "print(n)\n",
    "print(x_media)\n",
    "print(desviopadrao)\n",
    "print(\"Intervalo de confiança:\", n)\n",
    "print(\"Intervalo de confiança:\", IC)"
   ]
  },
  {
   "cell_type": "code",
   "execution_count": 59,
   "metadata": {},
   "outputs": [],
   "source": [
    "def calcula_numero_desvios_tstudent_para_confianca(confianca, tamanho_amostra):\n",
    "    mean = 0\n",
    "    std = 1\n",
    "    rv = stats.t(df=(tamanho_amostra-1))\n",
    "    return rv.interval(confianca)[1]"
   ]
  },
  {
   "cell_type": "code",
   "execution_count": 62,
   "metadata": {},
   "outputs": [
    {
     "data": {
      "text/plain": [
       "2.025570485160514"
      ]
     },
     "execution_count": 62,
     "metadata": {},
     "output_type": "execute_result"
    }
   ],
   "source": [
    "calcula_numero_desvios_tstudent_para_confianca(0.9545, 100)\n"
   ]
  },
  {
   "cell_type": "code",
   "execution_count": 63,
   "metadata": {},
   "outputs": [
    {
     "data": {
      "text/plain": [
       "2.6264054563851857"
      ]
     },
     "execution_count": 63,
     "metadata": {},
     "output_type": "execute_result"
    }
   ],
   "source": [
    "calcula_numero_desvios_tstudent_para_confianca(0.99, 100)\n"
   ]
  },
  {
   "cell_type": "markdown",
   "metadata": {},
   "source": [
    "### RESUMINDO\n",
    "Dada uma amostra, para calcular a margem de erro para dado grau de confiânça, faça o seguinte:\n",
    "\n",
    "1-Calcule a média da amostra ex. media_amostra = np.mean(amostra)\n",
    "\n",
    "2-Calcule o desvio da amostra ex. desvio_amostra = np.std(amostra)\n",
    "\n",
    "3-Calcule quantos desvios precisará para seu grau de confiânça ex. numero_desvios = calcula_numero_desvios_tstudent_para_confianca(confiança, tamanho_amostra)\n",
    "\n",
    "4-Calcule o desvio das amostras ex. desvio_amostras = desvio_amostra/np.sqrt(tamanho_amostra)\n",
    "\n",
    "5-Calcule a margem de erro ex. margem_erro = numero_desvios*desvio_amostras\n",
    "\n",
    "6-Calcule o intervalo ex. inferior = media_amostra-margem_erro, superior = media_amostra+margem_erro"
   ]
  },
  {
   "cell_type": "markdown",
   "metadata": {},
   "source": [
    "## Teste de Hipóteses"
   ]
  },
  {
   "cell_type": "markdown",
   "metadata": {},
   "source": [
    "Teste de Hipóteses é um procedimento que permite tomar uma decisão (aceitar ou rejeitar a\n",
    "hipótese nula ) entre duas ou mais hipóteses (hipótese nula ou hipótese alternativa ), utilizando os\n",
    "dados observados de um determinado experimento.\n",
    "\n",
    " Há diversos métodos para realizar o teste de hipóteses, dos quais se destacam o método de Fisher (teste de significância), o método de Neyman–Pearson e o método de Bayes.\n",
    "\n",
    " São dois os tipos de erros que podemos cometer na realização de um teste de hipóteses:\n",
    "  - Rejeitar a hipótese 𝐻 0 , quando ela é verdadeira.\n",
    "  - Não rejeitar a hipótese 𝐻 0 , quando ela é falsa.\n",
    "![](img/teste_h.png)\n",
    "\n",
    "Se a hipótese 𝐻0 for verdadeira e não rejeitada ou falsa e rejeitada, a decisão estará correta. No\n",
    "entanto, se a hipótese 𝐻0 for rejeitada sendo verdadeira ou se não for rejeitada sendo falsa, a\n",
    "decisão estará errada. O primeiro destes erros é chamado de Erro do Tipo I e a probabilidade de\n",
    "cometê-lo é denotada pela letra grega 𝛼(alfa); o segundo é chamado de Erro do Tipo II e a\n",
    "probabilidade de cometê-lo é denotada pela letra grega 𝛽 beta). Assim temos,\n",
    "\n",
    "![](img/teste_erro.png)"
   ]
  },
  {
   "cell_type": "markdown",
   "metadata": {},
   "source": [
    "### Testes de Hipóteses com média conhecida\n",
    "\n",
    "![](img/media.png)\n",
    "\n",
    "Vamos considerar que o erro mais importante a ser evitado seja o Erro do Tipo I. A probabilidade de\n",
    "ocorrer o erro do tipo I 𝜎 é denominada nível de significância do teste. O complementar do nível de\n",
    "significância (1 − 𝑎) é denominado nível de confiança. Supondo que o nível de significância 𝛼 seja\n",
    "conhecido, temos condições de determinar o(s) valor(es) crítico(s). \n",
    "\n",
    " - Se considerarmos o teste bilateral\n",
    "\n",
    "![](img/g1.png)\n",
    "\n",
    " - Se considerarmos o teste unilateral à direita\n",
    "\n",
    "\n",
    "![](img/g2.png)\n",
    "\n",
    " - Se consideramos o teste uniçateral à esquerda\n",
    "\n",
    "\n",
    "![](img/g3.png)\n",
    "\n",
    "Como foi dito inicialmente, o objetivo do teste de hipótese é determinar, através de uma estatística,\n",
    "se a hipótese nula é aceitável ou não. Essa decisão é tomada considerando a região de rejeição ou\n",
    "região crítica (RC). \n",
    "\n",
    "Caso o valor observado da estatística pertença à região de rejeição, rejeitamos 𝐻0 ; caso contrário, não rejeitamos 𝐻0. Analogamente, definimos a região de aceitação(complementar da região de rejeição): caso o valor observado pertença à região de aceitação, não rejeitamos 𝐻0 ; se não pertencer, rejeitamos.\n",
    "\n",
    "![](img/g4.png)"
   ]
  },
  {
   "cell_type": "code",
   "execution_count": 64,
   "metadata": {},
   "outputs": [
    {
     "name": "stdout",
     "output_type": "stream",
     "text": [
      "2.253744679276036\n"
     ]
    }
   ],
   "source": [
    "# Exercício 1\n",
    "#Um supervisor da qualidade quer testar, com base numa amostra aleatória de tamanho n = 35 e\n",
    "#para um nível de significância 𝛼 = 0,05, se a profundidade média de um furo numa determinada\n",
    "#peça é 72,4mm. O que podemos dizer se ele obteve 𝑋 = 73,2 mm e se sabe, de informações\n",
    "#anteriores, que 𝜎 = 2,1 mm?\n",
    "\n",
    "#Dados\n",
    "\n",
    "n = 35\n",
    "alfa = 0.05\n",
    "x_medio = 73.2\n",
    "media = 72.4\n",
    "desvio_padrao = 2.1\n",
    "\n",
    "#1. Primeiro vamos estabelecer as hipóteses:\n",
    "#𝐻0 ∶ 𝜇 = 72,4\n",
    "#𝐻1 : 𝜇 ≠ 72, 4\n",
    "\n",
    "# como o teste é bilateral temos que :\n",
    "Z_0025 = 1.96\n",
    "\n",
    "#Critério: rejeitar 𝐻0 se 𝑍𝑜𝑏𝑠 < −1,96 ou se 𝑍𝑜𝑏𝑠 >1,96 em que:\n",
    "\n",
    "Z_observado = (x_medio - media)/(desvio_padrao/np.sqrt(n))\n",
    "print(Z_observado)\n",
    "\n"
   ]
  },
  {
   "cell_type": "markdown",
   "metadata": {},
   "source": [
    "Conclusão: Como 𝑍𝑜𝑏𝑠 = 2,25 > 1,96, a hipótese nula deve ser rejeitada. Em outras palavras, não\n",
    "podemos assumir que a média populacional 𝜇 seja igual a 72,4, isto é, a diferença entre 73,2 e 72,4\n",
    "é significativa.\n"
   ]
  },
  {
   "cell_type": "code",
   "execution_count": null,
   "metadata": {},
   "outputs": [],
   "source": []
  },
  {
   "cell_type": "code",
   "execution_count": 73,
   "metadata": {},
   "outputs": [],
   "source": [
    "A = np.random.normal(25.0, 5.0, 10000)\n",
    "B = np.random.normal(26.0, 5.0, 10000)"
   ]
  },
  {
   "cell_type": "code",
   "execution_count": 74,
   "metadata": {},
   "outputs": [
    {
     "data": {
      "text/plain": [
       "Ttest_indResult(statistic=-13.667378837310217, pvalue=2.464559195550657e-42)"
      ]
     },
     "execution_count": 74,
     "metadata": {},
     "output_type": "execute_result"
    }
   ],
   "source": [
    "stats.ttest_ind(A, B)"
   ]
  },
  {
   "cell_type": "markdown",
   "metadata": {},
   "source": [
    "https://docs.scipy.org/doc/scipy/reference/tutorial/stats.html"
   ]
  }
 ],
 "metadata": {
  "interpreter": {
   "hash": "31f2aee4e71d21fbe5cf8b01ff0e069b9275f58929596ceb00d14d90e3e16cd6"
  },
  "kernelspec": {
   "display_name": "Python 3.8.10 64-bit",
   "language": "python",
   "name": "python3"
  },
  "language_info": {
   "codemirror_mode": {
    "name": "ipython",
    "version": 3
   },
   "file_extension": ".py",
   "mimetype": "text/x-python",
   "name": "python",
   "nbconvert_exporter": "python",
   "pygments_lexer": "ipython3",
   "version": "3.8.10"
  },
  "orig_nbformat": 4
 },
 "nbformat": 4,
 "nbformat_minor": 2
}
